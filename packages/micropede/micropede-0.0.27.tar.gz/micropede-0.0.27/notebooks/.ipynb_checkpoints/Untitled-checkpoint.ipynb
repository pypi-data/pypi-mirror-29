{
 "cells": [
  {
   "cell_type": "code",
   "execution_count": 1,
   "metadata": {},
   "outputs": [],
   "source": [
    "import sys, os\n",
    "sys.path.append(os.path.abspath('..'))"
   ]
  },
  {
   "cell_type": "code",
   "execution_count": 2,
   "metadata": {},
   "outputs": [
    {
     "ename": "SyntaxError",
     "evalue": "invalid syntax (async.py, line 16)",
     "output_type": "error",
     "traceback": [
      "\u001b[1;36m  File \u001b[1;32m\"A:\\Development\\microdrop-3\\Micropede\\packages\\python\\micropede\\async.py\"\u001b[1;36m, line \u001b[1;32m16\u001b[0m\n\u001b[1;33m    name = f'micropede-async-{uuid.uuid1()}-{uuid.uuid4()}'\u001b[0m\n\u001b[1;37m                                                          ^\u001b[0m\n\u001b[1;31mSyntaxError\u001b[0m\u001b[1;31m:\u001b[0m invalid syntax\n"
     ]
    }
   ],
   "source": [
    "import micropede.async"
   ]
  },
  {
   "cell_type": "code",
   "execution_count": 3,
   "metadata": {},
   "outputs": [],
   "source": [
    "a = micropede.async.MicropedeAsync('microdrop')\n",
    "wait_for = a.client.wait_for\n"
   ]
  },
  {
   "cell_type": "code",
   "execution_count": 4,
   "metadata": {},
   "outputs": [
    {
     "name": "stdout",
     "output_type": "stream",
     "text": [
      "SENDING MESSAGE microdrop/trigger/electrodes-model/get-subscriptions {'__head__': {'plugin_name': 'micropede-async-613004a4-06cc-11e8-a44e-12bef5622924-b58eb3d0-bd7a-4cf6-a1e8-7839698a26c2', 'version': '0.0.0'}}\n",
      "['microdrop/trigger/micropede-async-613004a4-06cc-11e8-a44e-12bef5622924-b58eb3d0-bd7a-4cf6-a1e8-7839698a26c2/get-subscriptions', 'microdrop/trigger/micropede-async-613004a4-06cc-11e8-a44e-12bef5622924-b58eb3d0-bd7a-4cf6-a1e8-7839698a26c2/exit', 'microdrop/electrodes-model/notify/micropede-async-613004a4-06cc-11e8-a44e-12bef5622924-b58eb3d0-bd7a-4cf6-a1e8-7839698a26c2/get-subscriptions']\n"
     ]
    }
   ],
   "source": [
    "wait_for(a.get_subscriptions('electrodes-model'))"
   ]
  },
  {
   "cell_type": "code",
   "execution_count": null,
   "metadata": {},
   "outputs": [],
   "source": []
  }
 ],
 "metadata": {
  "kernelspec": {
   "display_name": "Python 2",
   "language": "python",
   "name": "python2"
  },
  "language_info": {
   "codemirror_mode": {
    "name": "ipython",
    "version": 2
   },
   "file_extension": ".py",
   "mimetype": "text/x-python",
   "name": "python",
   "nbconvert_exporter": "python",
   "pygments_lexer": "ipython2",
   "version": "2.7.14"
  }
 },
 "nbformat": 4,
 "nbformat_minor": 2
}
