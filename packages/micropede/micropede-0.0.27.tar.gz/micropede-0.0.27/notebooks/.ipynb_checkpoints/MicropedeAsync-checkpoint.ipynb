{
 "cells": [
  {
   "cell_type": "code",
   "execution_count": 11,
   "metadata": {},
   "outputs": [],
   "source": [
    "import sys, os\n",
    "sys.path.append(os.path.abspath('..'))"
   ]
  },
  {
   "cell_type": "code",
   "execution_count": 12,
   "metadata": {},
   "outputs": [],
   "source": [
    "import micropede.async"
   ]
  },
  {
   "cell_type": "code",
   "execution_count": 13,
   "metadata": {},
   "outputs": [],
   "source": [
    "a = micropede.async.MicropedeAsync('microdrop')\n",
    "wait_for = a.client.wait_for\n"
   ]
  },
  {
   "cell_type": "code",
   "execution_count": 14,
   "metadata": {
    "scrolled": false
   },
   "outputs": [
    {
     "name": "stdout",
     "output_type": "stream",
     "text": [
      "{'__head__': {'plugin_name': 'micropede-async-14cf502e-06ec-11e8-9eb5-12bef5622924-415d68e2-aa6b-42ef-a475-eab9d52010d2', 'version': '0.0.0'}}\n"
     ]
    },
    {
     "data": {
      "text/plain": [
       "['microdrop/trigger/electrodes-model/get-subscriptions',\n",
       " 'microdrop/trigger/electrodes-model/exit',\n",
       " 'microdrop/put/electrodes-model/active-electrodes',\n",
       " 'microdrop/trigger/electrodes-model/toggle-electrode']"
      ]
     },
     "execution_count": 14,
     "metadata": {},
     "output_type": "execute_result"
    }
   ],
   "source": [
    "wait_for(a.get_subscriptions('electrodes-model'))"
   ]
  },
  {
   "cell_type": "code",
   "execution_count": 15,
   "metadata": {},
   "outputs": [
    {
     "data": {
      "text/plain": [
       "[]"
      ]
     },
     "execution_count": 15,
     "metadata": {},
     "output_type": "execute_result"
    }
   ],
   "source": [
    "wait_for(a.get_state('electrodes-model', 'active-electrodes'))"
   ]
  },
  {
   "cell_type": "code",
   "execution_count": 16,
   "metadata": {},
   "outputs": [
    {
     "name": "stdout",
     "output_type": "stream",
     "text": [
      "{'active-electrodes': []}\n",
      "{'active-electrodes': [], '__head__': {'plugin_name': 'micropede-async-14cf502e-06ec-11e8-9eb5-12bef5622924-415d68e2-aa6b-42ef-a475-eab9d52010d2', 'version': '0.0.0'}}\n"
     ]
    },
    {
     "data": {
      "text/plain": [
       "{'__head__': {'plugin_name': 'electrodes-model', 'plugin_version': '0.0.0'},\n",
       " 'response': [],\n",
       " 'status': 'success'}"
      ]
     },
     "execution_count": 16,
     "metadata": {},
     "output_type": "execute_result"
    }
   ],
   "source": [
    "wait_for(a.put_plugin('electrodes-model', 'active-electrodes', []))"
   ]
  },
  {
   "cell_type": "code",
   "execution_count": null,
   "metadata": {},
   "outputs": [],
   "source": []
  }
 ],
 "metadata": {
  "kernelspec": {
   "display_name": "Python 3",
   "language": "python",
   "name": "python3"
  },
  "language_info": {
   "codemirror_mode": {
    "name": "ipython",
    "version": 3
   },
   "file_extension": ".py",
   "mimetype": "text/x-python",
   "name": "python",
   "nbconvert_exporter": "python",
   "pygments_lexer": "ipython3",
   "version": "3.6.3"
  }
 },
 "nbformat": 4,
 "nbformat_minor": 2
}
