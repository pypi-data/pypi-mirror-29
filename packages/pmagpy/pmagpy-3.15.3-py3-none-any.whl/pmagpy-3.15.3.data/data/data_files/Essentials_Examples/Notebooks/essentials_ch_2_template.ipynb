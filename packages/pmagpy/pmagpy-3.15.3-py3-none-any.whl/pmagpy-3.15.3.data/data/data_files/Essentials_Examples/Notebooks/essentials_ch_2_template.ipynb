{
 "cells": [
  {
   "cell_type": "markdown",
   "metadata": {},
   "source": [
    "## Jupyter Notebook for turning in solutions to the problems in the Essentials of Paleomagnetism Textbook by L. Tauxe"
   ]
  },
  {
   "cell_type": "markdown",
   "metadata": {},
   "source": [
    "## Problems in Chapter 2"
   ]
  },
  {
   "cell_type": "markdown",
   "metadata": {},
   "source": [
    "### Problem 1a:   WRITE YOUR DESCRIPTION HERE"
   ]
  },
  {
   "cell_type": "code",
   "execution_count": 4,
   "metadata": {
    "collapsed": false
   },
   "outputs": [],
   "source": [
    "# You will need these things!\n",
    "import numpy as np\n",
    "import pandas as pd\n"
   ]
  },
  {
   "cell_type": "markdown",
   "metadata": {},
   "source": [
    "Let's write a little function to do the conversion.  "
   ]
  },
  {
   "cell_type": "code",
   "execution_count": 5,
   "metadata": {
    "collapsed": false
   },
   "outputs": [],
   "source": [
    "# the structure of a function is like this:\n",
    "def dir2cart(dec,inc,R):  # first line starts with 'def', has the name and the input parameters (data)\n",
    "     # all subsequent lines are indented\n",
    "    #   continue this function here.......\n",
    "    pass # this line does nothing - replace it with something that does!\n",
    "    cart=[1.,1.,1.] # obviously this is not what you want.... \n",
    "    return cart # returns the stuff you calculated (x,y,z) or (n,e,d)"
   ]
  },
  {
   "cell_type": "markdown",
   "metadata": {},
   "source": [
    "Now let's read in a data file with some geomagnetic field vectors in it."
   ]
  },
  {
   "cell_type": "code",
   "execution_count": 8,
   "metadata": {
    "collapsed": false
   },
   "outputs": [],
   "source": [
    "# read in the data and transpose it to rows of dec, inc, int\n",
    "# you have to change the file name to reflect where you put the data....   \n",
    "data=np.loadtxt('ps2_prob1_data.txt').transpose() # this line will read in data\n",
    " # now send these data to your function....    and print out the x,y,z\n"
   ]
  },
  {
   "cell_type": "markdown",
   "metadata": {},
   "source": [
    "### Problem 1b: Read in locations from 10 random spots on Earth and calculate the IGRF vectors at each place. "
   ]
  },
  {
   "cell_type": "markdown",
   "metadata": {},
   "source": [
    "First we have to understand how the function pmag.get_unf() works.  To do this, we need to tell the notebook where the pmag module lives, import it and print out the doc string for get_unf(): "
   ]
  },
  {
   "cell_type": "code",
   "execution_count": 11,
   "metadata": {
    "collapsed": false
   },
   "outputs": [
    {
     "name": "stdout",
     "output_type": "stream",
     "text": [
      "\n",
      "    Called with get_unf(N).\n",
      " subroutine to retrieve N uniformly distributed directions\n",
      " using the way described in Fisher et al. (1987).\n",
      "    \n"
     ]
    },
    {
     "data": {
      "text/plain": [
       "array([[  48.79862281,  -42.7912137 ],\n",
       "       [ 254.20814435,   29.76836608],\n",
       "       [   5.13710564,  -30.52215226],\n",
       "       [ 340.77085585,  -17.93811227],\n",
       "       [ 263.57383863,    8.21116531],\n",
       "       [ 100.80277122,    1.73260053],\n",
       "       [ 141.48219414,   -1.3747035 ],\n",
       "       [  13.56169561,  -38.28824633],\n",
       "       [ 339.67863846,   41.48404555],\n",
       "       [ 338.27864251,   -9.47637191]])"
      ]
     },
     "execution_count": 11,
     "metadata": {},
     "output_type": "execute_result"
    }
   ],
   "source": [
    "import pmagpy.pmag as pmag # this makes the PmagPy module pmag.py available to you\n",
    "print pmag.get_unf.__doc__\n",
    "pmag.get_unf(10) # now you need to assign this to an array variable name and use it in the following."
   ]
  },
  {
   "cell_type": "markdown",
   "metadata": {},
   "source": [
    "use that function to generate a list of random points on the Earth's surface.  "
   ]
  },
  {
   "cell_type": "code",
   "execution_count": 6,
   "metadata": {
    "collapsed": false
   },
   "outputs": [],
   "source": [
    "# write your code here."
   ]
  },
  {
   "cell_type": "markdown",
   "metadata": {},
   "source": [
    "Now let's find out about ipmag.igrf() "
   ]
  },
  {
   "cell_type": "code",
   "execution_count": 1,
   "metadata": {
    "collapsed": false
   },
   "outputs": [
    {
     "name": "stdout",
     "output_type": "stream",
     "text": [
      "\n",
      "    Prints out Declination, Inclination, Intensity from the IGRF model.\n",
      "\n",
      "    Arguments\n",
      "    ----------\n",
      "    input_list : list with format [Date, Altitude, Latitude, Longitude]\n",
      "    Date must be in format XXXX.XXXX with years and decimals of a year (A.D.)\n",
      "    \n"
     ]
    }
   ],
   "source": [
    "import pmagpy.ipmag as ipmag # this makes the PmagPy module ipmag.py available to you\n",
    "print ipmag.igrf.__doc__"
   ]
  },
  {
   "cell_type": "code",
   "execution_count": 7,
   "metadata": {
    "collapsed": false
   },
   "outputs": [],
   "source": [
    "# figure out how to send your places to ipmag.igrf.  do the calculation for 2015.   "
   ]
  },
  {
   "cell_type": "markdown",
   "metadata": {},
   "source": [
    "## Problem 1c:  Take the output from 1b and call ``dir2cart''. "
   ]
  },
  {
   "cell_type": "code",
   "execution_count": 7,
   "metadata": {
    "collapsed": false
   },
   "outputs": [],
   "source": [
    "# "
   ]
  },
  {
   "cell_type": "markdown",
   "metadata": {},
   "source": [
    "## Problem 2:  \n",
    "Take the output from Problem 1band plot as an equal area projection (first by hand and then with ipmag functions).  The ipmag functions call pmagplotlib and use matplotlib, so these will have to be imported as well. "
   ]
  },
  {
   "cell_type": "code",
   "execution_count": 16,
   "metadata": {
    "collapsed": false
   },
   "outputs": [],
   "source": [
    "# this line lets you make plots inside the notebook:\n",
    "%matplotlib inline"
   ]
  },
  {
   "cell_type": "code",
   "execution_count": 17,
   "metadata": {
    "collapsed": false
   },
   "outputs": [
    {
     "data": {
      "image/png": "[encoded data removed]",
      "text/plain": [
       "<matplotlib.figure.Figure at 0x109acc890>"
      ]
     },
     "metadata": {},
     "output_type": "display_data"
    }
   ],
   "source": [
    "ipmag.plot_net(1) # make an equal angle net\n",
    "# figure out how to use ipmag.plot_di() and plot the points. "
   ]
  },
  {
   "cell_type": "markdown",
   "metadata": {},
   "source": [
    "### Problem 3"
   ]
  },
  {
   "cell_type": "code",
   "execution_count": 10,
   "metadata": {
    "collapsed": false
   },
   "outputs": [],
   "source": [
    "# code it up here!"
   ]
  },
  {
   "cell_type": "markdown",
   "metadata": {},
   "source": [
    "Let's use the pmag function dia_vgp.  First let's figure out what it does:"
   ]
  },
  {
   "cell_type": "code",
   "execution_count": 13,
   "metadata": {
    "collapsed": false
   },
   "outputs": [
    {
     "name": "stdout",
     "output_type": "stream",
     "text": [
      "\n",
      "    converts declination, inclination, alpha95 to VGP, dp, dm\n",
      "    takes input as (Decs, Incs, a95, Site latitudes, Site Longitudes).  \n",
      "    These can be lists or individual values.\n",
      "    \n"
     ]
    }
   ],
   "source": [
    "print pmag.dia_vgp.__doc__"
   ]
  },
  {
   "cell_type": "markdown",
   "metadata": {},
   "source": [
    "Now we can use it to convert our directions to VGPs. Note that alpha95 is required but is not given  so  supply a zero in its place. Note also that westward longitudes are indicated by minus signs..."
   ]
  },
  {
   "cell_type": "code",
   "execution_count": 11,
   "metadata": {
    "collapsed": false
   },
   "outputs": [],
   "source": [
    "# you figure it out."
   ]
  },
  {
   "cell_type": "code",
   "execution_count": null,
   "metadata": {
    "collapsed": false
   },
   "outputs": [],
   "source": []
  }
 ],
 "metadata": {
  "kernelspec": {
   "display_name": "Python 2",
   "language": "python",
   "name": "python2"
  },
  "language_info": {
   "codemirror_mode": {
    "name": "ipython",
    "version": 2
   },
   "file_extension": ".py",
   "mimetype": "text/x-python",
   "name": "python",
   "nbconvert_exporter": "python",
   "pygments_lexer": "ipython2",
   "version": "2.7.10"
  }
 },
 "nbformat": 4,
 "nbformat_minor": 0
}
