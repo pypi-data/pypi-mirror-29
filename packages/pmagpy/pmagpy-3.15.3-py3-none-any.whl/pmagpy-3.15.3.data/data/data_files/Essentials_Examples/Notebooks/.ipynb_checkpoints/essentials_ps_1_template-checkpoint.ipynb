{
 "metadata": {
  "name": "",
  "signature": "sha256:a6165acf97d4696c9378c9b99ebc3b28b834325b1eb95f1053b9b2995e733a8b"
 },
 "nbformat": 3,
 "nbformat_minor": 0,
 "worksheets": [
  {
   "cells": [
    {
     "cell_type": "heading",
     "level": 1,
     "metadata": {},
     "source": [
      "IPython Notebook for turning in solutions to the problems in the Essentials of Paleomagnetism Textbook by L. Tauxe"
     ]
    },
    {
     "cell_type": "heading",
     "level": 2,
     "metadata": {},
     "source": [
      "Problems in Chapter 1"
     ]
    },
    {
     "cell_type": "heading",
     "level": 3,
     "metadata": {},
     "source": [
      "Problem 1:  "
     ]
    },
    {
     "cell_type": "markdown",
     "metadata": {},
     "source": [
      "Given that:\n",
      "\n",
      "$$\n",
      "\\nabla V_m = - \\bigl(\n",
      "{ {\\partial}\\over {\\partial r} }\n",
      "{ {m \\cos \\theta} \\over {4 \\pi r^2}} + \n",
      "{ {1\\over r} }\n",
      "{ {\\partial}\\over {\\partial \\theta} }\n",
      " { { m\\cos \\theta}\\over { 4 \\pi r^2} }\n",
      " \\bigr)\n",
      "$$\n",
      "\n",
      "it follows that:\n",
      "\n",
      "Complete this text using LaTeX formatting.  see the above example.  Notice how stand alone equations  look like this: \n",
      "$$\n",
      "Type your equation here\n",
      "$$\n",
      "and inline math looks like this:  $\\alpha,\\beta,\\gamma$\n"
     ]
    },
    {
     "cell_type": "code",
     "collapsed": false,
     "input": [
      "# code to calculate H_r and H_theta\n",
      "import numpy as np\n",
      "deg2rad=np.pi/180.  # converts degrees to radians\n",
      "#  write code here to calculate H_r and H_theta and convert to B_r, B_theta\n",
      "\n",
      "\n",
      "# This is how you print out nice formatted numbers\n",
      "# floating point variables have the syntax:  \n",
      "# '%X.Yf'%(FP_variable) where X is the number of digits and Y is the \n",
      "# number of didgets after the decimal.  \n",
      "# uncomment this line to print\n",
      "#print 'H_r= ','%7.1f'%(H_r), 'H_theta= ', '%7.1f'%(H_theta)\n",
      "#  to format integers:  use the syntax:\n",
      "# '%i'%(INT_variable)\n",
      "#print 'B_r = ','%i'%(B_r*1e6), 'uT' # B_r in microtesla\n",
      "#print 'B_theta =','%i'%(B_theta*1e6),'uT' # B_theta in microtesla"
     ],
     "language": "python",
     "metadata": {},
     "outputs": [],
     "prompt_number": 3
    },
    {
     "cell_type": "heading",
     "level": 2,
     "metadata": {},
     "source": [
      "Problem 2a:"
     ]
    },
    {
     "cell_type": "markdown",
     "metadata": {},
     "source": [
      "Some text to describe what you are doing.  (Edit this!)"
     ]
    },
    {
     "cell_type": "code",
     "collapsed": false,
     "input": [
      "#   to get  information from the user, you can use the command: \n",
      "# raw_input(\"TYPE A MESSAGE HERE\"). For example: \n"
     ],
     "language": "python",
     "metadata": {},
     "outputs": [],
     "prompt_number": 4
    },
    {
     "cell_type": "heading",
     "level": 2,
     "metadata": {},
     "source": [
      "Problem 2b: "
     ]
    },
    {
     "cell_type": "code",
     "collapsed": false,
     "input": [
      "# take your program from 2a and modify it here to go back and forth. "
     ],
     "language": "python",
     "metadata": {},
     "outputs": [],
     "prompt_number": 5
    },
    {
     "cell_type": "heading",
     "level": 2,
     "metadata": {},
     "source": [
      "Problem 3a:"
     ]
    },
    {
     "cell_type": "markdown",
     "metadata": {},
     "source": [
      "a) This problem boils down to finding the value for ${\\bf m}$ in Equation 1.8 in Chapter 1 that would give rise to a radial field of 10$\\mu$T at a depth  of 2890 km (radius of the Earth minus radius of the dipole source).  \n",
      "\n",
      "Write text here about how you solve the problem....   "
     ]
    },
    {
     "cell_type": "code",
     "collapsed": false,
     "input": [
      "# Write code here to calculate the moment, m and print it in ZAm^2\n"
     ],
     "language": "python",
     "metadata": {},
     "outputs": [],
     "prompt_number": 6
    },
    {
     "cell_type": "heading",
     "level": 2,
     "metadata": {},
     "source": [
      "Problem 3b"
     ]
    },
    {
     "cell_type": "markdown",
     "metadata": {},
     "source": [
      "b) To compare 10 $\\mu$T with the field produced by an axial dipole of 80 ZAm$^2$, we need the second part of Equation 1.8 in the text:\n",
      "\n",
      "Type your answer here with nice LaTeX formatting.   "
     ]
    },
    {
     "cell_type": "code",
     "collapsed": false,
     "input": [
      "# Write some code here that calculates H_r, H_theta, the total field\n",
      "# in H and converted to microtesla.   Use nicely formated print statements \n",
      "# display your results.  "
     ],
     "language": "python",
     "metadata": {},
     "outputs": [],
     "prompt_number": 7
    },
    {
     "cell_type": "heading",
     "level": 2,
     "metadata": {},
     "source": [
      "Problem 4:"
     ]
    },
    {
     "cell_type": "raw",
     "metadata": {},
     "source": [
      "\n",
      "Write your answer in this markdown cell.   \n",
      "\n"
     ]
    },
    {
     "cell_type": "code",
     "collapsed": false,
     "input": [],
     "language": "python",
     "metadata": {},
     "outputs": []
    }
   ],
   "metadata": {}
  }
 ]
}