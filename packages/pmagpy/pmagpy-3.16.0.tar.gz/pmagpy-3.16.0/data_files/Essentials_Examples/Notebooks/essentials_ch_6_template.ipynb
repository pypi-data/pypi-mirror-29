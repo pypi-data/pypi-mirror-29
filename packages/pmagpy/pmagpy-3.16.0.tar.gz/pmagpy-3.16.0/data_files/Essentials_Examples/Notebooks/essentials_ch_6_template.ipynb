{
 "metadata": {
  "name": "",
  "signature": "sha256:1f7df47cdbcbe16246dca1e359e91b430ae5fd976c95fe04e073260c1901aa88"
 },
 "nbformat": 3,
 "nbformat_minor": 0,
 "worksheets": [
  {
   "cells": [
    {
     "cell_type": "heading",
     "level": 1,
     "metadata": {},
     "source": [
      "IPython Notebook for turning in solutions to the problems in the Essentials of Paleomagnetism Textbook by L. Tauxe"
     ]
    },
    {
     "cell_type": "heading",
     "level": 2,
     "metadata": {},
     "source": [
      "Problems in Chapter 6"
     ]
    },
    {
     "cell_type": "heading",
     "level": 2,
     "metadata": {},
     "source": [
      "Problem 1  "
     ]
    },
    {
     "cell_type": "code",
     "collapsed": false,
     "input": [
      "from IPython.display import Image   # this is how you display images in your notebook. \n",
      "Image(filename='ps6_prob1.png')"
     ],
     "language": "python",
     "metadata": {},
     "outputs": [
      {
       "metadata": {},
       "output_type": "pyout",
       "png": "[encoded data removed]",
       "prompt_number": 18,
       "text": [
        "<IPython.core.display.Image at 0x10d245410>"
       ]
      }
     ],
     "prompt_number": 18
    },
    {
     "cell_type": "markdown",
     "metadata": {},
     "source": [
      "Type your answer here.    "
     ]
    },
    {
     "cell_type": "heading",
     "level": 2,
     "metadata": {},
     "source": [
      "Problem 2a"
     ]
    },
    {
     "cell_type": "markdown",
     "metadata": {},
     "source": [
      "Start by modifying the function dir2cart from Problem set # 2:"
     ]
    },
    {
     "cell_type": "code",
     "collapsed": false,
     "input": [],
     "language": "python",
     "metadata": {},
     "outputs": [],
     "prompt_number": 19
    },
    {
     "cell_type": "markdown",
     "metadata": {},
     "source": [
      "Read in the datafile 'demag.dat' in the Chapter_6 folder in the data_files/Essentials_Examples directory  that comes with the PmagPy distribution.  Copy that folder into the directory with you notebook in it.  "
     ]
    },
    {
     "cell_type": "code",
     "collapsed": false,
     "input": [
      "import numpy as np\n",
      "data=np.loadtxt('Chapter_6/demag.dat')  # this will load the data. \n",
      "# first print it out so you can see what is in data....   \n",
      "# Put Temperature in Ts and Ints, Decs Incs into their own lists\n",
      "# check whether you should transpose data to make that easier.  \n",
      "# then send your data to your dir2cart function.  "
     ],
     "language": "python",
     "metadata": {},
     "outputs": [],
     "prompt_number": 4
    },
    {
     "cell_type": "heading",
     "level": 2,
     "metadata": {},
     "source": [
      "Problem 2b"
     ]
    },
    {
     "cell_type": "markdown",
     "metadata": {},
     "source": [
      "For this we just have to normalize the intensities by  the first step and re-run dir2cart."
     ]
    },
    {
     "cell_type": "code",
     "collapsed": false,
     "input": [],
     "language": "python",
     "metadata": {},
     "outputs": [],
     "prompt_number": 21
    },
    {
     "cell_type": "heading",
     "level": 2,
     "metadata": {},
     "source": [
      "Problem 2c"
     ]
    },
    {
     "cell_type": "markdown",
     "metadata": {},
     "source": [
      "Now plot X and Y components versus Temperature"
     ]
    },
    {
     "cell_type": "code",
     "collapsed": false,
     "input": [
      "import matplotlib.pyplot as plt\n",
      "%matplotlib inline\n",
      "# plot Temperatures on the X axis and X on the Y axis.\n",
      "# Then do the same (using different symbols) for Y on the Y axis.  \n",
      "# add labels for the X and Y axes.   "
     ],
     "language": "python",
     "metadata": {},
     "outputs": [],
     "prompt_number": 6
    },
    {
     "cell_type": "markdown",
     "metadata": {},
     "source": [
      "Write your figure caption here.  "
     ]
    }
   ],
   "metadata": {}
  }
 ]
}
