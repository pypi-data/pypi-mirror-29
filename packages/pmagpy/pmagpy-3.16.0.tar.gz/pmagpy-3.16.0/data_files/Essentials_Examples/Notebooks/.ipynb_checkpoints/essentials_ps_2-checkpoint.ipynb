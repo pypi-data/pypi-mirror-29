{
 "metadata": {
  "name": "",
  "signature": "sha256:1ff7fb7c19010994c77511a643d203adcddb10133e6b63d7928a7b5f1c7877ef"
 },
 "nbformat": 3,
 "nbformat_minor": 0,
 "worksheets": [
  {
   "cells": [
    {
     "cell_type": "heading",
     "level": 2,
     "metadata": {},
     "source": [
      "IPython Notebook for turning in solutions to the problems in the Essentials of Paleomagnetism Textbook by L. Tauxe"
     ]
    },
    {
     "cell_type": "heading",
     "level": 2,
     "metadata": {},
     "source": [
      "Problems in Chapter 2"
     ]
    },
    {
     "cell_type": "heading",
     "level": 3,
     "metadata": {},
     "source": [
      "Problem 1a:   write a script to convert declination, inclination, intensity data to North, East and Down.  First we need to import numpy, the module with lots of math functions and pandas with nice data manipulation functions"
     ]
    },
    {
     "cell_type": "code",
     "collapsed": false,
     "input": [
      "import numpy as np\n",
      "import pandas as pd\n",
      "deg2rad=np.pi/180. # converts degrees to radians"
     ],
     "language": "python",
     "metadata": {},
     "outputs": [],
     "prompt_number": 2
    },
    {
     "cell_type": "markdown",
     "metadata": {},
     "source": [
      "Let's write a little function to do the conversion.  "
     ]
    },
    {
     "cell_type": "code",
     "collapsed": false,
     "input": [
      "def dir2cart(data):\n",
      "    decs,incs,ints=data[0]*deg2rad,data[1]*deg2rad,data[2]\n",
      "    X=ints*np.cos(decs)*np.cos(incs)\n",
      "    Y=ints*np.sin(decs)*np.cos(incs)\n",
      "    Z=ints*np.sin(incs)\n",
      "    cart=np.array([X,Y,Z]).transpose()\n",
      "    return cart"
     ],
     "language": "python",
     "metadata": {},
     "outputs": [],
     "prompt_number": 3
    },
    {
     "cell_type": "markdown",
     "metadata": {},
     "source": [
      "Now let's read in a data file with some geomagnetic field vectors in it."
     ]
    },
    {
     "cell_type": "code",
     "collapsed": false,
     "input": [
      "# read in the data and transpose it to rows of dec, inc, int\n",
      "data=np.loadtxt('../Chapter_2/ps2_prob1_data.txt').transpose()\n",
      "print dir2cart(data)"
     ],
     "language": "python",
     "metadata": {},
     "outputs": [
      {
       "output_type": "stream",
       "stream": "stdout",
       "text": [
        "[[ 21352.55524831   2093.63634727  23332.08409238]\n",
        " [  4504.44337072   -259.7245706   -1225.86288284]\n",
        " [ 23546.1300489    3141.72451736  33426.255268  ]\n",
        " [ 14629.0911691    1022.96570709  21021.51776849]\n",
        " [ 23150.99484809   2965.71083857  30861.24994328]\n",
        " [ 14767.09147922   2127.97038951    651.40495181]\n",
        " [ 18929.94924879   -231.28446662  25961.37752135]\n",
        " [  8342.98700429    759.27129675   8495.26107758]\n",
        " [ 10858.76521357   2606.95887762  19818.79867013]\n",
        " [ 30243.76260383   1532.08292009  41375.84902637]]\n"
       ]
      }
     ],
     "prompt_number": 4
    },
    {
     "cell_type": "heading",
     "level": 3,
     "metadata": {},
     "source": [
      "Problem 1b: Read in locations from 10 random spots on Earth and calculate the IGRF vectors at each place. "
     ]
    },
    {
     "cell_type": "markdown",
     "metadata": {},
     "source": [
      "First we have to understand how the function pmag.get_unf() works.  To do this, we need to tell the notebook where the pmag module lives, import it and print out the doc string for get_unf(): "
     ]
    },
    {
     "cell_type": "code",
     "collapsed": false,
     "input": [
      "import sys\n",
      "sys.path.insert(0,'/Users/ltauxe/PmagPy')\n",
      "import pmag\n",
      "print pmag.get_unf.__doc__"
     ],
     "language": "python",
     "metadata": {},
     "outputs": [
      {
       "output_type": "stream",
       "stream": "stdout",
       "text": [
        "\n",
        "    Called with get_unf(N).\n",
        " subroutine to retrieve N uniformly distributed directions\n",
        " using the way described in Fisher et al. (1987).\n",
        "    \n"
       ]
      }
     ],
     "prompt_number": 5
    },
    {
     "cell_type": "markdown",
     "metadata": {},
     "source": [
      "Now we can use that function to generate a list of random points on the Earth's surface.  "
     ]
    },
    {
     "cell_type": "code",
     "collapsed": false,
     "input": [
      "places=pmag.get_unf(10)\n",
      "print places"
     ],
     "language": "python",
     "metadata": {},
     "outputs": [
      {
       "output_type": "stream",
       "stream": "stdout",
       "text": [
        "[[ 105.31380297  -42.28827184]\n",
        " [ 104.43893471  -16.26947532]\n",
        " [ 225.43412517  -23.91520594]\n",
        " [ 319.15116615   -2.68760951]\n",
        " [ 354.27977495  -47.15291859]\n",
        " [  86.28188506  -75.6932067 ]\n",
        " [ 114.57001234  -38.57553035]\n",
        " [ 312.18516165  -33.87893672]\n",
        " [ 336.91620331  -27.52984633]\n",
        " [ 313.74866005   66.61986125]]\n"
       ]
      }
     ],
     "prompt_number": 6
    },
    {
     "cell_type": "markdown",
     "metadata": {},
     "source": [
      "Now let's find out about ipmag.igrf"
     ]
    },
    {
     "cell_type": "code",
     "collapsed": false,
     "input": [
      "import ipmag\n",
      "print ipmag.igrf.__doc__"
     ],
     "language": "python",
     "metadata": {},
     "outputs": [
      {
       "output_type": "stream",
       "stream": "stdout",
       "text": [
        "\n",
        "    prints out Declination, Inclination, Intensity data from an input with format: Date, Altitude, Latitude, Longitude\n",
        "    \n"
       ]
      }
     ],
     "prompt_number": 7
    },
    {
     "cell_type": "markdown",
     "metadata": {},
     "source": [
      "And now we can ship the data in places to doigrf."
     ]
    },
    {
     "cell_type": "code",
     "collapsed": false,
     "input": [
      "for place in places:\n",
      "    print ipmag.igrf([2006,0,place[1],place[0]])"
     ],
     "language": "python",
     "metadata": {},
     "outputs": [
      {
       "output_type": "stream",
       "stream": "stdout",
       "text": [
        "[   338.62643377    -75.45243189  61051.29186633]\n",
        "[   338.62643377    -75.45243189  61051.29186633]\n",
        "[  3.59061529e+02  -4.93586702e+01   5.01630409e+04]\n",
        "[  3.59061529e+02  -4.93586702e+01   5.01630409e+04]\n",
        "[  1.47198793e+01  -3.73405456e+01   3.63248144e+04]\n",
        "[  1.47198793e+01  -3.73405456e+01   3.63248144e+04]\n",
        "[  3.38838448e+02  -9.29221666e+00   2.63942741e+04]\n",
        "[  3.38838448e+02  -9.29221666e+00   2.63942741e+04]\n",
        "[   339.69790061    -62.08266839  25520.99603321]\n",
        "[   339.69790061    -62.08266839  25520.99603321]\n",
        "[   265.30243821    -73.81812537  56762.24184327]\n",
        "[   265.30243821    -73.81812537  56762.24184327]\n",
        "[   353.14746029    -72.66799533  61283.79766406]\n",
        "[   353.14746029    -72.66799533  61283.79766406]\n",
        "[   344.31586161    -42.73959706  23232.50846823]\n",
        "[   344.31586161    -42.73959706  23232.50846823]\n",
        "[   334.5593929     -54.80640697  24901.30712016]\n",
        "[   334.5593929     -54.80640697  24901.30712016]\n",
        "[   328.06679306     79.2464479   54944.13402417]\n",
        "[   328.06679306     79.2464479   54944.13402417]\n"
       ]
      }
     ],
     "prompt_number": 8
    },
    {
     "cell_type": "heading",
     "level": 2,
     "metadata": {},
     "source": [
      "Problem 1c:  Take the output from 1b and call ``dir2cart''. "
     ]
    },
    {
     "cell_type": "code",
     "collapsed": false,
     "input": [
      "data=[] # make a blank list\n",
      "for place in places:\n",
      "    Dir=ipmag.igrf([2006,0,place[1],place[0]])\n",
      "    data.append(Dir) # append to the data list\n",
      "data=np.array(data).transpose() # dir2cart takes arrays of data\n",
      "print dir2cart(data)"
     ],
     "language": "python",
     "metadata": {},
     "outputs": [
      {
       "output_type": "stream",
       "stream": "stdout",
       "text": [
        "[   338.62643377    -75.45243189  61051.29186633]\n",
        "[  3.59061529e+02  -4.93586702e+01   5.01630409e+04]\n",
        "[  1.47198793e+01  -3.73405456e+01   3.63248144e+04]\n",
        "[  3.38838448e+02  -9.29221666e+00   2.63942741e+04]\n",
        "[   339.69790061    -62.08266839  25520.99603321]\n",
        "[   265.30243821    -73.81812537  56762.24184327]\n",
        "[   353.14746029    -72.66799533  61283.79766406]\n",
        "[   344.31586161    -42.73959706  23232.50846823]\n",
        "[   334.5593929     -54.80640697  24901.30712016]\n",
        "[   328.06679306     79.2464479   54944.13402417]\n",
        "[[ 14280.40373426  -5588.83019226 -59093.95303089]\n",
        " [ 32667.89651857   -535.12897139 -38063.79966558]\n",
        " [ 27931.99561184   7338.18109798 -22032.85862437]\n",
        " [ 24291.41065134  -9403.26937449  -4261.87710302]\n",
        " [ 11206.54886205  -4145.89511602 -22550.96571805]\n",
        " [ -1295.5074958  -15765.7784904  -54513.42942793]\n",
        " [ 18126.52425584  -2178.31720519 -58501.17869484]\n",
        " [ 16427.70320872  -4612.71237644 -15767.14627143]\n",
        " [ 12959.97921918  -6165.11041094 -20349.58104118]\n",
        " [  8700.30268401  -5422.46006446  53979.25086292]]\n"
       ]
      }
     ],
     "prompt_number": 9
    },
    {
     "cell_type": "heading",
     "level": 2,
     "metadata": {},
     "source": [
      "Problem 2:  Take the output from Problem 1c and plot as an equal area projection (first by hand and then with ipmag functions).  The ipmag functions call pmagplotlib and use matplotlib, so these will have to be imported as well. "
     ]
    },
    {
     "cell_type": "code",
     "collapsed": false,
     "input": [
      "import pmagplotlib\n",
      "import matplotlib.pyplot as plt\n",
      "%matplotlib inline"
     ],
     "language": "python",
     "metadata": {},
     "outputs": [],
     "prompt_number": 10
    },
    {
     "cell_type": "code",
     "collapsed": false,
     "input": [
      "ipmag.plot_net(1) # make an equal angle net\n",
      "ipmag.plot_di(data[0],data[1]) # put on the dots"
     ],
     "language": "python",
     "metadata": {},
     "outputs": [
      {
       "metadata": {},
       "output_type": "display_data",
       "png": "[encoded data removed]",
       "text": [
        "<matplotlib.figure.Figure at 0x10d82ca50>"
       ]
      }
     ],
     "prompt_number": 11
    },
    {
     "cell_type": "heading",
     "level": 3,
     "metadata": {},
     "source": [
      "Problem 3: Use the dipole formula ($\\tan (I) = 2 \\tan (\\lambda)$ where $I$ is inclination and $\\lambda$ is latitude and calculate the GAD field at 36 $^{\\circ}$N.  Note that declination is always zero for a GAD field.  "
     ]
    },
    {
     "cell_type": "code",
     "collapsed": false,
     "input": [
      "lat = 36.*deg2rad # remember to convert to radians!\n",
      "inc = np.arctan(2.*np.tan(lat)) /deg2rad # and back! \n",
      "print '%7.1f'%(inc) # and print it out"
     ],
     "language": "python",
     "metadata": {},
     "outputs": [
      {
       "output_type": "stream",
       "stream": "stdout",
       "text": [
        "   55.5\n"
       ]
      }
     ],
     "prompt_number": 12
    },
    {
     "cell_type": "markdown",
     "metadata": {},
     "source": [
      "Let's use the pmag function dia_vgp.  First let's figure out what it does:"
     ]
    },
    {
     "cell_type": "code",
     "collapsed": false,
     "input": [
      "print pmag.dia_vgp.__doc__"
     ],
     "language": "python",
     "metadata": {},
     "outputs": [
      {
       "output_type": "stream",
       "stream": "stdout",
       "text": [
        "\n",
        "    converts declination, inclination, alpha95 to VGP, dp, dm\n",
        "    takes input as (Decs, Incs, a95, Site latitudes, Site Longitudes).  \n",
        "    These can be lists or individual values.\n",
        "    \n"
       ]
      }
     ],
     "prompt_number": 13
    },
    {
     "cell_type": "markdown",
     "metadata": {},
     "source": [
      "Now we can use it to convert our directions to VGPs. Note that alpha95 is require but is not given here so we supply a zero in its place. Note also that westward longitudes are indicated by minus signs"
     ]
    },
    {
     "cell_type": "code",
     "collapsed": false,
     "input": [
      "vgp_lat,vgp_lon,dp,dp= pmag.dia_vgp(345,47,0.,36,-112) \n",
      "print '%7.1f %7.1f'%(vgp_lat,vgp_lon)"
     ],
     "language": "python",
     "metadata": {},
     "outputs": [
      {
       "output_type": "stream",
       "stream": "stdout",
       "text": [
        "  130.6    75.1\n"
       ]
      }
     ],
     "prompt_number": 14
    }
   ],
   "metadata": {}
  }
 ]
}