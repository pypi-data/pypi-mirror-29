{
 "cells": [
  {
   "cell_type": "markdown",
   "metadata": {},
   "source": [
    "# Parsing examples\n",
    "\n",
    "Some examples on parsing to and from supported formats.\n",
    "\n",
    "## Declare paths\n",
    "\n",
    "First, let's do all the necessary imports and generate the paths that we'll use for file import and export.\n",
    "We'll then use the `util_get_file_paths` function to get the file paths in those directories."
   ]
  },
  {
   "cell_type": "code",
   "execution_count": 1,
   "metadata": {},
   "outputs": [
    {
     "name": "stdout",
     "output_type": "stream",
     "text": [
      "Selected 0 samples\n",
      "Selected 23 adsorbates\n"
     ]
    }
   ],
   "source": [
    "import os\n",
    "import pygaps\n",
    "\n",
    "# Get directory paths\n",
    "xl_path = os.path.join(os.getcwd(), 'data', 'parsing', 'excel')\n",
    "json_path = os.path.join(os.getcwd(), 'data', 'parsing', 'json')\n",
    "csv_path = os.path.join(os.getcwd(), 'data', 'parsing', 'csv')\n",
    "\n",
    "# Find files\n",
    "json_file_paths = pygaps.util_get_file_paths(json_path, '.json')\n",
    "xl_file_paths = pygaps.util_get_file_paths(xl_path, '.xlsx')\n",
    "csv_file_paths = pygaps.util_get_file_paths(csv_path, '.csv')"
   ]
  },
  {
   "cell_type": "markdown",
   "metadata": {},
   "source": [
    "## JSON Parsing\n",
    "### JSON Import"
   ]
  },
  {
   "cell_type": "code",
   "execution_count": 2,
   "metadata": {},
   "outputs": [
    {
     "name": "stdout",
     "output_type": "stream",
     "text": [
      "Experimental isotherm\n",
      "Material: HKUST-1(Cu)\n",
      "Batch: Test\n",
      "Isotherm type: Calorimetrie\n",
      "Adsorbate used: CO2\n",
      "Isotherm date: 2010-05-21 00:00:00\n",
      "Machine: CV\n",
      "User: ADW\n",
      "Activation temperature: 150.0°C\n",
      "Isotherm temperature: 303.0K\n",
      "\n",
      "Experimental isotherm\n",
      "Material: MCM-41\n",
      "Batch: Test\n",
      "Isotherm type: Isotherme\n",
      "Adsorbate used: N2\n",
      "Machine: Triflex\n",
      "User: PI\n",
      "Activation temperature: 150.0°C\n",
      "Isotherm temperature: 77.0K\n",
      "\n"
     ]
    }
   ],
   "source": [
    "# Import them\n",
    "isotherms = []\n",
    "for filepath in json_file_paths:\n",
    "    with open(filepath, 'r') as text_file:\n",
    "        isotherms.append(pygaps.isotherm_from_json(text_file.read()))\n",
    "\n",
    "# See the files\n",
    "for isotherm in isotherms:\n",
    "    print(isotherm)"
   ]
  },
  {
   "cell_type": "markdown",
   "metadata": {},
   "source": [
    "### JSON Export"
   ]
  },
  {
   "cell_type": "code",
   "execution_count": 3,
   "metadata": {
    "collapsed": true
   },
   "outputs": [],
   "source": [
    "for isotherm in isotherms:\n",
    "    filename = os.path.join(json_path, \n",
    "                            ' '.join([isotherm.sample_name,\n",
    "                                      isotherm.adsorbate,\n",
    "                                      str(isotherm.t_exp)]) + '.json')\n",
    "    with open(filename, mode='w') as f:\n",
    "        f.write(pygaps.isotherm_to_json(isotherm))"
   ]
  },
  {
   "cell_type": "markdown",
   "metadata": {},
   "source": [
    "## Excel Parsing\n",
    "\n",
    "Excel must be installed on the system in use.\n",
    "\n",
    "### Excel Import"
   ]
  },
  {
   "cell_type": "code",
   "execution_count": 4,
   "metadata": {},
   "outputs": [
    {
     "name": "stdout",
     "output_type": "stream",
     "text": [
      "Experimental isotherm\n",
      "Material: HKUST-1(Cu)\n",
      "Batch: Test\n",
      "Isotherm type: Calorimetrie\n",
      "Adsorbate used: CO2\n",
      "Isotherm date: 2010-05-21 00:00:00\n",
      "Machine: CV\n",
      "User: ADW\n",
      "Activation temperature: 150.0°C\n",
      "Isotherm temperature: 303.0K\n",
      "\n",
      "Experimental isotherm\n",
      "Material: MCM-41\n",
      "Batch: Test\n",
      "Isotherm type: Isotherme\n",
      "Adsorbate used: N2\n",
      "Machine: Triflex\n",
      "User: PI\n",
      "Activation temperature: 150.0°C\n",
      "Isotherm temperature: 77.0K\n",
      "\n"
     ]
    }
   ],
   "source": [
    "# Import them\n",
    "isotherms = [pygaps.isotherm_from_xl(path) for path in xl_file_paths]\n",
    "\n",
    "# See the files\n",
    "for isotherm in isotherms:\n",
    "    print(isotherm)"
   ]
  },
  {
   "cell_type": "markdown",
   "metadata": {},
   "source": [
    "### Excel Export"
   ]
  },
  {
   "cell_type": "code",
   "execution_count": 5,
   "metadata": {
    "collapsed": true
   },
   "outputs": [],
   "source": [
    "# Export each isotherm in turn\n",
    "for isotherm in isotherms:\n",
    "    filename = ' '.join([isotherm.sample_name, isotherm.adsorbate, str(isotherm.t_exp)]) + '.xlsx'\n",
    "    pygaps.isotherm_to_xl(isotherm, os.path.join(xl_path, filename))"
   ]
  },
  {
   "cell_type": "markdown",
   "metadata": {},
   "source": [
    "## CSV Parsing\n",
    "### CSV Import"
   ]
  },
  {
   "cell_type": "code",
   "execution_count": 6,
   "metadata": {},
   "outputs": [
    {
     "name": "stdout",
     "output_type": "stream",
     "text": [
      "Experimental isotherm\n",
      "Material: HKUST-1(Cu)\n",
      "Batch: Test\n",
      "Isotherm type: Calorimetrie\n",
      "Adsorbate used: CO2\n",
      "Isotherm date: 2010-05-21 00:00:00\n",
      "Machine: CV\n",
      "User: ADW\n",
      "Activation temperature: 150.0°C\n",
      "Isotherm temperature: 303.0K\n",
      "\n",
      "Experimental isotherm\n",
      "Material: MCM-41\n",
      "Batch: Test\n",
      "Isotherm type: Isotherme\n",
      "Adsorbate used: N2\n",
      "Machine: Triflex\n",
      "User: PI\n",
      "Activation temperature: 150.0°C\n",
      "Isotherm temperature: 77.0K\n",
      "\n"
     ]
    }
   ],
   "source": [
    "# Import them\n",
    "isotherms = [pygaps.isotherm_from_csv(path) for path in csv_file_paths]\n",
    "\n",
    "# See the files\n",
    "for isotherm in isotherms:\n",
    "    print(isotherm)"
   ]
  },
  {
   "cell_type": "markdown",
   "metadata": {},
   "source": [
    "### CSV Export"
   ]
  },
  {
   "cell_type": "code",
   "execution_count": 7,
   "metadata": {
    "collapsed": true
   },
   "outputs": [],
   "source": [
    "# Export each isotherm in turn\n",
    "for isotherm in isotherms:\n",
    "    filename = ' '.join([isotherm.sample_name, isotherm.adsorbate, str(isotherm.t_exp)]) + '.csv'\n",
    "    pygaps.isotherm_to_csv(isotherm, os.path.join(csv_path, filename))"
   ]
  }
 ],
 "metadata": {
  "kernelspec": {
   "display_name": "Python 3",
   "language": "python",
   "name": "python3"
  },
  "language_info": {
   "codemirror_mode": {
    "name": "ipython",
    "version": 3
   },
   "file_extension": ".py",
   "mimetype": "text/x-python",
   "name": "python",
   "nbconvert_exporter": "python",
   "pygments_lexer": "ipython3",
   "version": "3.6.2"
  }
 },
 "nbformat": 4,
 "nbformat_minor": 2
}
