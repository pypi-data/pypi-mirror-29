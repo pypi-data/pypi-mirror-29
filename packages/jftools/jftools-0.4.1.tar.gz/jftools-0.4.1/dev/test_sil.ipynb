{
  "cells": [
    {
      "cell_type": "code",
      "execution_count": null,
      "metadata": {
        "collapsed": false
      },
      "outputs": [],
      "source": [
        "%pylab inline\n",
        "style.use('http://johannesfeist.eu/misc/jf.mplstyle')\n",
        "np.set_printoptions(linewidth=200)"
      ]
    },
    {
      "cell_type": "code",
      "execution_count": null,
      "metadata": {
        "collapsed": false
      },
      "outputs": [],
      "source": [
        "from qutip import *"
      ]
    },
    {
      "cell_type": "code",
      "execution_count": null,
      "metadata": {
        "collapsed": false
      },
      "outputs": [],
      "source": [
        "from jftools.short_iterative_lanczos import lanczos_timeprop"
      ]
    },
    {
      "cell_type": "code",
      "execution_count": null,
      "metadata": {
        "collapsed": true
      },
      "outputs": [],
      "source": [
        "from scipy.sparse import lil_matrix\n",
        "N = 20000\n",
        "H = lil_matrix((N,N))\n",
        "H[range(N),range(N)] = -2.\n",
        "H[range(N-1),range(1,N)] = 1\n",
        "H[range(1,N),range(N-1)] = 1\n",
        "H = H.tocsr()"
      ]
    },
    {
      "cell_type": "code",
      "execution_count": null,
      "metadata": {
        "collapsed": false
      },
      "outputs": [],
      "source": [
        "phi0 = exp(-(arange(N)-15000)**2/(2*300**2)-1.5j*arange(N)) + exp(-(arange(N)-5000)**2/(2*50**2)+1j*arange(N))\n",
        "phi0 /= norm(phi0)\n",
        "phir = randn(N).astype(complex)\n",
        "phir /= norm(phir)"
      ]
    },
    {
      "cell_type": "code",
      "execution_count": null,
      "metadata": {
        "collapsed": true
      },
      "outputs": [],
      "source": [
        "from scipy.sparse._sparsetools import csr_matvec\n",
        "def Hv(t,phi,Hphi):\n",
        "    M,N = H.shape\n",
        "    Hphi.fill(0)\n",
        "    csr_matvec(M,N,H.indptr,H.indices,H.data,phi,Hphi)\n",
        "    return Hphi"
      ]
    },
    {
      "cell_type": "code",
      "execution_count": null,
      "metadata": {
        "collapsed": true
      },
      "outputs": [],
      "source": [
        "def Hv2(t,phi,Hphi):\n",
        "    return H.dot(phi).view(type(phi))\n",
        "def Hv3(t,phi,Hphi):\n",
        "    Hphi[:] = H.dot(phi)\n",
        "    return Hphi"
      ]
    },
    {
      "cell_type": "code",
      "execution_count": null,
      "metadata": {
        "collapsed": false
      },
      "outputs": [],
      "source": [
        "a = H.dot(phi0)\n",
        "b = empty_like(a); Hv(0,phi0,b)\n",
        "c = Hv2(0,phi0,None)\n",
        "d = empty_like(a); Hv3(0,phi0,d)\n",
        "print(np.all(a==b))\n",
        "print(np.all(a==c))\n",
        "print(np.all(a==d))\n",
        "%timeit a = H.dot(phi0)\n",
        "%timeit Hv(0,phi0,b)\n",
        "%timeit c = Hv2(0,phi0,None)\n",
        "%timeit Hv3(0,phi0,d)"
      ]
    },
    {
      "cell_type": "code",
      "execution_count": null,
      "metadata": {
        "collapsed": false
      },
      "outputs": [],
      "source": [
        "Hq = Qobj(H)\n",
        "phi0q = Qobj(phi0)\n",
        "phirq = Qobj(phir)"
      ]
    },
    {
      "cell_type": "code",
      "execution_count": null,
      "metadata": {
        "collapsed": false
      },
      "outputs": [],
      "source": [
        "prop = lanczos_timeprop(H,12,1e-10)\n",
        "resa = prop.propagate(phir,[0,.5])"
      ]
    },
    {
      "cell_type": "code",
      "execution_count": null,
      "metadata": {
        "collapsed": false
      },
      "outputs": [],
      "source": [
        "prop = lanczos_timeprop(Hv,12,1e-10)\n",
        "resb = prop.propagate(phir,[0,.5])\n",
        "prop = lanczos_timeprop(Hv2,12,1e-10)\n",
        "resc = prop.propagate(phir,[0,.5])\n",
        "prop = lanczos_timeprop(Hv3,12,1e-10)\n",
        "resd = prop.propagate(phir,[0,.5])"
      ]
    },
    {
      "cell_type": "code",
      "execution_count": null,
      "metadata": {
        "collapsed": false
      },
      "outputs": [],
      "source": [
        "prop = lanczos_timeprop(Hq,12,1e-10)\n",
        "resq = prop.propagate(phirq,[0,.5])"
      ]
    },
    {
      "cell_type": "code",
      "execution_count": null,
      "metadata": {
        "collapsed": false
      },
      "outputs": [],
      "source": [
        "print(np.all(resa[1] == resq[1].full().squeeze()),\n",
        "      np.all(resa[1] == resb[1]),\n",
        "      np.all(resa[1] == resc[1]),\n",
        "      np.all(resa[1] == resd[1]))"
      ]
    },
    {
      "cell_type": "code",
      "execution_count": null,
      "metadata": {
        "collapsed": false
      },
      "outputs": [],
      "source": [
        "for Hf in H,Hv,Hv2,Hv3:\n",
        "    prop = lanczos_timeprop(Hf,12,1e-10)\n",
        "    %timeit prop.propagate(phir,[0,.5])"
      ]
    },
    {
      "cell_type": "code",
      "execution_count": null,
      "metadata": {
        "collapsed": false,
        "scrolled": false
      },
      "outputs": [],
      "source": [
        "from scipy.sparse.linalg import expm_multiply\n",
        "dt = 0.5\n",
        "prop = lanczos_timeprop(H,12,1e-12)\n",
        "phi1 = prop.propagate(phi0,[0,dt])[-1]\n",
        "phi2 = expm_multiply(-1j*dt*H,phi0)\n",
        "np.allclose(phi1,phi2)"
      ]
    },
    {
      "cell_type": "code",
      "execution_count": null,
      "metadata": {
        "collapsed": false
      },
      "outputs": [],
      "source": [
        "%timeit lanczos_timeprop(H,12,1e-12).propagate(phi0,[0.,dt])\n",
        "prop = lanczos_timeprop(H,12,1e-12)\n",
        "%timeit prop.propagate(phi0,[0.,dt])\n",
        "prop.phia[0][:] = phi0\n",
        "%timeit prop._step(0,dt)\n",
        "%timeit phi2 = expm_multiply(-1j*dt*H,phi0)\n",
        "#%timeit sesolve(Hq,phi0q,[0.,dt],[])"
      ]
    },
    {
      "cell_type": "code",
      "execution_count": null,
      "metadata": {
        "collapsed": false
      },
      "outputs": [],
      "source": [
        "ts = linspace(0,100,11)\n",
        "prop = lanczos_timeprop(H,12,1e-12)\n",
        "for p0 in phi0,phir:\n",
        "    p0q = Qobj(p0)\n",
        "    %time phiLs = prop.propagate(p0,ts)\n",
        "    %time resQ = sesolve(Hq,p0q,ts,[],options=Options(atol=1e-10,rtol=1e-10))\n",
        "    phiLs = array(phiLs)\n",
        "    phiQs = array([s.full() for s in resQ.states]).squeeze()\n",
        "    print(norm(phiLs), norm(phiQs-phiLs), norm(phiQs[-1]-phiLs[-1]))\n",
        "    f,axs = subplots(1,2,figsize=(8,4),sharex=True,sharey=True)\n",
        "    axs[0].pcolormesh(ts,arange(N),abs(phiQs.T)**2)\n",
        "    axs[1].pcolormesh(ts,arange(N),abs(phiLs.T)**2)\n",
        "    axs[0].autoscale(tight=True)\n",
        "    f.tight_layout(pad=0.5)"
      ]
    },
    {
      "cell_type": "code",
      "execution_count": null,
      "metadata": {
        "collapsed": false
      },
      "outputs": [],
      "source": [
        "convgs = [1e-6,1e-8,1e-10,1e-12,1e-14,1e-16]\n",
        "refphi = lanczos_timeprop(H,12,1e-14).propagate(phir,ts)[-1]\n",
        "\n",
        "qsolve = lambda tol: array([s.full() for s in sesolve(Hq,phirq,ts,[],options=Options(atol=tol,rtol=tol)).states]).squeeze()\n",
        "phiLs_convg, phiQs_convg = {}, {}\n",
        "for c in convgs:\n",
        "    if c>=1e-14:\n",
        "        print('SIL',c,end=' ')\n",
        "        tt = %timeit -qo -n1 -r1 phiLs_convg[c] = lanczos_timeprop(H,12,c).propagate(phir,ts)\n",
        "        phif = phiLs_convg[c][-1]\n",
        "        print(\"%.4f %.4e\"%(tt.best,mean(abs(refphi-phif)/abs(refphi))))\n",
        "    print('RK ',c,end=' ')\n",
        "    tt = %timeit -qo -n1 -r1 phiQs_convg[c] = qsolve(c)\n",
        "    phif = phiQs_convg[c][-1]\n",
        "    print(\"%.4f %.4e\"%(tt.best,mean(abs(refphi-phif)/abs(refphi))))"
      ]
    },
    {
      "cell_type": "code",
      "execution_count": null,
      "metadata": {
        "collapsed": false
      },
      "outputs": [],
      "source": [
        "def err(a,b,ea,eb):\n",
        "    dd = dict(Q=phiQs_convg,L=phiLs_convg)\n",
        "    phia = dd[a][ea][-1]\n",
        "    phib = dd[b][eb][-1]\n",
        "    return 2*abs(phia-phib)/(abs(phia)+abs(phib))\n",
        "def ploterr(a,b,ea,eb):\n",
        "    relerr = err(a,b,ea,eb)\n",
        "    names = dict(Q='RK',L='SIL')\n",
        "    plot(relerr,label=\"%s %g vs %s %g\"%(names[a],ea,names[b],eb))\n",
        "ploterr('Q','Q',1e-16,1e-06)\n",
        "ploterr('L','L',1e-14,1e-06)\n",
        "ploterr('L','L',1e-14,1e-12)\n",
        "ploterr('Q','L',1e-16,1e-14)\n",
        "ploterr('L','L',1e-14,1e-10)\n",
        "ploterr('L','L',1e-14,1e-8)\n",
        "yscale('log')\n",
        "ylabel('rel. error')\n",
        "legend(frameon=True,fontsize=14);"
      ]
    },
    {
      "cell_type": "code",
      "execution_count": null,
      "metadata": {
        "collapsed": false
      },
      "outputs": [],
      "source": [
        "meanerrsLL = array([(e,mean(err('L','L',1e-14,e))) for e in [1e-6,1e-8,1e-10,1e-12]]).T\n",
        "meanerrsQL = array([(e,mean(err('Q','L',1e-16,e))) for e in [1e-6,1e-8,1e-10,1e-12,1e-14]]).T\n",
        "meanerrsLQ = array([(e,mean(err('L','Q',1e-14,e))) for e in [1e-6,1e-8,1e-10,1e-12,1e-14,1e-16]]).T\n",
        "meanerrsQQ = array([(e,mean(err('Q','Q',1e-16,e))) for e in [1e-6,1e-8,1e-10,1e-12,1e-14]]).T\n",
        "plot(meanerrsLL[0],meanerrsLL[1],'o-',label='LL')\n",
        "plot(meanerrsQQ[0],meanerrsQQ[1],'o-',label='QQ')\n",
        "plot(meanerrsQL[0],meanerrsQL[1],'o--',label='QL')\n",
        "plot(meanerrsLQ[0],meanerrsLQ[1],'o--',label='LQ')\n",
        "legend()\n",
        "yscale('log')\n",
        "xscale('log')"
      ]
    },
    {
      "cell_type": "code",
      "execution_count": null,
      "metadata": {
        "collapsed": false
      },
      "outputs": [],
      "source": [
        "class testclass:\n",
        "    def __init__(self,data):\n",
        "        self.data = asarray(data,dtype=complex)\n",
        "    def norm(self):\n",
        "        return norm(self.data)\n",
        "    def dot(self,other):\n",
        "        return vdot(self.data,other.data)\n",
        "    def copy(self):\n",
        "        return testclass(self.data.copy())\n",
        "    def __mul__(self,a):\n",
        "        return testclass(a*self.data)\n",
        "    def __rmul__(self,a):\n",
        "        return self*a\n",
        "    def __imul__(self,a):\n",
        "        self.data *= a\n",
        "        return self\n",
        "    def __isub__(self,other):\n",
        "        self.data -= other.data\n",
        "        return self\n",
        "    def __iadd__(self,other):\n",
        "        self.data += other.data\n",
        "        return self\n",
        "\n",
        "N = 501\n",
        "x,dx = linspace(-10,10,N,retstep=True)\n",
        "H = lil_matrix((N,N))\n",
        "H[range(N),range(N)] = 1./dx**2 + 0.5*x**2\n",
        "H[range(N-1),range(1,N)] = -0.5/dx**2\n",
        "H[range(1,N),range(N-1)] = -0.5/dx**2\n",
        "H = H.tocsr()\n",
        "D = lil_matrix(diag(x)).tocsr()"
      ]
    },
    {
      "cell_type": "code",
      "execution_count": null,
      "metadata": {
        "collapsed": false
      },
      "outputs": [],
      "source": [
        "vals,vecs = eigh(H.toarray())\n",
        "plot(vals[:20],'o')"
      ]
    },
    {
      "cell_type": "code",
      "execution_count": null,
      "metadata": {
        "collapsed": false
      },
      "outputs": [],
      "source": [
        "for ii in range(10):\n",
        "    plot(x,0*x+vals[ii],'0.5',lw=0.5)\n",
        "    plot(x,3*vecs[:,ii]+vals[ii])\n",
        "autoscale(axis='x',tight=True)\n",
        "autoscale(False)\n",
        "plot(x,0.5*x**2,'k')"
      ]
    },
    {
      "cell_type": "code",
      "execution_count": null,
      "metadata": {
        "collapsed": true
      },
      "outputs": [],
      "source": [
        "omega = 0.2\n",
        "sigma = 2*pi/omega\n",
        "EF = lambda t: 2.*exp(-t**2/(2*sigma**2))*sin(omega*t)\n",
        "\n",
        "def testHfun(t,phi,Hphi):\n",
        "    Hphi.data[:] = H.dot(phi.data)\n",
        "    Hphi.data += EF(t)*D.dot(phi.data)\n",
        "    return Hphi"
      ]
    },
    {
      "cell_type": "code",
      "execution_count": null,
      "metadata": {
        "collapsed": false
      },
      "outputs": [],
      "source": [
        "ts = linspace(-4*sigma,4*sigma,201)\n",
        "plot(ts,EF(ts))"
      ]
    },
    {
      "cell_type": "code",
      "execution_count": null,
      "metadata": {
        "collapsed": false
      },
      "outputs": [],
      "source": [
        "phi0 = testclass(vecs[:,0])\n",
        "prop = lanczos_timeprop(testHfun,12,1e-12)\n",
        "%time res = prop.propagate(phi0,ts,maxHT=2*pi/omega / 40)"
      ]
    },
    {
      "cell_type": "code",
      "execution_count": null,
      "metadata": {
        "collapsed": false
      },
      "outputs": [],
      "source": [
        "%time res2 = prop.propagate(phi0,ts,maxHT=2*pi/omega / 80)"
      ]
    },
    {
      "cell_type": "code",
      "execution_count": null,
      "metadata": {
        "collapsed": false
      },
      "outputs": [],
      "source": [
        "QHD = [Qobj(H),[Qobj(D),lambda t,args: EF(t)]]\n",
        "%time resq = sesolve(QHD,Qobj(vecs[:,0]),ts,[],options=Options(nsteps=10000,rtol=1e-8))"
      ]
    },
    {
      "cell_type": "code",
      "execution_count": null,
      "metadata": {
        "collapsed": false
      },
      "outputs": [],
      "source": [
        "QHD = [Qobj(H),[Qobj(D),'2.*exp(-t**2/(2*{sigma}**2))*sin({omega}*t)'.format(**globals())]]\n",
        "%time resq2 = sesolve(QHD,Qobj(vecs[:,0]),ts,[],options=Options(nsteps=10000,rtol=1e-8))"
      ]
    },
    {
      "cell_type": "code",
      "execution_count": null,
      "metadata": {
        "collapsed": false
      },
      "outputs": [],
      "source": [
        "QHD = [Qobj(H),[Qobj(D),'2.*exp(-t**2/(2*{sigma}**2))*sin({omega}*t)'.format(**globals())]]\n",
        "%time resq3 = sesolve(QHD,Qobj(vecs[:,0]),ts,[],options=Options(nsteps=10000,rtol=1e-14,atol=1e-14))"
      ]
    },
    {
      "cell_type": "code",
      "execution_count": null,
      "metadata": {
        "collapsed": false
      },
      "outputs": [],
      "source": [
        "phisL = array([r.data for r in res])\n",
        "phisL2 = array([r.data for r in res2])\n",
        "phisQ = array([r.full() for r in resq.states]).squeeze()\n",
        "phisQ2 = array([r.full() for r in resq2.states]).squeeze()\n",
        "phisQ3 = array([r.full() for r in resq3.states]).squeeze()"
      ]
    },
    {
      "cell_type": "code",
      "execution_count": null,
      "metadata": {
        "collapsed": false
      },
      "outputs": [],
      "source": [
        "print(np.allclose(phisL,phisL2,rtol=1e-4,atol=1e-4))\n",
        "print(np.allclose(phisL2,phisQ3,rtol=1e-3,atol=1e-3))\n",
        "print(np.allclose(phisL,phisQ ,rtol=1e-3,atol=1e-4))\n",
        "print(np.allclose(phisL,phisQ2,rtol=1e-3,atol=1e-4))\n",
        "print(np.allclose(phisL,phisQ3,rtol=1e-3,atol=1e-3))"
      ]
    },
    {
      "cell_type": "code",
      "execution_count": null,
      "metadata": {
        "collapsed": false
      },
      "outputs": [],
      "source": [
        "f,axs = subplots(1,4,figsize=(13,5),sharex=True,sharey=True)\n",
        "for ax,p,lab in zip(axs,\n",
        "                    [phisL2,phisQ3,phisL2-phisQ3,phisQ-phisQ3],\n",
        "                    ['SIL',  'RK',    'SIL-RK',  'RK py-cy']):\n",
        "    p = abs(p).T\n",
        "    im = ax.pcolormesh(ts,x,p,shading='gouraud')\n",
        "    ax.text(0.02,0.02,'Max=%.2e'%p.max(),transform=ax.transAxes,color='w')\n",
        "    ax.text(0.5,0.98,lab,transform=ax.transAxes,color='w',ha='center',va='top')\n",
        "axs[0].autoscale(tight=True)\n",
        "f.tight_layout(pad=0.01)\n",
        "cb = colorbar(im,ax=list(axs),orientation='horizontal',shrink=0.8,pad=0.1,aspect=40)\n",
        "cb.set_ticks([0,p.max()])\n",
        "cb.set_ticklabels(['0','max'])"
      ]
    }
  ],
  "metadata": {
    "kernelspec": {
      "display_name": "Python 3",
      "language": "python",
      "name": "python3"
    },
    "language_info": {
      "codemirror_mode": {
        "name": "ipython",
        "version": 3
      },
      "file_extension": ".py",
      "mimetype": "text/x-python",
      "name": "python",
      "nbconvert_exporter": "python",
      "pygments_lexer": "ipython3",
      "version": "3.5.2"
    }
  },
  "nbformat": 4,
  "nbformat_minor": 1
}
