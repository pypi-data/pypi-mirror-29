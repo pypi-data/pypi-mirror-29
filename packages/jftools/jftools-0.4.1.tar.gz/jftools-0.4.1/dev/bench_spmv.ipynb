{
  "cells": [
    {
      "cell_type": "code",
      "execution_count": null,
      "metadata": {
        "collapsed": false
      },
      "outputs": [],
      "source": [
        "%pylab inline\n",
        "style.use('http://johannesfeist.eu/misc/jf.mplstyle')\n",
        "np.set_printoptions(linewidth=200)"
      ]
    },
    {
      "cell_type": "code",
      "execution_count": null,
      "metadata": {
        "collapsed": false
      },
      "outputs": [],
      "source": [
        "from qutip import *"
      ]
    },
    {
      "cell_type": "code",
      "execution_count": null,
      "metadata": {
        "collapsed": false
      },
      "outputs": [],
      "source": [
        "from numba import jit\n",
        "%reload_ext Cython\n",
        "%reload_ext fortranmagic"
      ]
    },
    {
      "cell_type": "code",
      "execution_count": null,
      "metadata": {
        "collapsed": false
      },
      "outputs": [],
      "source": [
        "from scipy.sparse import lil_matrix\n",
        "N = 100000\n",
        "H = lil_matrix((N,N))\n",
        "H[range(N),range(N)] = -2.\n",
        "H[range(N-1),range(1,N)] = 1\n",
        "H[range(1,N),range(N-1)] = 1\n",
        "nvals = 100*N\n",
        "ii = random.randint(N,size=(2,nvals))\n",
        "H[ii[0],ii[1]] = random.rand(nvals)\n",
        "H = H.tocsr()\n",
        "Hc = H.astype(np.complex128)"
      ]
    },
    {
      "cell_type": "code",
      "execution_count": null,
      "metadata": {
        "collapsed": false
      },
      "outputs": [],
      "source": [
        "phi0 = exp(-(arange(N)-15000)**2/(2*300**2)-1.5j*arange(N)) + exp(-(arange(N)-5000)**2/(2*50**2)+1j*arange(N))\n",
        "phi0 /= norm(phi0)\n",
        "phir = randn(N).astype(complex)\n",
        "phir /= norm(phir)"
      ]
    },
    {
      "cell_type": "code",
      "execution_count": null,
      "metadata": {
        "collapsed": false
      },
      "outputs": [],
      "source": [
        "@jit(nopython=True,nogil=True)\n",
        "def csr_matvec_numba(n_row,n_col,Ap,Aj,Ax,Xx,Yx):\n",
        "    for i in range(n_row):\n",
        "        val = Yx[i]\n",
        "        for j in range(Ap[i],Ap[i+1]):\n",
        "            val += Ax[j] * Xx[Aj[j]]\n",
        "        Yx[i] = val"
      ]
    },
    {
      "cell_type": "code",
      "execution_count": null,
      "metadata": {
        "collapsed": false
      },
      "outputs": [],
      "source": [
        "%%fortran --opt \"-O3 -finline-functions -fomit-frame-pointer -fno-strict-aliasing\" --arch \"-march=native\"\n",
        "subroutine csr_matvec_fort(n_row,Ap,Aj,Ax,Xx,a,Yx)\n",
        "  integer, intent(in) :: n_row,Ap(:),Aj(:)\n",
        "  real(8), intent(in) :: Ax(:), a\n",
        "  complex(8), intent(in) :: Xx(:)\n",
        "  complex(8), intent(inout) :: Yx(:)\n",
        "  integer :: i, j\n",
        "  complex(8) :: val\n",
        "  do i = 1, n_row\n",
        "    val = 0.\n",
        "    do j = Ap(i)+1,Ap(i+1)\n",
        "      val = val + Ax(j)*Xx(Aj(j)+1)\n",
        "    end do\n",
        "    Yx(i) = Yx(i) + a*val\n",
        "  end do\n",
        "end subroutine"
      ]
    },
    {
      "cell_type": "code",
      "execution_count": null,
      "metadata": {
        "collapsed": false
      },
      "outputs": [],
      "source": [
        "%%fortran --opt \"-O3 -finline-functions -fomit-frame-pointer -fno-strict-aliasing\" --arch \"-march=native\"\n",
        "subroutine save_vecs(n_row,Ap,Aj,Ax)\n",
        "  implicit none\n",
        "  integer, intent(in) :: n_row,Ap(:),Aj(:)\n",
        "  real(8), intent(in) :: Ax(:)\n",
        "  write(501) n_row, size(Aj)\n",
        "  write(502) Ap, Aj, Ax\n",
        "  write(60,*) n_row, size(Aj)\n",
        "  write(60,*) Ap(1:3)\n",
        "  write(60,*) Aj(1:3)\n",
        "  write(60,*) Ax(1:3)\n",
        "  close(501)\n",
        "  close(502)\n",
        "  close(60)\n",
        "end subroutine"
      ]
    },
    {
      "cell_type": "code",
      "execution_count": null,
      "metadata": {
        "collapsed": false
      },
      "outputs": [],
      "source": [
        "save_vecs(H.shape[0],H.indptr,H.indices,H.data)\n",
        "!cat fort.60"
      ]
    },
    {
      "cell_type": "code",
      "execution_count": null,
      "metadata": {
        "collapsed": false,
        "scrolled": false
      },
      "outputs": [],
      "source": [
        "%%cython -a -c=-O3 -c=-march=native\n",
        "import cython\n",
        "@cython.boundscheck(False)\n",
        "@cython.wraparound(False)\n",
        "@cython.embedsignature(True)\n",
        "def csr_matvec_cy(size_t n_row, size_t n_col, int[::1] Ap, int[::1] Aj, double[::1] Ax,\n",
        "                  double complex[::1] Xx, double a, double complex[::1] Yx):\n",
        "    cdef:\n",
        "        size_t i,j\n",
        "        double complex val\n",
        "    for i in range(n_row):\n",
        "        val = 0. #Yx[i]\n",
        "        for j in range(Ap[i],Ap[i+1]):\n",
        "            val += Ax[j] * Xx[Aj[j]]\n",
        "        Yx[i] = Yx[i] + a*val\n",
        "\n",
        "@cython.boundscheck(False)\n",
        "@cython.wraparound(False)\n",
        "@cython.embedsignature(True)\n",
        "def csr_matvec_cyc(size_t n_row, size_t n_col, int[::1] Ap, int[::1] Aj, complex[::1] Ax, complex[::1] Xx, complex[::1] Yx):\n",
        "    cdef:\n",
        "        size_t i,j\n",
        "        complex val\n",
        "    for i in range(n_row):\n",
        "        val = Yx[i]\n",
        "        for j in range(Ap[i],Ap[i+1]):\n",
        "            val += Ax[j] * Xx[Aj[j]]\n",
        "        Yx[i] = val"
      ]
    },
    {
      "cell_type": "code",
      "execution_count": null,
      "metadata": {
        "collapsed": true
      },
      "outputs": [],
      "source": [
        "from qutip.cy.spmatfuncs import spmvpy\n",
        "from scipy.sparse._sparsetools import csr_matvec"
      ]
    },
    {
      "cell_type": "code",
      "execution_count": null,
      "metadata": {
        "collapsed": false
      },
      "outputs": [],
      "source": [
        "phitest = H.dot(phi0)\n",
        "phir *= 0.\n",
        "csr_matvec(N,N,H.indptr,H.indices,H.data,phi0,phir)\n",
        "print(norm(phitest-phir))"
      ]
    },
    {
      "cell_type": "code",
      "execution_count": null,
      "metadata": {
        "collapsed": false
      },
      "outputs": [],
      "source": [
        "phitest = H.dot(phi0)\n",
        "def testfunc(f):\n",
        "    import timeit\n",
        "    global phir\n",
        "    phir *= 0.\n",
        "    f()\n",
        "    print(\"%.1e\"%norm((phitest-phir)/phitest),end=' ')\n",
        "    t1 = timeit.Timer(f)\n",
        "    print(\"%5.1f ms\"%(t1.timeit(10)/10 * 1e3))\n",
        "testfunc(lambda: csr_matvec(N,N,H.indptr,H.indices,H.data,phi0,phir))"
      ]
    },
    {
      "cell_type": "code",
      "execution_count": null,
      "metadata": {
        "collapsed": false
      },
      "outputs": [],
      "source": [
        "def testd(H,phi,Hphi):\n",
        "    Hphi[:] = H.dot(phi)\n",
        "testfunc(lambda: testd(H,phi0,phir))\n",
        "testfunc(lambda: csr_matvec(N,N,H.indptr,H.indices,H.data,phi0,phir))\n",
        "testfunc(lambda: csr_matvec_numba(N,N,H.indptr,H.indices,H.data,phi0,phir))\n",
        "testfunc(lambda: csr_matvec_cy(N,N,H.indptr,H.indices,H.data,phi0,1.,phir))\n",
        "testfunc(lambda: csr_matvec_cyc(N,N,Hc.indptr,Hc.indices,Hc.data,phi0,phir))\n",
        "testfunc(lambda: csr_matvec_fort(N,H.indptr,H.indices,H.data,phi0,1.,phir))\n",
        "testfunc(lambda: spmvpy(Hc.data,Hc.indices,Hc.indptr,phi0,1.,phir))"
      ]
    }
  ],
  "metadata": {
    "kernelspec": {
      "display_name": "Python 3",
      "language": "python",
      "name": "python3"
    },
    "language_info": {
      "codemirror_mode": {
        "name": "ipython",
        "version": 3
      },
      "file_extension": ".py",
      "mimetype": "text/x-python",
      "name": "python",
      "nbconvert_exporter": "python",
      "pygments_lexer": "ipython3",
      "version": "3.5.2"
    }
  },
  "nbformat": 4,
  "nbformat_minor": 1
}
