{
  "cells": [
    {
      "cell_type": "code",
      "execution_count": null,
      "metadata": {
        "collapsed": true
      },
      "outputs": [],
      "source": [
        "import numpy as np\n",
        "import scipy.integrate"
      ]
    },
    {
      "cell_type": "code",
      "execution_count": null,
      "metadata": {
        "collapsed": false
      },
      "outputs": [],
      "source": [
        "#!f2py-3.5 -c -m dvrmod dvrmod.f90\n",
        "import dvrmod"
      ]
    },
    {
      "cell_type": "code",
      "execution_count": null,
      "metadata": {
        "collapsed": false
      },
      "outputs": [],
      "source": [
        "from jftools import fedvr"
      ]
    },
    {
      "cell_type": "code",
      "execution_count": null,
      "metadata": {
        "collapsed": false,
        "scrolled": false
      },
      "outputs": [],
      "source": [
        "n = 51\n",
        "f = lambda x: x**3 - 2*x**2\n",
        "t, w = fedvr.simpsrule(n)\n",
        "print(f(t) @ w, scipy.integrate.simps(f(t),t))"
      ]
    },
    {
      "cell_type": "code",
      "execution_count": null,
      "metadata": {
        "collapsed": false
      },
      "outputs": [],
      "source": [
        "print(fedvr.gbslve(1,t,w) == dvrmod.helpers.gbslve(1,t,w))\n",
        "%timeit -n100 dvrmod.helpers.gbslve(1,t,w)\n",
        "%timeit -n100 fedvr.gbslve(1,t,w)"
      ]
    },
    {
      "cell_type": "code",
      "execution_count": null,
      "metadata": {
        "collapsed": false,
        "scrolled": false
      },
      "outputs": [],
      "source": [
        "n = 15\n",
        "endpts = np.r_[-1.,1.]\n",
        "t1, w1 = dvrmod.helpers.gaussq('legendre',0,0,len(endpts),endpts,np.empty(n))\n",
        "t2, w2 = fedvr.gaussq('legendre',n,endpts)\n",
        "assert np.allclose(t1,t2)\n",
        "assert np.allclose(w1,w2)\n",
        "\n",
        "%timeit -n100 t1, w1 = dvrmod.helpers.gaussq('legendre',0,0,len(endpts),endpts,np.empty(n))\n",
        "%timeit -n100 t2, w2 = fedvr.gaussq('legendre',n,endpts)"
      ]
    },
    {
      "cell_type": "code",
      "execution_count": null,
      "metadata": {
        "collapsed": false
      },
      "outputs": [],
      "source": [
        "A = np.random.random((2,n))\n",
        "t2, w2 = scipy.linalg.eig_banded(A)\n",
        "d, e = A[1], np.r_[A[0,1:],0.]\n",
        "\n",
        "t1 = A[1,:]\n",
        "ee = np.r_[A[0,1:],0.]\n",
        "w1 = np.zeros(n); w1[0]=1.\n",
        "ierr = dvrmod.helpers.gbtql2(t1,ee,w1)\n",
        "assert ierr==0\n",
        "assert np.allclose(t1,t2)\n",
        "assert np.allclose(abs(w2[0]),abs(w1))\n",
        "\n",
        "%timeit -n500 w1.copy()\n",
        "%timeit -n500 t2, w2 = scipy.linalg.eig_banded(A)\n",
        "%timeit -n500 ierr = dvrmod.helpers.gbtql2(t1.copy(),ee.copy(),w1.copy())"
      ]
    },
    {
      "cell_type": "code",
      "execution_count": null,
      "metadata": {
        "collapsed": false
      },
      "outputs": [],
      "source": [
        "def checkgaussq(kind,n,alpha,beta,endpts):\n",
        "    fendpts = np.zeros(2)\n",
        "    fendpts[:len(endpts)] = endpts\n",
        "    t1, w1 = dvrmod.helpers.gaussq(kind,alpha,beta,len(endpts),fendpts,np.empty(n))\n",
        "    t2, w2 = fedvr.gaussq(kind,n,endpts,alpha,beta)\n",
        "    assert np.allclose(t1,t2)\n",
        "    assert np.allclose(w1,w2)\n",
        "\n",
        "for n in [12,19,28,55]:\n",
        "    kinds = ['legendre','chebyshev-1','chebyshev-2','hermite','jacobi','laguerre']\n",
        "    if n%2==1:\n",
        "        kinds.append('simpson')\n",
        "    for kind in kinds:\n",
        "        checkgaussq(kind,n,0,0,[])\n",
        "    for alpha in [-0.99,-0.5,0,0.31351,0.5,1,2]:\n",
        "        checkgaussq('laguerre',n,alpha,0,[])\n",
        "        for beta in [-0.99,-0.5,0,0.31351,0.5,1,2]:\n",
        "            checkgaussq('jacobi',n,alpha,beta,[])"
      ]
    },
    {
      "cell_type": "code",
      "execution_count": null,
      "metadata": {
        "collapsed": false,
        "scrolled": false
      },
      "outputs": [],
      "source": [
        "x = np.linspace(0,2,13)\n",
        "y = np.linspace(0.01,1,27)\n",
        "\n",
        "fres = dvrmod.helpers.lgngr(x,x,'a')\n",
        "pres = fedvr.lgngr(x,x)\n",
        "print(*(np.allclose(f,p) for f,p in zip(fres,pres)))\n",
        "\n",
        "fres = dvrmod.helpers.lgngr(x,y,'a')\n",
        "pres = fedvr.lgngr(x,y)\n",
        "print(*(np.allclose(f,p) for f,p in zip(fres,pres)))"
      ]
    },
    {
      "cell_type": "code",
      "execution_count": null,
      "metadata": {
        "collapsed": true
      },
      "outputs": [],
      "source": [
        "def dvr_reg(*args,**kwargs):\n",
        "    r = fedvr.fedvr_region(*args,**kwargs)\n",
        "    return r.x, r.wt, r.dx, r.dx2, r.ke"
      ]
    },
    {
      "cell_type": "code",
      "execution_count": null,
      "metadata": {
        "collapsed": false,
        "scrolled": false
      },
      "outputs": [],
      "source": [
        "fres = dvrmod.dvr_reg(18,[-3,10])\n",
        "pres =  dvr_reg(18,[-3,10])\n",
        "print(*(np.allclose(f,p) for f,p in zip(fres,pres)))"
      ]
    },
    {
      "cell_type": "code",
      "execution_count": null,
      "metadata": {
        "collapsed": false
      },
      "outputs": [],
      "source": [
        "%timeit -n100 fres = dvrmod.dvr_reg(15,[-3,10])\n",
        "%timeit -n100 pres = dvr_reg(15,[-3,10])"
      ]
    }
  ],
  "metadata": {
    "kernelspec": {
      "display_name": "Python 3",
      "language": "python",
      "name": "python3"
    },
    "language_info": {
      "codemirror_mode": {
        "name": "ipython",
        "version": 3
      },
      "file_extension": ".py",
      "mimetype": "text/x-python",
      "name": "python",
      "nbconvert_exporter": "python",
      "pygments_lexer": "ipython3",
      "version": "3.5.2"
    }
  },
  "nbformat": 4,
  "nbformat_minor": 0
}
