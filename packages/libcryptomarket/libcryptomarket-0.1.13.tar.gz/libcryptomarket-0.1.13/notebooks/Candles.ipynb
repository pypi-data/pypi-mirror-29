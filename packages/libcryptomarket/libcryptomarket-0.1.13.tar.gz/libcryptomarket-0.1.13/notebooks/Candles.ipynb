{
 "cells": [
  {
   "cell_type": "code",
   "execution_count": 7,
   "metadata": {
    "ExecuteTime": {
     "end_time": "2018-02-01T03:07:19.370253Z",
     "start_time": "2018-02-01T03:07:19.320425Z"
    }
   },
   "outputs": [
    {
     "name": "stdout",
     "output_type": "stream",
     "text": [
      "The autoreload extension is already loaded. To reload it, use:\n",
      "  %reload_ext autoreload\n"
     ]
    }
   ],
   "source": [
    "%load_ext autoreload\n",
    "%autoreload 2\n",
    "\n",
    "import pandas as pd\n",
    "\n",
    "from libcryptomarket.core import candles, latest_candles, FREQUENCY_TO_SEC_DICT"
   ]
  },
  {
   "cell_type": "markdown",
   "metadata": {},
   "source": [
    "## Candles"
   ]
  },
  {
   "cell_type": "code",
   "execution_count": 22,
   "metadata": {
    "ExecuteTime": {
     "end_time": "2018-02-01T11:08:13.573415Z",
     "start_time": "2018-02-01T11:08:06.960801Z"
    },
    "scrolled": true
   },
   "outputs": [
    {
     "name": "stdout",
     "output_type": "stream",
     "text": [
      "Running exchange poloniex for instrument BTC_LTC\n",
      "Running exchange bitfinex for instrument tBTCUSD\n",
      "Running exchange gdax for instrument BTC-USD\n"
     ]
    }
   ],
   "source": [
    "for source, symbol in [\n",
    "        (\"poloniex\", \"BTC_LTC\"), \n",
    "        (\"bitfinex\", \"tBTCUSD\"),\n",
    "        (\"gdax\", \"BTC-USD\")]:\n",
    "    print(\"Running exchange {} for instrument {}\".format(source, symbol))\n",
    "    data = candles(source=source, symbol=symbol, \n",
    "                   start_time=pd.Timestamp(\"2017-12-15\"), end_time=pd.Timestamp(\"2017-12-31\"), frequency=\"1d\")\n",
    "    assert data[\"start_time\"].iloc[0] == pd.Timestamp(\"2017-12-15\")\n",
    "    assert data[\"end_time\"].iloc[-1] == pd.Timestamp(\"2017-12-31\")"
   ]
  },
  {
   "cell_type": "markdown",
   "metadata": {},
   "source": [
    "## Latest candles"
   ]
  },
  {
   "cell_type": "code",
   "execution_count": 24,
   "metadata": {
    "ExecuteTime": {
     "end_time": "2018-02-01T11:08:52.923410Z",
     "start_time": "2018-02-01T11:08:40.223787Z"
    }
   },
   "outputs": [
    {
     "name": "stdout",
     "output_type": "stream",
     "text": [
      "Running exchange poloniex for instrument ['BTC_LTC', 'BTC_ETH']\n",
      "Running exchange bitfinex for instrument ['tBTCUSD', 'tETHUSD']\n",
      "Running exchange gdax for instrument ['BTC-USD', 'ETH-USD']\n"
     ]
    }
   ],
   "source": [
    "for source, symbols in [\n",
    "        (\"poloniex\", [\"BTC_LTC\", \"BTC_ETH\"]), \n",
    "        (\"bitfinex\", [\"tBTCUSD\", \"tETHUSD\"]),\n",
    "        (\"gdax\", [\"BTC-USD\", \"ETH-USD\"])\n",
    "    ]:\n",
    "    print(\"Running exchange {} for instrument {}\".format(source, symbols))\n",
    "    data = latest_candles(source=source, symbols=symbols, frequency=\"5m\", frequency_count=1)\n",
    "    assert data.shape[0] == 1"
   ]
  },
  {
   "cell_type": "markdown",
   "metadata": {},
   "source": [
    "## Latest candles with quote_currency"
   ]
  },
  {
   "cell_type": "code",
   "execution_count": 35,
   "metadata": {
    "ExecuteTime": {
     "end_time": "2018-02-05T14:32:57.924368Z",
     "start_time": "2018-02-05T14:32:55.837626Z"
    }
   },
   "outputs": [
    {
     "name": "stdout",
     "output_type": "stream",
     "text": [
      "Running exchange poloniex for instrument ['USDT_BTC']\n"
     ]
    }
   ],
   "source": [
    "for source, symbols in [\n",
    "        (\"poloniex\", [\"USDT_BTC\", ]), \n",
    "    ]:\n",
    "    print(\"Running exchange {} for instrument {}\".format(source, symbols))\n",
    "    data = latest_candles(source=source, symbols=symbols, frequency=\"5m\", frequency_count=1, quote_currency=\"BTC\")\n",
    "    assert data.shape[0] == 1"
   ]
  },
  {
   "cell_type": "code",
   "execution_count": null,
   "metadata": {},
   "outputs": [],
   "source": []
  }
 ],
 "metadata": {
  "kernelspec": {
   "display_name": "Python 3",
   "language": "python",
   "name": "python3"
  },
  "language_info": {
   "codemirror_mode": {
    "name": "ipython",
    "version": 3
   },
   "file_extension": ".py",
   "mimetype": "text/x-python",
   "name": "python",
   "nbconvert_exporter": "python",
   "pygments_lexer": "ipython3",
   "version": "3.5.2"
  }
 },
 "nbformat": 4,
 "nbformat_minor": 2
}
