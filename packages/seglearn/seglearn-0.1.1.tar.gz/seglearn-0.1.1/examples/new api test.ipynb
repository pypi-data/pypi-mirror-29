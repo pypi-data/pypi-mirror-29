{
 "cells": [
  {
   "cell_type": "code",
   "execution_count": 1,
   "metadata": {},
   "outputs": [],
   "source": [
    "from seglearn.feature_functions import base_features, all_features, mean, var, std, skew\n",
    "from seglearn.transform import FeatureRep, Segment\n",
    "from seglearn.pipe import SegPipe\n",
    "from seglearn.datasets import load_watch\n",
    "from seglearn.util import make_ts_data, get_ts_data_parts\n",
    "\n",
    "import numpy as np\n",
    "from sklearn.pipeline import Pipeline\n",
    "from sklearn.ensemble import RandomForestClassifier\n",
    "from sklearn.model_selection import cross_validate, GridSearchCV\n",
    "import matplotlib.pyplot as plt"
   ]
  },
  {
   "cell_type": "code",
   "execution_count": 12,
   "metadata": {},
   "outputs": [
    {
     "name": "stdout",
     "output_type": "stream",
     "text": [
      "(4677, 54)\n",
      "(4677, 54)\n",
      "(4677, 54)\n",
      "0.9987171263630532\n"
     ]
    }
   ],
   "source": [
    "data = load_watch()\n",
    "Xs = np.column_stack([data['side'], data['subject']])\n",
    "X = make_ts_data(data['X'])\n",
    "y = data['y']\n",
    "\n",
    "features=base_features()\n",
    "\n",
    "\n",
    "est = Pipeline([('ftr', FeatureRep(features)),\n",
    "                ('rf', RandomForestClassifier())])\n",
    "\n",
    "pipe = SegPipe(est)\n",
    "\n",
    "pipe.fit(X, y)\n",
    "ye, yp = pipe.predict(X, y)\n",
    "print(pipe.score(X, y))\n"
   ]
  },
  {
   "cell_type": "code",
   "execution_count": 6,
   "metadata": {},
   "outputs": [
    {
     "name": "stdout",
     "output_type": "stream",
     "text": [
      "(4677, 54)\n",
      "(4677, 54)\n",
      "(4677, 54)\n",
      "0.9985033140902287\n"
     ]
    }
   ],
   "source": [
    "def uv(X):\n",
    "    X_new = [X[i][:,0] for i in np.arange(len(X))]\n",
    "    return X_new\n",
    "data = load_watch()\n",
    "\n",
    "Xuv = uv(data['X'])\n",
    "Xuv = make_ts_data(Xuv)\n",
    "y = data['y']\n",
    "\n",
    "est = Pipeline([('ftr', FeatureRep(features = base_features())),\n",
    "                ('rf', RandomForestClassifier())])\n",
    "\n",
    "pipe = SegPipe(est)\n",
    "\n",
    "pipe.fit(X, y)\n",
    "ye, yp = pipe.predict(X, y)\n",
    "print(pipe.score(X, y))\n"
   ]
  },
  {
   "cell_type": "code",
   "execution_count": 1,
   "metadata": {},
   "outputs": [
    {
     "name": "stdout",
     "output_type": "stream",
     "text": [
      "(4677, 24)\n",
      "(4677, 24)\n",
      "{'acc2': 0.9985033140902287, 'acc1': 0.9985033140902287}\n"
     ]
    }
   ],
   "source": [
    "from seglearn.transform import FeatureRep\n",
    "from seglearn.feature_functions import mean, var, std, skew\n",
    "from seglearn.pipe import SegPipe\n",
    "from seglearn.datasets import load_watch\n",
    "from seglearn.util import make_ts_data\n",
    "from sklearn.pipeline import Pipeline\n",
    "from sklearn.ensemble import RandomForestClassifier\n",
    "data = load_watch()\n",
    "X = make_ts_data(data['X'])\n",
    "y = data['y']\n",
    "fts = {'mean': mean, 'var': var, 'std': std, 'skew': skew}\n",
    "est = Pipeline([('ftr', FeatureRep(features = fts)),('rf',RandomForestClassifier())])\n",
    "pipe = SegPipe(est)\n",
    "pipe.fit(X, y)\n",
    "print(pipe.score(X, y))"
   ]
  },
  {
   "cell_type": "code",
   "execution_count": 1,
   "metadata": {},
   "outputs": [
    {
     "name": "stdout",
     "output_type": "stream",
     "text": [
      "(3028, 24)\n",
      "(1649, 24)\n",
      "(3028, 24)\n",
      "(3131, 24)\n",
      "(1546, 24)\n",
      "(3131, 24)\n",
      "(3195, 24)\n",
      "(1482, 24)\n",
      "(3195, 24)\n",
      "{'fit_time': array([0.17011476, 0.17890978, 0.17744064]), 'train_score': array([0.9993395 , 0.99904184, 0.99906103]), 'test_score': array([0.74651304, 0.77943079, 0.73211876]), 'score_time': array([0.05029535, 0.04937291, 0.0461123 ])}\n"
     ]
    }
   ],
   "source": [
    "from seglearn.transform import FeatureRep\n",
    "from seglearn.feature_functions import mean, var, std, skew\n",
    "from seglearn.pipe import SegPipe\n",
    "from seglearn.datasets import load_watch\n",
    "from seglearn.util import make_ts_data\n",
    "from sklearn.pipeline import Pipeline\n",
    "from sklearn.ensemble import RandomForestClassifier\n",
    "from sklearn.model_selection import cross_validate\n",
    "data = load_watch()\n",
    "X = make_ts_data(data['X'])\n",
    "y = data['y']\n",
    "fts = {'mean': mean, 'var': var, 'std': std, 'skew': skew}\n",
    "est = Pipeline([('ftr', FeatureRep(features = fts)),('rf',RandomForestClassifier())])\n",
    "pipe = SegPipe(est)\n",
    "\n",
    "scores = cross_validate(pipe,X,y)\n",
    "print(scores)\n",
    "\n",
    "\n"
   ]
  },
  {
   "cell_type": "code",
   "execution_count": 2,
   "metadata": {},
   "outputs": [],
   "source": [
    "import seglearn as sgl\n",
    "sgl."
   ]
  },
  {
   "cell_type": "code",
   "execution_count": null,
   "metadata": {},
   "outputs": [],
   "source": []
  }
 ],
 "metadata": {
  "kernelspec": {
   "display_name": "Python 3",
   "language": "python",
   "name": "python3"
  },
  "language_info": {
   "codemirror_mode": {
    "name": "ipython",
    "version": 3
   },
   "file_extension": ".py",
   "mimetype": "text/x-python",
   "name": "python",
   "nbconvert_exporter": "python",
   "pygments_lexer": "ipython3",
   "version": "3.5.2"
  }
 },
 "nbformat": 4,
 "nbformat_minor": 2
}
