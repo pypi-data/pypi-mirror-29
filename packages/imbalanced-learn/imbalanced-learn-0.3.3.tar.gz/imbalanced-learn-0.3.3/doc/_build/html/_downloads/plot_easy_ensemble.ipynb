{
  "cells": [
    {
      "cell_type": "code",
      "execution_count": null,
      "metadata": {
        "collapsed": false
      },
      "outputs": [],
      "source": [
        "%matplotlib inline"
      ]
    },
    {
      "cell_type": "markdown",
      "metadata": {},
      "source": [
        "\n# Easy ensemble\n\n\nAn illustration of the easy ensemble method.\n\n\n"
      ]
    },
    {
      "cell_type": "code",
      "execution_count": null,
      "metadata": {
        "collapsed": false
      },
      "outputs": [],
      "source": [
        "# Authors: Christos Aridas\n#          Guillaume Lemaitre <g.lemaitre58@gmail.com>\n# License: MIT\n\nimport matplotlib.pyplot as plt\nfrom sklearn.datasets import make_classification\nfrom sklearn.decomposition import PCA\n\nfrom imblearn.ensemble import EasyEnsemble\n\nprint(__doc__)\n\n# Generate the dataset\nX, y = make_classification(n_classes=2, class_sep=2, weights=[0.3, 0.7],\n                           n_informative=3, n_redundant=1, flip_y=0,\n                           n_features=20, n_clusters_per_class=1,\n                           n_samples=100, random_state=10)\n\n# Instanciate a PCA object for the sake of easy visualisation\npca = PCA(n_components=2)\n# Fit and transform x to visualise inside a 2D feature space\nX_vis = pca.fit_transform(X)\n\n# Apply Easy Ensemble\nee = EasyEnsemble(n_subsets=3)\nX_resampled, y_resampled = ee.fit_sample(X, y)\nX_res_vis = []\nfor X_res in X_resampled:\n    X_res_vis.append(pca.transform(X_res))\n\n# Two subplots, unpack the axes array immediately\nf, (ax1, ax2) = plt.subplots(1, 2)\n\nax1.scatter(X_vis[y == 0, 0], X_vis[y == 0, 1], label=\"Class #0\", alpha=0.5)\nax1.scatter(X_vis[y == 1, 0], X_vis[y == 1, 1], label=\"Class #1\", alpha=0.5)\nax1.set_title('Original set')\n\nax2.scatter(X_vis[y == 0, 0], X_vis[y == 0, 1], label=\"Class #0\", alpha=0.5)\nfor iy, e in enumerate(X_res_vis):\n    ax2.scatter(e[y_resampled[iy] == 1, 0], e[y_resampled[iy] == 1, 1],\n                label=\"Class #1 - set #{}\".format(iy), alpha=0.5)\nax2.set_title('Easy ensemble')\n\n# make nice plotting\nfor ax in (ax1, ax2):\n    ax.spines['top'].set_visible(False)\n    ax.spines['right'].set_visible(False)\n    ax.get_xaxis().tick_bottom()\n    ax.get_yaxis().tick_left()\n    ax.spines['left'].set_position(('outward', 10))\n    ax.spines['bottom'].set_position(('outward', 10))\n    ax.set_xlim([-6, 8])\n    ax.set_ylim([-6, 6])\n    ax.legend()\n\nplt.tight_layout()\nplt.show()"
      ]
    }
  ],
  "metadata": {
    "kernelspec": {
      "display_name": "Python 3",
      "language": "python",
      "name": "python3"
    },
    "language_info": {
      "codemirror_mode": {
        "name": "ipython",
        "version": 3
      },
      "file_extension": ".py",
      "mimetype": "text/x-python",
      "name": "python",
      "nbconvert_exporter": "python",
      "pygments_lexer": "ipython3",
      "version": "3.6.1"
    }
  },
  "nbformat": 4,
  "nbformat_minor": 0
}