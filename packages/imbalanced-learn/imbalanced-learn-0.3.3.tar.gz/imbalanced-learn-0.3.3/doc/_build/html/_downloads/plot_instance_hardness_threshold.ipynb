{
  "cells": [
    {
      "cell_type": "code",
      "execution_count": null,
      "metadata": {
        "collapsed": false
      },
      "outputs": [],
      "source": [
        "%matplotlib inline"
      ]
    },
    {
      "cell_type": "markdown",
      "metadata": {},
      "source": [
        "\n# Instance Hardness Threshold\n\n\nAn illustration of the instance hardness threshold method.\n\n\n"
      ]
    },
    {
      "cell_type": "code",
      "execution_count": null,
      "metadata": {
        "collapsed": false
      },
      "outputs": [],
      "source": [
        "# Authors: Dayvid Oliveira\n#          Christos Aridas\n#          Guillaume Lemaitre <g.lemaitre58@gmail.com>\n# License: MIT\n\nimport matplotlib.pyplot as plt\nimport numpy as np\nfrom sklearn.datasets import make_classification\nfrom sklearn.decomposition import PCA\nfrom sklearn.linear_model import LogisticRegression\n\nfrom imblearn.under_sampling import InstanceHardnessThreshold\n\nprint(__doc__)\n\n\ndef plot_resampling(ax, X, y, title):\n    c0 = ax.scatter(X[y == 0, 0], X[y == 0, 1], label=\"Class #0\", alpha=0.5)\n    c1 = ax.scatter(X[y == 1, 0], X[y == 1, 1], label=\"Class #1\", alpha=0.5)\n    ax.set_title(title)\n    ax.spines['top'].set_visible(False)\n    ax.spines['right'].set_visible(False)\n    ax.get_xaxis().tick_bottom()\n    ax.get_yaxis().tick_left()\n    ax.spines['left'].set_position(('outward', 10))\n    ax.spines['bottom'].set_position(('outward', 10))\n    ax.set_xlim([-6, 8])\n    ax.set_ylim([-6, 6])\n\n    return c0, c1\n\n\n# Generate the dataset\nX, y = make_classification(n_classes=2, class_sep=1., weights=[0.1, 0.9],\n                           n_informative=3, n_redundant=1, flip_y=0,\n                           n_features=20, n_clusters_per_class=1,\n                           n_samples=100, random_state=10)\n\npca = PCA(n_components=2)\nX_vis = pca.fit_transform(X)\n\n# Two subplots, unpack the axes array immediately\nf, axs = plt.subplots(2, 2)\n\naxs = [a for ax in axs for a in ax]\nfor ax, ratio in zip(axs, (0,\n                           {1: 25, 0: 10},\n                           {1: 14, 0: 10},\n                           {1: 10, 0: 10})):\n    if ratio == 0:\n        c0, c1 = plot_resampling(ax, X_vis, y, 'Original set')\n    else:\n        iht = InstanceHardnessThreshold(ratio=ratio,\n                                        estimator=LogisticRegression(),\n                                        return_indices=True)\n        X_res, y_res, idx_res = iht.fit_sample(X, y)\n        X_res_vis = pca.transform(X_res)\n        plot_resampling(ax, X_res_vis, y_res,\n                        'Instance Hardness Threshold ({})'.format(ratio))\n        # plot samples which have been removed\n        idx_samples_removed = np.setdiff1d(np.arange(X_vis.shape[0]),\n                                           idx_res)\n        c3 = ax.scatter(X_vis[idx_samples_removed, 0],\n                        X_vis[idx_samples_removed, 1],\n                        alpha=.2, label='Removed samples')\n\nplt.figlegend((c0, c1, c3), ('Class #0', 'Class #1', 'Removed samples'),\n              loc='lower center', ncol=3, labelspacing=0.)\nplt.tight_layout(pad=3)\nplt.show()"
      ]
    }
  ],
  "metadata": {
    "kernelspec": {
      "display_name": "Python 3",
      "language": "python",
      "name": "python3"
    },
    "language_info": {
      "codemirror_mode": {
        "name": "ipython",
        "version": 3
      },
      "file_extension": ".py",
      "mimetype": "text/x-python",
      "name": "python",
      "nbconvert_exporter": "python",
      "pygments_lexer": "ipython3",
      "version": "3.6.1"
    }
  },
  "nbformat": 4,
  "nbformat_minor": 0
}