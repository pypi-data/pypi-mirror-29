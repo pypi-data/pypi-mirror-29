{
  "cells": [
    {
      "cell_type": "code",
      "execution_count": null,
      "metadata": {
        "collapsed": false
      },
      "outputs": [],
      "source": [
        "%matplotlib inline"
      ]
    },
    {
      "cell_type": "markdown",
      "metadata": {},
      "source": [
        "\n============================================================\nUsage of the ``ratio`` parameter for the different algorithm\n============================================================\n\nThis example shows how to use the ``ratio`` parameter in the different\nexamples. It illustrated the use of passing ``ratio`` as a ``str``, ``dict`` or\na callable.\n\n\n"
      ]
    },
    {
      "cell_type": "code",
      "execution_count": null,
      "metadata": {
        "collapsed": false
      },
      "outputs": [],
      "source": [
        "# Authors: Guillaume Lemaitre <g.lemaitre58@gmail.com>\n# License: MIT\n\nfrom collections import Counter\n\nimport matplotlib.pyplot as plt\n\nfrom sklearn.datasets import load_iris\n\nfrom imblearn.datasets import make_imbalance\nfrom imblearn.under_sampling import RandomUnderSampler\n\nprint(__doc__)\n\n\ndef plot_pie(y):\n    target_stats = Counter(y)\n    labels = list(target_stats.keys())\n    sizes = list(target_stats.values())\n    explode = tuple([0.1] * len(target_stats))\n\n    fig, ax = plt.subplots()\n    ax.pie(sizes, explode=explode, labels=labels, shadow=True,\n           autopct='%1.1f%%')\n    ax.axis('equal')"
      ]
    },
    {
      "cell_type": "markdown",
      "metadata": {},
      "source": [
        "Creation of an imbalanced data set from a balanced data set\n##############################################################################\n\n"
      ]
    },
    {
      "cell_type": "markdown",
      "metadata": {},
      "source": [
        "We will show how to use the parameter ``ratio`` when dealing with the\n``make_imbalance`` function. For this function, this parameter accepts both\ndictionary and callable. When using a dictionary, each key will correspond to\nthe class of interest and the corresponding value will be the number of\nsamples desired in this class.\n\n"
      ]
    },
    {
      "cell_type": "code",
      "execution_count": null,
      "metadata": {
        "collapsed": false
      },
      "outputs": [],
      "source": [
        "iris = load_iris()\n\nprint('Information of the original iris data set: \\n {}'.format(\n    Counter(iris.target)))\nplot_pie(iris.target)\n\nratio = {0: 10, 1: 20, 2: 30}\nX, y = make_imbalance(iris.data, iris.target, ratio=ratio)\n\nprint('Information of the iris data set after making it'\n      ' imbalanced using a dict: \\n ratio={} \\n y: {}'.format(ratio,\n                                                              Counter(y)))\nplot_pie(y)"
      ]
    },
    {
      "cell_type": "markdown",
      "metadata": {},
      "source": [
        "You might required more flexibility and require your own heuristic to\ndetermine the number of samples by class and you can define your own callable\nas follow. In this case we will define a function which will use a float\nmultiplier to define the number of samples per class.\n\n"
      ]
    },
    {
      "cell_type": "code",
      "execution_count": null,
      "metadata": {
        "collapsed": false
      },
      "outputs": [],
      "source": [
        "def ratio_multiplier(y):\n    multiplier = {0: 0.5, 1: 0.7, 2: 0.95}\n    target_stats = Counter(y)\n    for key, value in target_stats.items():\n        target_stats[key] = int(value * multiplier[key])\n    return target_stats\n\n\nX, y = make_imbalance(iris.data, iris.target, ratio=ratio_multiplier)\n\nprint('Information of the iris data set after making it'\n      ' imbalanced using a callable: \\n ratio={} \\n y: {}'.format(\n          ratio_multiplier, Counter(y)))\nplot_pie(y)"
      ]
    },
    {
      "cell_type": "markdown",
      "metadata": {},
      "source": [
        "Using ``ratio`` in resampling algorithm\n##############################################################################\n\n"
      ]
    },
    {
      "cell_type": "markdown",
      "metadata": {},
      "source": [
        "In all sampling algorithms, ``ratio`` can be used as illustrated earlier. In\naddition, some predefined functions are available and can be executed using a\n``str`` with the following choices: (i) ``'minority'``: resample the minority\nclass; (ii) ``'majority'``: resample the majority class, (iii) ``'not\nminority'``: resample all classes apart of the minority class, (iv)\n``'all'``: resample all classes, and (v) ``'auto'``: correspond to 'all' with\nfor over-sampling methods and 'not minority' for under-sampling methods. The\nclasses targeted will be over-sampled or under-sampled to achieve an equal\nnumber of sample with the majority or minority class.\n\n"
      ]
    },
    {
      "cell_type": "code",
      "execution_count": null,
      "metadata": {
        "collapsed": false
      },
      "outputs": [],
      "source": [
        "ratio = 'auto'\nX_res, y_res = RandomUnderSampler(ratio=ratio, random_state=0).fit_sample(X, y)\n\nprint('Information of the iris data set after balancing using \"auto\"'\n      ' mode:\\n ratio={} \\n y: {}'.format(ratio, Counter(y_res)))\nplot_pie(y_res)"
      ]
    },
    {
      "cell_type": "markdown",
      "metadata": {},
      "source": [
        "However, you can use the dictionary or the callable options as previously\nmentioned.\n\n"
      ]
    },
    {
      "cell_type": "code",
      "execution_count": null,
      "metadata": {
        "collapsed": false
      },
      "outputs": [],
      "source": [
        "ratio = {0: 25, 1: 30, 2: 35}\nX_res, y_res = RandomUnderSampler(ratio=ratio, random_state=0).fit_sample(X, y)\n\nprint('Information of the iris data set after balancing using a dict'\n      ' mode:\\n ratio={} \\n y: {}'.format(ratio, Counter(y_res)))\nplot_pie(y_res)\n\n\ndef ratio_multiplier(y):\n    multiplier = {1: 0.7, 2: 0.95}\n    target_stats = Counter(y)\n    for key, value in target_stats.items():\n        target_stats[key] = int(value * multiplier[key])\n    return target_stats\n\n\nX_res, y_res = RandomUnderSampler(ratio=ratio, random_state=0).fit_sample(X, y)\n\nprint('Information of the iris data set after balancing using a callable'\n      ' mode:\\n ratio={} \\n y: {}'.format(ratio, Counter(y_res)))\nplot_pie(y_res)\n\nplt.show()"
      ]
    }
  ],
  "metadata": {
    "kernelspec": {
      "display_name": "Python 3",
      "language": "python",
      "name": "python3"
    },
    "language_info": {
      "codemirror_mode": {
        "name": "ipython",
        "version": 3
      },
      "file_extension": ".py",
      "mimetype": "text/x-python",
      "name": "python",
      "nbconvert_exporter": "python",
      "pygments_lexer": "ipython3",
      "version": "3.6.1"
    }
  },
  "nbformat": 4,
  "nbformat_minor": 0
}