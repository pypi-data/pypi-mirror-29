{
  "cells": [
    {
      "cell_type": "code",
      "execution_count": null,
      "metadata": {
        "collapsed": false
      },
      "outputs": [],
      "source": [
        "%matplotlib inline"
      ]
    },
    {
      "cell_type": "markdown",
      "metadata": {},
      "source": [
        "\n# Condensed nearest-neighbour\n\n\nAn illustration of the condensed nearest-neighbour method.\n\n\n"
      ]
    },
    {
      "cell_type": "code",
      "execution_count": null,
      "metadata": {
        "collapsed": false
      },
      "outputs": [],
      "source": [
        "# Authors: Christos Aridas\n#          Guillaume Lemaitre <g.lemaitre58@gmail.com>\n# License: MIT\n\nimport matplotlib.pyplot as plt\nimport numpy as np\nfrom sklearn.datasets import make_classification\nfrom sklearn.decomposition import PCA\n\nfrom imblearn.under_sampling import CondensedNearestNeighbour\n\nprint(__doc__)\n\n# Generate the dataset\nX, y = make_classification(n_classes=2, class_sep=2, weights=[0.1, 0.9],\n                           n_informative=3, n_redundant=1, flip_y=0,\n                           n_features=20, n_clusters_per_class=1,\n                           n_samples=200, random_state=10)\n\n# Instanciate a PCA object for the sake of easy visualisation\npca = PCA(n_components=2)\n# Fit and transform x to visualise inside a 2D feature space\nX_vis = pca.fit_transform(X)\n\n# Apply Condensed Nearest Neighbours\ncnn = CondensedNearestNeighbour(return_indices=True)\nX_resampled, y_resampled, idx_resampled = cnn.fit_sample(X, y)\nX_res_vis = pca.transform(X_resampled)\n\nfig = plt.figure()\nax = fig.add_subplot(1, 1, 1)\n\nidx_samples_removed = np.setdiff1d(np.arange(X_vis.shape[0]),\n                                   idx_resampled)\n\nidx_class_0 = y_resampled == 0\nplt.scatter(X_res_vis[idx_class_0, 0], X_res_vis[idx_class_0, 1],\n            alpha=.8, label='Class #0')\nplt.scatter(X_res_vis[~idx_class_0, 0], X_res_vis[~idx_class_0, 1],\n            alpha=.8, label='Class #1')\nplt.scatter(X_vis[idx_samples_removed, 0], X_vis[idx_samples_removed, 1],\n            alpha=.8, label='Removed samples')\n\n# make nice plotting\nax.spines['top'].set_visible(False)\nax.spines['right'].set_visible(False)\nax.get_xaxis().tick_bottom()\nax.get_yaxis().tick_left()\nax.spines['left'].set_position(('outward', 10))\nax.spines['bottom'].set_position(('outward', 10))\nax.set_xlim([-6, 6])\nax.set_ylim([-6, 6])\n\nplt.title('Under-sampling using condensed nearest-neighbour')\nplt.legend()\nplt.tight_layout()\nplt.show()"
      ]
    }
  ],
  "metadata": {
    "kernelspec": {
      "display_name": "Python 3",
      "language": "python",
      "name": "python3"
    },
    "language_info": {
      "codemirror_mode": {
        "name": "ipython",
        "version": 3
      },
      "file_extension": ".py",
      "mimetype": "text/x-python",
      "name": "python",
      "nbconvert_exporter": "python",
      "pygments_lexer": "ipython3",
      "version": "3.6.1"
    }
  },
  "nbformat": 4,
  "nbformat_minor": 0
}