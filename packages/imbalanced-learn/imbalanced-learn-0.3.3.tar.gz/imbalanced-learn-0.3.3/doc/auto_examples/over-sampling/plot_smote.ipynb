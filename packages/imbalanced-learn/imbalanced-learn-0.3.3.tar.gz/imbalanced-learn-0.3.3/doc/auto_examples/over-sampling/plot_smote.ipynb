{
  "cells": [
    {
      "cell_type": "code",
      "execution_count": null,
      "metadata": {
        "collapsed": false
      },
      "outputs": [],
      "source": [
        "%matplotlib inline"
      ]
    },
    {
      "cell_type": "markdown",
      "metadata": {},
      "source": [
        "\n# SMOTE\n\n\nAn illustration of the SMOTE method and its variant.\n\n\n"
      ]
    },
    {
      "cell_type": "code",
      "execution_count": null,
      "metadata": {
        "collapsed": false
      },
      "outputs": [],
      "source": [
        "# Authors: Fernando Nogueira\n#          Christos Aridas\n#          Guillaume Lemaitre <g.lemaitre58@gmail.com>\n# License: MIT\n\nimport matplotlib.pyplot as plt\nfrom sklearn.datasets import make_classification\nfrom sklearn.decomposition import PCA\n\nfrom imblearn.over_sampling import SMOTE\n\nprint(__doc__)\n\n\ndef plot_resampling(ax, X, y, title):\n    c0 = ax.scatter(X[y == 0, 0], X[y == 0, 1], label=\"Class #0\", alpha=0.5)\n    c1 = ax.scatter(X[y == 1, 0], X[y == 1, 1], label=\"Class #1\", alpha=0.5)\n    ax.set_title(title)\n    ax.spines['top'].set_visible(False)\n    ax.spines['right'].set_visible(False)\n    ax.get_xaxis().tick_bottom()\n    ax.get_yaxis().tick_left()\n    ax.spines['left'].set_position(('outward', 10))\n    ax.spines['bottom'].set_position(('outward', 10))\n    ax.set_xlim([-6, 8])\n    ax.set_ylim([-6, 6])\n\n    return c0, c1\n\n\n# Generate the dataset\nX, y = make_classification(n_classes=2, class_sep=2, weights=[0.3, 0.7],\n                           n_informative=3, n_redundant=1, flip_y=0,\n                           n_features=20, n_clusters_per_class=1,\n                           n_samples=80, random_state=10)\n\n# Instanciate a PCA object for the sake of easy visualisation\npca = PCA(n_components=2)\n# Fit and transform x to visualise inside a 2D feature space\nX_vis = pca.fit_transform(X)\n\n# Apply regular SMOTE\nkind = ['regular', 'borderline1', 'borderline2', 'svm']\nsm = [SMOTE(kind=k) for k in kind]\nX_resampled = []\ny_resampled = []\nX_res_vis = []\nfor method in sm:\n    X_res, y_res = method.fit_sample(X, y)\n    X_resampled.append(X_res)\n    y_resampled.append(y_res)\n    X_res_vis.append(pca.transform(X_res))\n\n# Two subplots, unpack the axes array immediately\nf, ((ax1, ax2), (ax3, ax4), (ax5, ax6)) = plt.subplots(3, 2)\n# Remove axis for second plot\nax2.axis('off')\nax_res = [ax3, ax4, ax5, ax6]\n\nc0, c1 = plot_resampling(ax1, X_vis, y, 'Original set')\nfor i in range(len(kind)):\n    plot_resampling(ax_res[i], X_res_vis[i], y_resampled[i],\n                    'SMOTE {}'.format(kind[i]))\n\nax2.legend((c0, c1), ('Class #0', 'Class #1'), loc='center',\n           ncol=1, labelspacing=0.)\nplt.tight_layout()\nplt.show()"
      ]
    }
  ],
  "metadata": {
    "kernelspec": {
      "display_name": "Python 3",
      "language": "python",
      "name": "python3"
    },
    "language_info": {
      "codemirror_mode": {
        "name": "ipython",
        "version": 3
      },
      "file_extension": ".py",
      "mimetype": "text/x-python",
      "name": "python",
      "nbconvert_exporter": "python",
      "pygments_lexer": "ipython3",
      "version": "3.6.1"
    }
  },
  "nbformat": 4,
  "nbformat_minor": 0
}