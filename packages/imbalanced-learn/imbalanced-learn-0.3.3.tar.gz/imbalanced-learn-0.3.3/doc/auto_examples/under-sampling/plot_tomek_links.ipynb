{
  "cells": [
    {
      "cell_type": "code",
      "execution_count": null,
      "metadata": {
        "collapsed": false
      },
      "outputs": [],
      "source": [
        "%matplotlib inline"
      ]
    },
    {
      "cell_type": "markdown",
      "metadata": {},
      "source": [
        "\n# Tomek links\n\n\nAn illustration of the Tomek links method.\n\n"
      ]
    },
    {
      "cell_type": "code",
      "execution_count": null,
      "metadata": {
        "collapsed": false
      },
      "outputs": [],
      "source": [
        "# Authors: Andreas Mueller\n#          Christos Aridas\n#          Guillaume Lemaitre <g.lemaitre58@gmail.com>\n# License: MIT\n\n\nimport numpy as np\nimport matplotlib.pyplot as plt\n\nfrom sklearn.model_selection import train_test_split\nfrom sklearn.utils import shuffle\n\nfrom imblearn.under_sampling import TomekLinks\n\nprint(__doc__)\n\nrng = np.random.RandomState(0)\nn_samples_1 = 500\nn_samples_2 = 50\nX_syn = np.r_[1.5 * rng.randn(n_samples_1, 2),\n              0.5 * rng.randn(n_samples_2, 2) + [2, 2]]\ny_syn = np.array([0] * (n_samples_1) + [1] * (n_samples_2))\nX_syn, y_syn = shuffle(X_syn, y_syn)\nX_syn_train, X_syn_test, y_syn_train, y_syn_test = train_test_split(X_syn,\n                                                                    y_syn)\n\n# remove Tomek links\ntl = TomekLinks(return_indices=True)\nX_resampled, y_resampled, idx_resampled = tl.fit_sample(X_syn, y_syn)\n\nfig = plt.figure()\nax = fig.add_subplot(1, 1, 1)\n\nidx_samples_removed = np.setdiff1d(np.arange(X_syn.shape[0]),\n                                   idx_resampled)\nidx_class_0 = y_resampled == 0\nplt.scatter(X_resampled[idx_class_0, 0], X_resampled[idx_class_0, 1],\n            alpha=.8, label='Class #0')\nplt.scatter(X_resampled[~idx_class_0, 0], X_resampled[~idx_class_0, 1],\n            alpha=.8, label='Class #1')\nplt.scatter(X_syn[idx_samples_removed, 0], X_syn[idx_samples_removed, 1],\n            alpha=.8, label='Removed samples')\n\n# make nice plotting\nax.spines['top'].set_visible(False)\nax.spines['right'].set_visible(False)\nax.get_xaxis().tick_bottom()\nax.get_yaxis().tick_left()\nax.spines['left'].set_position(('outward', 10))\nax.spines['bottom'].set_position(('outward', 10))\nax.set_xlim([-5, 5])\nax.set_ylim([-5, 5])\nplt.yticks(range(-5, 6))\nplt.xticks(range(-5, 6))\n\nplt.title('Under-sampling removing Tomek links')\nplt.legend()\n\nplt.show()"
      ]
    }
  ],
  "metadata": {
    "kernelspec": {
      "display_name": "Python 3",
      "language": "python",
      "name": "python3"
    },
    "language_info": {
      "codemirror_mode": {
        "name": "ipython",
        "version": 3
      },
      "file_extension": ".py",
      "mimetype": "text/x-python",
      "name": "python",
      "nbconvert_exporter": "python",
      "pygments_lexer": "ipython3",
      "version": "3.6.1"
    }
  },
  "nbformat": 4,
  "nbformat_minor": 0
}