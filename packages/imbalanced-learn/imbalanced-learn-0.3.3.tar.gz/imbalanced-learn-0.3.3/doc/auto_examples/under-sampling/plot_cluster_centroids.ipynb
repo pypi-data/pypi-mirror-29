{
  "cells": [
    {
      "cell_type": "code",
      "execution_count": null,
      "metadata": {
        "collapsed": false
      },
      "outputs": [],
      "source": [
        "%matplotlib inline"
      ]
    },
    {
      "cell_type": "markdown",
      "metadata": {},
      "source": [
        "\n# Cluster centroids\n\n\nAn illustration of the cluster centroids method.\n\n\n"
      ]
    },
    {
      "cell_type": "code",
      "execution_count": null,
      "metadata": {
        "collapsed": false
      },
      "outputs": [],
      "source": [
        "# Authors: Fernando Nogueira\n#          Christos Aridas\n#          Guillaume Lemaitre <g.lemaitre58@gmail.com>\n# License: MIT\n\nimport matplotlib.pyplot as plt\nfrom sklearn.datasets import make_classification\nfrom sklearn.decomposition import PCA\n\nfrom imblearn.under_sampling import ClusterCentroids\n\nprint(__doc__)\n\n# Generate the dataset\nX, y = make_classification(n_classes=2, class_sep=2, weights=[0.1, 0.9],\n                           n_informative=3, n_redundant=1, flip_y=0,\n                           n_features=20, n_clusters_per_class=1,\n                           n_samples=50, random_state=10)\n\n# Instanciate a PCA object for the sake of easy visualisation\npca = PCA(n_components=2)\n# Fit and transform x to visualise inside a 2D feature space\nX_vis = pca.fit_transform(X)\n\n# Apply Cluster Centroids\ncc = ClusterCentroids()\nX_resampled, y_resampled = cc.fit_sample(X, y)\nX_res_vis_soft = pca.transform(X_resampled)\n\n# Use hard voting instead of soft voting\ncc = ClusterCentroids(voting='hard')\nX_resampled, y_resampled = cc.fit_sample(X, y)\nX_res_vis_hard = pca.transform(X_resampled)\n\n# Two subplots, unpack the axes array immediately\nf, (ax1, ax2, ax3) = plt.subplots(1, 3, figsize=(15, 5))\n\nc0 = ax1.scatter(X_vis[y == 0, 0], X_vis[y == 0, 1], label=\"Class #0\",\n                 alpha=0.5)\nc1 = ax1.scatter(X_vis[y == 1, 0], X_vis[y == 1, 1], label=\"Class #1\",\n                 alpha=0.5)\nax1.set_title('Original set')\n\nax2.scatter(X_res_vis_soft[y_resampled == 0, 0],\n            X_res_vis_soft[y_resampled == 0, 1],\n            label=\"Class #0\", alpha=.5)\nax2.scatter(X_res_vis_soft[y_resampled == 1, 0],\n            X_res_vis_soft[y_resampled == 1, 1],\n            label=\"Class #1\", alpha=.5)\nc2 = ax2.scatter(X_vis[y == 1, 0],\n                 X_vis[y == 1, 1], label=\"Original #1\",\n                 alpha=0.2)\nax2.set_title('Cluster centroids with soft voting')\n\nax3.scatter(X_res_vis_hard[y_resampled == 0, 0],\n            X_res_vis_hard[y_resampled == 0, 1],\n            label=\"Class #0\", alpha=.5)\nax3.scatter(X_res_vis_hard[y_resampled == 1, 0],\n            X_res_vis_hard[y_resampled == 1, 1],\n            label=\"Class #1\", alpha=.5)\nax3.scatter(X_vis[y == 1, 0],\n            X_vis[y == 1, 1],\n            alpha=0.2)\nax3.set_title('Cluster centroids with hard voting')\n\n# make nice plotting\nfor ax in (ax1, ax2, ax3):\n    ax.spines['top'].set_visible(False)\n    ax.spines['right'].set_visible(False)\n    ax.get_xaxis().tick_bottom()\n    ax.get_yaxis().tick_left()\n    ax.spines['left'].set_position(('outward', 10))\n    ax.spines['bottom'].set_position(('outward', 10))\n    ax.set_xlim([-6, 8])\n    ax.set_ylim([-6, 6])\n\nplt.figlegend((c0, c1), ('Class #0', 'Class #1', 'Original Class #1'),\n              loc='lower center',\n              ncol=3, labelspacing=0.)\nplt.tight_layout(pad=3)\nplt.show()"
      ]
    }
  ],
  "metadata": {
    "kernelspec": {
      "display_name": "Python 3",
      "language": "python",
      "name": "python3"
    },
    "language_info": {
      "codemirror_mode": {
        "name": "ipython",
        "version": 3
      },
      "file_extension": ".py",
      "mimetype": "text/x-python",
      "name": "python",
      "nbconvert_exporter": "python",
      "pygments_lexer": "ipython3",
      "version": "3.6.1"
    }
  },
  "nbformat": 4,
  "nbformat_minor": 0
}