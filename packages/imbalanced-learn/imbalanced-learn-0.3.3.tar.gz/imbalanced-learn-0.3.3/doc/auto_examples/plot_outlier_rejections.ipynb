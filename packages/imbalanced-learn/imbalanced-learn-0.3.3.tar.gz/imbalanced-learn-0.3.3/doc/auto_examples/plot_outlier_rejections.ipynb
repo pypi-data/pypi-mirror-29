{
  "cells": [
    {
      "cell_type": "code",
      "execution_count": null,
      "metadata": {
        "collapsed": false
      },
      "outputs": [],
      "source": [
        "%matplotlib inline"
      ]
    },
    {
      "cell_type": "markdown",
      "metadata": {},
      "source": [
        "\n# Customized sampler to implement an outlier rejections estimator\n\n\nThis example illustrates the use of a custom sampler to implement an outlier\nrejections estimator. It can be used easily within a pipeline in which the\nnumber of samples can vary during training, which usually is a limitation of\nthe current scikit-learn pipeline.\n\n\n"
      ]
    },
    {
      "cell_type": "code",
      "execution_count": null,
      "metadata": {
        "collapsed": false
      },
      "outputs": [],
      "source": [
        "# Authors: Guillaume Lemaitre <g.lemaitre58@gmail.com>\n# License: MIT\n\nimport numpy as np\nimport matplotlib.pyplot as plt\n\nfrom sklearn.datasets import make_moons, make_blobs\nfrom sklearn.ensemble import IsolationForest\nfrom sklearn.linear_model import LogisticRegression\nfrom sklearn.metrics import classification_report\n\nfrom imblearn.misc import FunctionSampler\nfrom imblearn.pipeline import make_pipeline\n\nprint(__doc__)\n\nrng = np.random.RandomState(42)\n\n\ndef plot_scatter(X, y, title):\n    plt.figure()\n    plt.scatter(X[y == 1, 0], X[y == 1, 1], label='Class #1')\n    plt.scatter(X[y == 0, 0], X[y == 0, 1], label='Class #0')\n    plt.legend()\n    plt.title(title)\n\n\n# Generate contaminated training data\nmoons, _ = make_moons(n_samples=500, noise=0.05)\nblobs, _ = make_blobs(n_samples=500, centers=[(-0.75, 2.25),\n                                              (1.0, 2.0)],\n                      cluster_std=0.25)\noutliers = rng.uniform(low=-3, high=3, size=(500, 2))\nX_train = np.vstack([moons, blobs, outliers])\ny_train = np.hstack([np.ones(moons.shape[0], dtype=np.int8),\n                     np.zeros(blobs.shape[0], dtype=np.int8),\n                     rng.randint(0, 2, size=outliers.shape[0],\n                                 dtype=np.int8)])\n\nplot_scatter(X_train, y_train, 'Training dataset')\n\n# Generate non-contaminated testing data\nmoons, _ = make_moons(n_samples=50, noise=0.05)\nblobs, _ = make_blobs(n_samples=50, centers=[(-0.75, 2.25),\n                                             (1.0, 2.0)],\n                      cluster_std=0.25)\nX_test = np.vstack([moons, blobs])\ny_test = np.hstack([np.ones(moons.shape[0], dtype=np.int8),\n                    np.zeros(blobs.shape[0], dtype=np.int8)])\n\nplot_scatter(X_test, y_test, 'Testing dataset')\n\n\ndef outlier_rejection(X, y):\n    model = IsolationForest(max_samples=100,\n                            contamination=0.4,\n                            random_state=rng)\n    model.fit(X)\n    y_pred = model.predict(X)\n    return X[y_pred == 1], y[y_pred == 1]\n\n\nreject_sampler = FunctionSampler(func=outlier_rejection)\nX_inliers, y_inliers = reject_sampler.fit_sample(X_train, y_train)\nplot_scatter(X_inliers, y_inliers, 'Training data without outliers')\n\npipe = make_pipeline(FunctionSampler(func=outlier_rejection),\n                     LogisticRegression(random_state=rng))\ny_pred = pipe.fit(X_train, y_train).predict(X_test)\nprint(classification_report(y_test, y_pred))\n\nclf = LogisticRegression(random_state=rng)\ny_pred = clf.fit(X_train, y_train).predict(X_test)\nprint(classification_report(y_test, y_pred))\n\nplt.show()"
      ]
    }
  ],
  "metadata": {
    "kernelspec": {
      "display_name": "Python 3",
      "language": "python",
      "name": "python3"
    },
    "language_info": {
      "codemirror_mode": {
        "name": "ipython",
        "version": 3
      },
      "file_extension": ".py",
      "mimetype": "text/x-python",
      "name": "python",
      "nbconvert_exporter": "python",
      "pygments_lexer": "ipython3",
      "version": "3.6.1"
    }
  },
  "nbformat": 4,
  "nbformat_minor": 0
}