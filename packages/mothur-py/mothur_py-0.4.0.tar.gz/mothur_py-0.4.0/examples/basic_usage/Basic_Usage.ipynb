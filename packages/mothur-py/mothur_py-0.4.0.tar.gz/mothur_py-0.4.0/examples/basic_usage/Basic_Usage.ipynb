{
 "cells": [
  {
   "cell_type": "markdown",
   "metadata": {},
   "source": [
    "# Basic Usage\n",
    "\n",
    "This notebook demonstrates the basic usage of the mothur-py module for running mothur.\n",
    "\n",
    "The use of this module requires that mothur is in the users `PATH` environment variable.\n",
    "\n",
    "Run using v0.3.0"
   ]
  },
  {
   "cell_type": "code",
   "execution_count": 1,
   "metadata": {
    "collapsed": true
   },
   "outputs": [],
   "source": [
    "# import all requires modules/packages\n",
    "import os\n",
    "import sys\n",
    "\n",
    "# change working directory to allow import of package without installation\n",
    "work_dir = os.getcwd()\n",
    "base_dir = os.path.join(work_dir, '..', '..')\n",
    "os.chdir(base_dir)\n",
    "\n",
    "# from mothur_py import Mothur\n",
    "from mothur_py import Mothur\n",
    "os.chdir(work_dir)"
   ]
  },
  {
   "cell_type": "markdown",
   "metadata": {},
   "source": [
    "Use of this module revolves around the `Mothur` class that catches method calls and passes them off to mothur to be run \n",
    "as commands. An instance of the `Mothur` class needs to be created before running any commands:\n"
   ]
  },
  {
   "cell_type": "code",
   "execution_count": 2,
   "metadata": {
    "collapsed": true
   },
   "outputs": [],
   "source": [
    "# create instance of Mothur class with verbosity at 1 to show normal mothur output\n",
    "m = Mothur(verbosity=1)"
   ]
  },
  {
   "cell_type": "markdown",
   "metadata": {},
   "source": [
    "Commands in mothur can then be executed as methods of the `Mothur` class instance using the same names you would use \n",
    "within the command line version of mothur:"
   ]
  },
  {
   "cell_type": "code",
   "execution_count": 3,
   "metadata": {
    "scrolled": false
   },
   "outputs": [
    {
     "name": "stdout",
     "output_type": "stream",
     "text": [
      "mothur > help()\n",
      "Valid commands are: align.check, align.seqs, amova, anosim, bin.seqs, biom.info, catchall, chimera.bellerophon, chimera.ccode, chimera.check, chimera.perseus, chimera.pintail, chimera.slayer, chimera.uchime, chimera.vsearch, chop.seqs, classify.otu, classify.seqs, classify.svm, classify.tree, clearcut, cluster, cluster.classic, cluster.fragments, cluster.split, collect.shared, collect.single, consensus.seqs, cooccurrence, corr.axes, count.groups, count.seqs, create.database, degap.seqs, deunique.seqs, deunique.tree, dist.seqs, dist.shared, fastq.info, filter.seqs, filter.shared, get.commandinfo, get.communitytype, get.coremicrobiome, get.current, get.dists, get.group, get.groups, get.label, get.lineage, get.mimarkspackage, get.otulabels, get.otulist, get.oturep, get.otus, get.rabund, get.relabund, get.sabund, get.seqs, get.sharedseqs, heatmap.bin, heatmap.sim, help, homova, indicator, kruskal.wallis, lefse, libshuff, list.otulabels, list.otus, list.seqs, make.biom, make.contigs, make.fastq, make.file, make.group, make.lefse, make.lookup, make.shared, make.sra, make.table, mantel, merge.count, merge.files, merge.groups, merge.sfffiles, merge.taxsummary, metastats, mgcluster, mimarks.attributes, nmds, normalize.shared, otu.association, otu.hierarchy, pairwise.seqs, parse.list, parsimony, pca, pcoa, pcr.seqs, phylo.diversity, phylotype, pre.cluster, primer.design, quit, rarefaction.shared, rarefaction.single, remove.dists, remove.groups, remove.lineage, remove.otulabels, remove.otus, remove.rare, remove.seqs, rename.file, rename.seqs, reverse.seqs, screen.seqs, sens.spec, seq.error, set.current, set.dir, set.logfile, set.seed, sff.multiple, sffinfo, shhh.flows, shhh.seqs, sort.seqs, sparcc, split.abund, split.groups, sub.sample, summary.qual, summary.seqs, summary.shared, summary.single, summary.tax, system, tree.shared, trim.flows, trim.seqs, unifrac.unweighted, unifrac.weighted, unique.seqs, venn.\n",
      "For more information about a specific command type 'commandName(help)' i.e. 'cluster(help)'\n",
      "\n",
      "For further assistance please refer to the Mothur manual on our wiki at http://www.mothur.org/wiki, or contact Pat Schloss at mothur.bugs@gmail.com.\n",
      "\n"
     ]
    }
   ],
   "source": [
    "# run the mothur help command\n",
    "m.help()"
   ]
  },
  {
   "cell_type": "markdown",
   "metadata": {},
   "source": [
    "---\n",
    "\n",
    "Unlike the command line version, command parameters must be passed as strings, integers, or floats:"
   ]
  },
  {
   "cell_type": "code",
   "execution_count": 4,
   "metadata": {
    "scrolled": false
   },
   "outputs": [
    {
     "name": "stdout",
     "output_type": "stream",
     "text": [
      "mothur > make.contigs(file=basic_usage.files,processors=2)\n",
      "\n",
      "Using 2 processors.\n",
      "\n",
      ">>>>>\tProcessing file pair basic_usage_R1.fastq - basic_usage_R2.fastq (files 1 of 1)\t<<<<<\n",
      "Making contigs...\n",
      "12\n",
      "13\n",
      "Done.\n",
      "\n",
      "It took 1 secs to assemble 25 reads.\n",
      "\n",
      "It took 1 secs to process 25 sequences.\n",
      "\n",
      "Group count: \n",
      "basic_usage_group\t25\n",
      "\n",
      "Total of all groups is 25\n",
      "\n",
      "Output File Names: \n",
      "basic_usage.trim.contigs.fasta\n",
      "basic_usage.trim.contigs.qual\n",
      "basic_usage.contigs.report\n",
      "basic_usage.scrap.contigs.fasta\n",
      "basic_usage.scrap.contigs.qual\n",
      "basic_usage.contigs.groups\n",
      "\n",
      "[WARNING]: your sequence names contained ':'.  I changed them to '_' to avoid problems in your downstream analysis.\n",
      "\n",
      "<<<<<<<<<<<<<<<<<<<<<<<<<<<<<<^>>>>>>>>>>>>>>>>>>>>>>>>>>>>>\n",
      "<<<<<<<<<<<<<<<<<<<<<<<<<<<<<<^>>>>>>>>>>>>>>>>>>>>>>>>>>>>>\n",
      "<<<<<<<<<<<<<<<<<<<<<<<<<<<<<<^>>>>>>>>>>>>>>>>>>>>>>>>>>>>>\n",
      "Detected 1 [WARNING] messages, please review.\n",
      "<<<<<<<<<<<<<<<<<<<<<<<<<<<<<<^>>>>>>>>>>>>>>>>>>>>>>>>>>>>>\n",
      "<<<<<<<<<<<<<<<<<<<<<<<<<<<<<<^>>>>>>>>>>>>>>>>>>>>>>>>>>>>>\n",
      "<<<<<<<<<<<<<<<<<<<<<<<<<<<<<<^>>>>>>>>>>>>>>>>>>>>>>>>>>>>>\n"
     ]
    }
   ],
   "source": [
    "m.make.contigs(file='basic_usage.files', processors=2)"
   ]
  },
  {
   "cell_type": "markdown",
   "metadata": {},
   "source": [
    "---\n",
    "\n",
    "Failing to do so will generally result in python raising a `NameError`:"
   ]
  },
  {
   "cell_type": "code",
   "execution_count": 5,
   "metadata": {},
   "outputs": [
    {
     "ename": "NameError",
     "evalue": "name 'basic_usage' is not defined",
     "output_type": "error",
     "traceback": [
      "\u001b[1;31m---------------------------------------------------------------------------\u001b[0m",
      "\u001b[1;31mNameError\u001b[0m                                 Traceback (most recent call last)",
      "\u001b[1;32m<ipython-input-5-49328620e0a1>\u001b[0m in \u001b[0;36m<module>\u001b[1;34m()\u001b[0m\n\u001b[1;32m----> 1\u001b[1;33m \u001b[0mm\u001b[0m\u001b[1;33m.\u001b[0m\u001b[0mmake\u001b[0m\u001b[1;33m.\u001b[0m\u001b[0mcontigs\u001b[0m\u001b[1;33m(\u001b[0m\u001b[0mfile\u001b[0m\u001b[1;33m=\u001b[0m\u001b[0mbasic_usage\u001b[0m\u001b[1;33m.\u001b[0m\u001b[0mfiles\u001b[0m\u001b[1;33m)\u001b[0m\u001b[1;33m\u001b[0m\u001b[0m\n\u001b[0m",
      "\u001b[1;31mNameError\u001b[0m: name 'basic_usage' is not defined"
     ]
    }
   ],
   "source": [
    "m.make.contigs(file=basic_usage.files)"
   ]
  },
  {
   "cell_type": "markdown",
   "metadata": {},
   "source": [
    "---\n",
    "\n",
    "There is also full implementation of the `current` keyword used in the command line version of mothur:"
   ]
  },
  {
   "cell_type": "code",
   "execution_count": 6,
   "metadata": {},
   "outputs": [
    {
     "name": "stdout",
     "output_type": "stream",
     "text": [
      "mothur > summary.seqs(fasta=current)\n",
      "Using basic_usage.trim.contigs.fasta as input file for the fasta parameter.\n",
      "\n",
      "Using 2 processors.\n",
      "\n",
      "\t\tStart\tEnd\tNBases\tAmbigs\tPolymer\tNumSeqs\n",
      "Minimum:\t1\t252\t252\t0\t3\t1\n",
      "2.5%-tile:\t1\t252\t252\t0\t3\t1\n",
      "25%-tile:\t1\t252\t252\t0\t4\t7\n",
      "Median: \t1\t252\t252\t0\t4\t13\n",
      "75%-tile:\t1\t253\t253\t0\t4\t19\n",
      "97.5%-tile:\t1\t254\t254\t3\t5\t25\n",
      "Maximum:\t1\t254\t254\t3\t5\t25\n",
      "Mean:\t1\t252.36\t252.36\t0.24\t4.12\n",
      "# of Seqs:\t25\n",
      "\n",
      "Output File Names: \n",
      "basic_usage.trim.contigs.summary\n",
      "\n",
      "It took 0 secs to summarize 25 sequences.\n",
      "\n"
     ]
    }
   ],
   "source": [
    "# run the mothur summary.seqs command using the 'current' option\n",
    "# NOTE: current is being passed as a string\n",
    "m.summary.seqs(fasta='current')"
   ]
  },
  {
   "cell_type": "code",
   "execution_count": 7,
   "metadata": {},
   "outputs": [
    {
     "name": "stdout",
     "output_type": "stream",
     "text": [
      "mothur > summary.seqs()\n",
      "Using basic_usage.trim.contigs.fasta as input file for the fasta parameter.\n",
      "\n",
      "Using 2 processors.\n",
      "\n",
      "\t\tStart\tEnd\tNBases\tAmbigs\tPolymer\tNumSeqs\n",
      "Minimum:\t1\t252\t252\t0\t3\t1\n",
      "2.5%-tile:\t1\t252\t252\t0\t3\t1\n",
      "25%-tile:\t1\t252\t252\t0\t4\t7\n",
      "Median: \t1\t252\t252\t0\t4\t13\n",
      "75%-tile:\t1\t253\t253\t0\t4\t19\n",
      "97.5%-tile:\t1\t254\t254\t3\t5\t25\n",
      "Maximum:\t1\t254\t254\t3\t5\t25\n",
      "Mean:\t1\t252.36\t252.36\t0.24\t4.12\n",
      "# of Seqs:\t25\n",
      "\n",
      "Output File Names: \n",
      "basic_usage.trim.contigs.summary\n",
      "\n",
      "It took 0 secs to summarize 25 sequences.\n",
      "\n"
     ]
    }
   ],
   "source": [
    "# like the command line version, you don't even need to specify \n",
    "# the 'current' keyword for some commands\n",
    "m.summary.seqs() "
   ]
  },
  {
   "cell_type": "code",
   "execution_count": null,
   "metadata": {
    "collapsed": true
   },
   "outputs": [],
   "source": []
  }
 ],
 "metadata": {
  "kernelspec": {
   "display_name": "Python 3",
   "language": "python",
   "name": "python3"
  },
  "language_info": {
   "codemirror_mode": {
    "name": "ipython",
    "version": 3
   },
   "file_extension": ".py",
   "mimetype": "text/x-python",
   "name": "python",
   "nbconvert_exporter": "python",
   "pygments_lexer": "ipython3",
   "version": "3.6.1"
  }
 },
 "nbformat": 4,
 "nbformat_minor": 2
}
