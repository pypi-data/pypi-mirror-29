{
 "cells": [
  {
   "cell_type": "raw",
   "metadata": {
    "raw_mimetype": "text/restructuredtext"
   },
   "source": [
    ".. _cython:"
   ]
  },
  {
   "cell_type": "markdown",
   "metadata": {},
   "source": [
    "# Optimizing with Cython\n",
    "\n",
    "In some cases, it is possible to further improve performance using [Cython](http://www.cython.org), which is a Python-to-C/C++ compiler.  When looping over arrays of simple data types, it is possible to optimize out the array accesses (_e.g._, `x[i]`).\n",
    "\n",
    "This page will not teach you how to use Cython, which is beyond the scope of what we can do here.  There are some examples in the fwdpy11 unit tests, though.\n",
    "\n",
    "The examples here are generated in a Jupyter notebook using the Cython magics extension.  In reality, the Cython code would be offloaded into .pyx files."
   ]
  },
  {
   "cell_type": "raw",
   "metadata": {
    "raw_mimetype": "text/restructuredtext"
   },
   "source": [
    ".. note::\n",
    "    Using Cython is an attempt to optimize code.  Optimization is a tricky business.  Perhaps the first rule of\n",
    "    optimizing code is to demonstrate a need for optimization--is function `X` really a bottleneck?  The second \n",
    "    rule would then be to show that your optimizations do indeed speed things up.  In the following example, we\n",
    "    see situations where using Cython is **slower** than using Python + NumPy.  The lesson is that it is always\n",
    "    important to benchmark."
   ]
  },
  {
   "cell_type": "raw",
   "metadata": {
    "raw_mimetype": "text/restructuredtext"
   },
   "source": [
    "Background reading:\n",
    "\n",
    "* :ref:`processingpopsNP`\n",
    "* `Cython typed memory views <http://cython.readthedocs.io/en/latest/src/userguide/memoryviews.html>`_"
   ]
  },
  {
   "cell_type": "code",
   "execution_count": 1,
   "metadata": {
    "collapsed": true
   },
   "outputs": [],
   "source": [
    "%load_ext Cython"
   ]
  },
  {
   "cell_type": "markdown",
   "metadata": {},
   "source": [
    "## The site-frequency spectrum\n",
    "\n",
    "Let's revisit getting the sfs from a population."
   ]
  },
  {
   "cell_type": "code",
   "execution_count": 2,
   "metadata": {
    "collapsed": true,
    "scrolled": true
   },
   "outputs": [],
   "source": [
    "%%cython --cplus --compile-args=-std=c++11\n",
    "from libcpp.vector cimport vector\n",
    "from libcpp.unordered_map cimport unordered_map\n",
    "from libc.stdint cimport uint32_t,int8_t\n",
    "\n",
    "#A first attempt at a Cython implementation.\n",
    "#it takes a C++ vector as an argument,\n",
    "#and an untype 2nd argument, which will\n",
    "#be the mutations container\n",
    "def sfs_cython(const vector[uint32_t] & counts,mutations):\n",
    "    cdef size_t i = 0\n",
    "    cdef nc = counts.size()\n",
    "    cdef unordered_map[unsigned,unsigned] n,s\n",
    "    while i < nc:\n",
    "        if counts[i]>0:\n",
    "            if mutations[i].neutral is True:\n",
    "                n[counts[i]]+=1\n",
    "            else:\n",
    "                s[counts[i]]+=1\n",
    "        i+=1\n",
    "    return (n,s)\n",
    "\n",
    "from cython.view cimport array as cvarray\n",
    "\n",
    "#Let's be more aggressive, and write \n",
    "#a function taking memory views to\n",
    "#mutation counts, their neutrality, \n",
    "#and effect sizes\n",
    "def sfs_cython_memview(uint32_t[:] counts,int8_t[:] neutral,double[:] esizes):\n",
    "    cdef size_t i = 0\n",
    "    cdef nc = counts.shape[0]\n",
    "    cdef unordered_map[unsigned,unsigned] n,s\n",
    "    while i < nc:\n",
    "        if counts[i]>0:\n",
    "            if neutral[i]==1:\n",
    "                n[counts[i]]+=1\n",
    "            else:\n",
    "                s[counts[i]]+=1\n",
    "        i+=1\n",
    "    return (n,s)"
   ]
  },
  {
   "cell_type": "raw",
   "metadata": {
    "raw_mimetype": "text/restructuredtext"
   },
   "source": [
    "This is our implementation that we saw in :ref:`processingpopsNP`:"
   ]
  },
  {
   "cell_type": "code",
   "execution_count": 3,
   "metadata": {
    "collapsed": true
   },
   "outputs": [],
   "source": [
    "from collections import Counter\n",
    "def sfs_np(pop):                                                  \n",
    "    m = np.array(pop.mutations.array())      \n",
    "    mc = np.array(pop.mcounts,copy=False)\n",
    "    sfsn = Counter()             \n",
    "    sfss = Counter()\n",
    "    extant = np.where(mc>0)\n",
    "    n=m['neutral']                                          \n",
    "    for i in extant[0]:     \n",
    "        if n[i]==1:                                                  \n",
    "            sfsn[mc[i]] += 1                                             \n",
    "        else:               \n",
    "            sfss[mc[i]] += 1\n",
    "    return (sfsn,sfss)"
   ]
  },
  {
   "cell_type": "markdown",
   "metadata": {},
   "source": [
    "Run the same sims that we did before:"
   ]
  },
  {
   "cell_type": "code",
   "execution_count": 4,
   "metadata": {
    "collapsed": true
   },
   "outputs": [],
   "source": [
    "import fwdpy11\n",
    "import fwdpy11.fitness\n",
    "import fwdpy11.model_params\n",
    "import fwdpy11.ezparams\n",
    "import fwdpy11.wright_fisher\n",
    "import numpy as np\n",
    "\n",
    "rng = fwdpy11.GSLrng(42)\n",
    "\n",
    "theta,rho = 100.0,100.0\n",
    "pop = fwdpy11.SlocusPop(1000)\n",
    "\n",
    "pdict = fwdpy11.ezparams.mslike(pop,simlen=pop.N,dfe=fwdpy11.regions.ExpS(0,1,1,-0.1,1),pneutral = 0.95)\n",
    "\n",
    "params = fwdpy11.model_params.SlocusParams(**pdict)\n",
    "fwdpy11.wright_fisher.evolve(rng,pop,params)"
   ]
  },
  {
   "cell_type": "code",
   "execution_count": 5,
   "metadata": {},
   "outputs": [
    {
     "name": "stdout",
     "output_type": "stream",
     "text": [
      "1.73 ms ± 13 µs per loop (mean ± std. dev. of 7 runs, 1000 loops each)\n"
     ]
    }
   ],
   "source": [
    "%timeit sfs_np(pop)"
   ]
  },
  {
   "cell_type": "code",
   "execution_count": 6,
   "metadata": {},
   "outputs": [
    {
     "name": "stdout",
     "output_type": "stream",
     "text": [
      "5.97 ms ± 129 µs per loop (mean ± std. dev. of 7 runs, 100 loops each)\n"
     ]
    }
   ],
   "source": [
    "%timeit sfs_cython(pop.mcounts,pop.mutations)"
   ]
  },
  {
   "cell_type": "code",
   "execution_count": 7,
   "metadata": {},
   "outputs": [
    {
     "name": "stdout",
     "output_type": "stream",
     "text": [
      "317 µs ± 5.56 µs per loop (mean ± std. dev. of 7 runs, 1000 loops each)\n"
     ]
    }
   ],
   "source": [
    "%timeit sfs_cython_memview(pop.mcounts,np.array(pop.mutations.array())['neutral'],np.array(pop.mutations.array())['s'])"
   ]
  },
  {
   "cell_type": "raw",
   "metadata": {
    "raw_mimetype": "text/restructuredtext"
   },
   "source": [
    "Two points of interest.  First, our first attempt at a Cython function is actually slower than our \"numpy only\" version.  However, using Cython's memory views is a huge performance gain!\n",
    "\n",
    ".. note::\n",
    "    Take a careful look at the last benchmark.  We generated `pop.mutations.array()` twice, and each one requires a \n",
    "    copy of the population data!  What happens if we cache the array?"
   ]
  },
  {
   "cell_type": "code",
   "execution_count": 8,
   "metadata": {},
   "outputs": [
    {
     "name": "stdout",
     "output_type": "stream",
     "text": [
      "91.9 µs ± 1.78 µs per loop (mean ± std. dev. of 7 runs, 10000 loops each)\n"
     ]
    }
   ],
   "source": [
    "muts = np.array(pop.mutations.array())\n",
    "%timeit sfs_cython_memview(pop.mcounts,muts['neutral'],muts['s'])"
   ]
  },
  {
   "cell_type": "markdown",
   "metadata": {},
   "source": [
    "Nice--4x faster!\n",
    "\n",
    "## Frequency vs. effect size\n",
    "\n",
    "This is an example where Cython doesn't give a big payoff. We have to do a lot of work to get Cython to outperform what we can do \"naturally\" in fwdpy11 and the performance gains are marginal at best."
   ]
  },
  {
   "cell_type": "code",
   "execution_count": 9,
   "metadata": {
    "collapsed": true
   },
   "outputs": [],
   "source": [
    "%%cython\n",
    "from cython.view cimport array as cvarray\n",
    "from libc.stdint cimport uint32_t\n",
    "import numpy as np\n",
    "cimport numpy as np\n",
    "def freq_esize_cython(const uint32_t[:] counts, np.ndarray mutations):\n",
    "    cdef size_t i=0,ei\n",
    "    cdef nc = counts.shape[0]\n",
    "    cdef np.ndarray[uint32_t,ndim=1] npcounts = np.array(counts,dtype=np.uint32,copy=False)\n",
    "    cdef tuple extant = np.where((npcounts > 0) & (mutations['neutral']==0))\n",
    "    cdef np.ndarray[double,ndim=2] x = np.zeros((extant[0].shape[0],2))    \n",
    "    #The next three memory views\n",
    "    #are needed to outperform a Python-only\n",
    "    #implementation:\n",
    "    cdef long[:] extview = extant[0]\n",
    "    cdef double[:,:] view = x\n",
    "    cdef double[:] sview = mutations['s']\n",
    "    while i < extview.shape[0]:\n",
    "        view[i][0] = counts[extview[i]]\n",
    "        view[i][1] = sview[extview[i]]\n",
    "        i+=1\n",
    "    return x"
   ]
  },
  {
   "cell_type": "code",
   "execution_count": 10,
   "metadata": {},
   "outputs": [
    {
     "name": "stdout",
     "output_type": "stream",
     "text": [
      "146 µs ± 2.12 µs per loop (mean ± std. dev. of 7 runs, 10000 loops each)\n"
     ]
    }
   ],
   "source": [
    "%timeit freq_esize_cython(pop.mcounts,np.array(pop.mutations.array()))"
   ]
  },
  {
   "cell_type": "code",
   "execution_count": 11,
   "metadata": {
    "collapsed": true
   },
   "outputs": [],
   "source": [
    "def freq_esize_python(pop):\n",
    "    npcounts = np.array(pop.mcounts)\n",
    "    mutations = np.array(pop.mutations.array())\n",
    "    extant = np.where((npcounts > 0) & (mutations['neutral']==0))\n",
    "    x = np.zeros((extant[0].shape[0],2))    \n",
    "    i=0\n",
    "    for ei in extant[0]:\n",
    "        x[i] = (npcounts[ei],mutations['s'][ei])\n",
    "        i+=1\n",
    "    return x"
   ]
  },
  {
   "cell_type": "code",
   "execution_count": 12,
   "metadata": {},
   "outputs": [
    {
     "name": "stdout",
     "output_type": "stream",
     "text": [
      "161 µs ± 5.77 µs per loop (mean ± std. dev. of 7 runs, 10000 loops each)\n"
     ]
    }
   ],
   "source": [
    "%timeit freq_esize_python(pop)"
   ]
  }
 ],
 "metadata": {
  "anaconda-cloud": {},
  "celltoolbar": "Raw Cell Format",
  "kernelspec": {
   "display_name": "Python 3",
   "language": "python",
   "name": "python3"
  },
  "language_info": {
   "codemirror_mode": {
    "name": "ipython",
    "version": 3
   },
   "file_extension": ".py",
   "mimetype": "text/x-python",
   "name": "python",
   "nbconvert_exporter": "python",
   "pygments_lexer": "ipython3",
   "version": "3.6.1"
  }
 },
 "nbformat": 4,
 "nbformat_minor": 2
}
