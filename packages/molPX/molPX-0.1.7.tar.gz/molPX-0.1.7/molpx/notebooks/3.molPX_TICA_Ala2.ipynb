{
 "cells": [
  {
   "cell_type": "markdown",
   "metadata": {},
   "source": [
    "# molPX Di-Ala example\n",
    "<pre> \n",
    "Guillermo Pérez-Hernández  guille.perez@fu-berlin.de \n",
    "</pre>\n",
    "   \n",
    "In this notebook we will be using a trajectory of Di-Ala-peptide to easily identify conformations in the Ramachandran plot."
   ]
  },
  {
   "cell_type": "code",
   "execution_count": 4,
   "metadata": {
    "collapsed": true,
    "scrolled": true
   },
   "outputs": [],
   "source": [
    "from os.path import exists\n",
    "import molpx\n",
    "from matplotlib import pylab as plt\n",
    "%matplotlib ipympl\n",
    "\n",
    "import pyemma\n",
    "import numpy as np"
   ]
  },
  {
   "cell_type": "markdown",
   "metadata": {},
   "source": [
    "## Start from files on disk"
   ]
  },
  {
   "cell_type": "code",
   "execution_count": 5,
   "metadata": {
    "collapsed": true
   },
   "outputs": [],
   "source": [
    "top = molpx._molpxdir(join='notebooks/data/ala2.pdb')\n",
    "# What data do we  have?\n",
    "if exists('/group/ag_cmb/scratch/gph82/Di-Ala-nbdata/ala2.dcd'):\n",
    "    MD_trajfiles = ['/group/ag_cmb/scratch/gph82/Di-Ala-nbdata/ala2.dcd'] #long trajectory\n",
    "elif exists('/home/guille/ala2.dcd'):\n",
    "    MD_trajfiles = ['/home/guille/ala2.dcd'] # extra for Stralsund\n",
    "else:\n",
    "    MD_trajfiles = [molpx._molpxdir(join='notebooks/data/ala2.mini.xtc')] #short trajectory"
   ]
  },
  {
   "cell_type": "markdown",
   "metadata": {},
   "source": [
    "## Featurize to Ramachandran $(\\phi,\\psi)$-pairs with `PyEMMA`"
   ]
  },
  {
   "cell_type": "code",
   "execution_count": 6,
   "metadata": {},
   "outputs": [
    {
     "data": {
      "application/vnd.jupyter.widget-view+json": {
       "model_id": "e81a14207be54f7faf3f685940a85863",
       "version_major": 2,
       "version_minor": 0
      },
      "text/html": [
       "<p>Failed to display Jupyter Widget of type <code>Box</code>.</p>\n",
       "<p>\n",
       "  If you're reading this message in Jupyter Notebook or JupyterLab, it may mean\n",
       "  that the widgets JavaScript is still loading. If this message persists, it\n",
       "  likely means that the widgets JavaScript library is either not installed or\n",
       "  not enabled. See the <a href=\"https://ipywidgets.readthedocs.io/en/stable/user_install.html\">Jupyter\n",
       "  Widgets Documentation</a> for setup instructions.\n",
       "</p>\n",
       "<p>\n",
       "  If you're reading this message in another notebook frontend (for example, a static\n",
       "  rendering on GitHub or <a href=\"https://nbviewer.jupyter.org/\">NBViewer</a>),\n",
       "  it may mean that your frontend doesn't currently support widgets.\n",
       "</p>\n"
      ],
      "text/plain": [
       "Box(children=(Text(value=''), IntProgress(value=0)))"
      ]
     },
     "metadata": {},
     "output_type": "display_data"
    }
   ],
   "source": [
    "feat = pyemma.coordinates.featurizer(top)\n",
    "feat.add_backbone_torsions()\n",
    "src  = pyemma.coordinates.source(MD_trajfiles, features=feat)\n",
    "Y = src.get_output()"
   ]
  },
  {
   "cell_type": "markdown",
   "metadata": {},
   "source": [
    "## Visualize a FES and the molecular structures behind it\n",
    "Execute the following cell and click either on the FES or on the slidebar"
   ]
  },
  {
   "cell_type": "code",
   "execution_count": 7,
   "metadata": {
    "scrolled": false
   },
   "outputs": [
    {
     "data": {
      "application/vnd.jupyter.widget-view+json": {
       "model_id": "415deb3f4353423b87629d4233d2a651",
       "version_major": 2,
       "version_minor": 0
      },
      "text/html": [
       "<p>Failed to display Jupyter Widget of type <code>MolPXHBox</code>.</p>\n",
       "<p>\n",
       "  If you're reading this message in Jupyter Notebook or JupyterLab, it may mean\n",
       "  that the widgets JavaScript is still loading. If this message persists, it\n",
       "  likely means that the widgets JavaScript library is either not installed or\n",
       "  not enabled. See the <a href=\"https://ipywidgets.readthedocs.io/en/stable/user_install.html\">Jupyter\n",
       "  Widgets Documentation</a> for setup instructions.\n",
       "</p>\n",
       "<p>\n",
       "  If you're reading this message in another notebook frontend (for example, a static\n",
       "  rendering on GitHub or <a href=\"https://nbviewer.jupyter.org/\">NBViewer</a>),\n",
       "  it may mean that your frontend doesn't currently support widgets.\n",
       "</p>\n"
      ],
      "text/plain": [
       "MolPXHBox(children=(NGLWidget(count=101), FigureCanvasNbAgg()))"
      ]
     },
     "metadata": {},
     "output_type": "display_data"
    }
   ],
   "source": [
    "mpx_widget_box = molpx.visualize.FES(MD_trajfiles,\n",
    "                                     top,\n",
    "                                     Y,\n",
    "                                     #proj_idxs=[1],\n",
    "                                     nbins=50,       \n",
    "                                     proj_labels=['$\\phi$',\n",
    "                                                  '$\\psi$'],\n",
    "                                     atom_selection=\"symbol != H\",\n",
    "                                     #n_overlays=5,\n",
    "                                     #sticky=True, \n",
    "                                     #color_list='random'\n",
    "                                    )\n",
    "mpx_widget_box"
   ]
  },
  {
   "cell_type": "markdown",
   "metadata": {},
   "source": [
    "## Visualize trajectories, FES and molecular structures"
   ]
  },
  {
   "cell_type": "code",
   "execution_count": 8,
   "metadata": {
    "scrolled": false
   },
   "outputs": [
    {
     "data": {
      "application/vnd.jupyter.widget-view+json": {
       "model_id": "f9ccc4547b6f4485b6151424a17497bc",
       "version_major": 2,
       "version_minor": 0
      },
      "text/html": [
       "<p>Failed to display Jupyter Widget of type <code>MolPXVBox</code>.</p>\n",
       "<p>\n",
       "  If you're reading this message in Jupyter Notebook or JupyterLab, it may mean\n",
       "  that the widgets JavaScript is still loading. If this message persists, it\n",
       "  likely means that the widgets JavaScript library is either not installed or\n",
       "  not enabled. See the <a href=\"https://ipywidgets.readthedocs.io/en/stable/user_install.html\">Jupyter\n",
       "  Widgets Documentation</a> for setup instructions.\n",
       "</p>\n",
       "<p>\n",
       "  If you're reading this message in another notebook frontend (for example, a static\n",
       "  rendering on GitHub or <a href=\"https://nbviewer.jupyter.org/\">NBViewer</a>),\n",
       "  it may mean that your frontend doesn't currently support widgets.\n",
       "</p>\n"
      ],
      "text/plain": [
       "MolPXVBox(children=(MolPXHBox(children=(VBox(children=(Button(description='NGL widgets', layout=Layout(width='100%'), style=ButtonStyle()), VBox(children=(NGLWidget(count=3334),), layout=Layout(border='solid'))), layout=Layout(height='4.0in', width='5.0in')), FigureCanvasNbAgg())), MolPXHBox(children=(NGLWidget(count=101), FigureCanvasNbAgg()))))"
      ]
     },
     "metadata": {},
     "output_type": "display_data"
    }
   ],
   "source": [
    "from molpx import visualize, _linkutils\n",
    "from imp import reload\n",
    "reload(visualize)\n",
    "reload(_linkutils)\n",
    "mpl_wdg_box = molpx.visualize.traj(MD_trajfiles,  \n",
    "                                   top, \n",
    "                                   Y,\n",
    "                                   plot_FES = True,\n",
    "                                   #dt = dt*1e-6, tunits='ms',\n",
    "                                   max_frames=10000,\n",
    "                                   proj_idxs=[0, 1],\n",
    "                                   panel_height=2, \n",
    "                                   proj_labels=['$\\phi$', '$\\psi$']\n",
    "                          )\n",
    "mpl_wdg_box"
   ]
  },
  {
   "cell_type": "markdown",
   "metadata": {},
   "source": [
    "# Paths samples along the different projections (=axis)"
   ]
  },
  {
   "cell_type": "code",
   "execution_count": 10,
   "metadata": {
    "collapsed": true
   },
   "outputs": [],
   "source": [
    "paths_dict, idata = molpx.generate.projection_paths(MD_trajfiles, \n",
    "                                                    top, \n",
    "                                                    Y, \n",
    "                                                    n_points=50,\n",
    "                                                    proj_idxs=[0,1],\n",
    "                                                    n_projs=3,\n",
    "                                                    proj_dim = 3, \n",
    "                                                    verbose=False, \n",
    "                                        )"
   ]
  },
  {
   "cell_type": "code",
   "execution_count": 11,
   "metadata": {
    "collapsed": true
   },
   "outputs": [],
   "source": [
    "# Choose the coordinate and the type of path\n",
    "coord = 1\n",
    "path_type = 'min_rmsd'\n",
    "#path_type = 'min_disp'\n",
    "igeom = paths_dict[coord][path_type][\"geom\"]\n",
    "ipath = paths_dict[coord][path_type][\"proj\"]\n",
    "\n",
    "# Choose the proj_idxs for the path and the FES \n",
    "# to be shown\n",
    "proj_idxs = [0,1]"
   ]
  },
  {
   "cell_type": "code",
   "execution_count": 12,
   "metadata": {
    "scrolled": false
   },
   "outputs": [
    {
     "name": "stderr",
     "output_type": "stream",
     "text": [
      "/home/guille/miniconda3/lib/python3.6/site-packages/ipykernel_launcher.py:4: RuntimeWarning: divide by zero encountered in log\n",
      "  after removing the cwd from sys.path.\n"
     ]
    },
    {
     "data": {
      "application/vnd.jupyter.widget-view+json": {
       "model_id": "01623d70d8e844b1bff091673b855024",
       "version_major": 2,
       "version_minor": 0
      },
      "text/html": [
       "<p>Failed to display Jupyter Widget of type <code>HBox</code>.</p>\n",
       "<p>\n",
       "  If you're reading this message in Jupyter Notebook or JupyterLab, it may mean\n",
       "  that the widgets JavaScript is still loading. If this message persists, it\n",
       "  likely means that the widgets JavaScript library is either not installed or\n",
       "  not enabled. See the <a href=\"https://ipywidgets.readthedocs.io/en/stable/user_install.html\">Jupyter\n",
       "  Widgets Documentation</a> for setup instructions.\n",
       "</p>\n",
       "<p>\n",
       "  If you're reading this message in another notebook frontend (for example, a static\n",
       "  rendering on GitHub or <a href=\"https://nbviewer.jupyter.org/\">NBViewer</a>),\n",
       "  it may mean that your frontend doesn't currently support widgets.\n",
       "</p>\n"
      ],
      "text/plain": [
       "HBox(children=(NGLWidget(count=45), FigureCanvasNbAgg()))"
      ]
     },
     "metadata": {},
     "output_type": "display_data"
    }
   ],
   "source": [
    "plt.ioff() # Turn of interactive plotting\n",
    "plt.figure(figsize=(4,4))\n",
    "h, (x,y) = np.histogramdd(np.vstack(Y)[:,proj_idxs], bins=50)\n",
    "plt.contourf(x[:-1], y[:-1], -np.log(h.T), alpha=.50)\n",
    "plt.ion()\n",
    "\n",
    "linked_NGL_wdg, linked_ax_widget = molpx.visualize.sample(ipath[:,proj_idxs], \n",
    "                                                          igeom,  \n",
    "                                                          plt.gca(), \n",
    "                                                          clear_lines=True,\n",
    "                                                          n_smooth = 2, \n",
    "                                                          plot_path=True,  \n",
    "                                                          #radius=True,\n",
    "                                                         )\n",
    "linked_NGL_wdg._set_size('4in', '4in')\n",
    "from ipywidgets import HBox\n",
    "HBox([linked_NGL_wdg, linked_ax_widget.canvas])\n"
   ]
  },
  {
   "cell_type": "markdown",
   "metadata": {
    "collapsed": true
   },
   "source": [
    "# Let's do TICA and try to look a the correlations in a TICA analysis"
   ]
  },
  {
   "cell_type": "code",
   "execution_count": 13,
   "metadata": {},
   "outputs": [
    {
     "name": "stdout",
     "output_type": "stream",
     "text": [
      "01-11-17 21:01:44 pyemma.coordinates.data.featurization.featurizer.MDFeaturizer[7] WARNING  The 1D arrays input for add_distances() have been sorted, and index duplicates have been eliminated.\n",
      "Check the output of describe() to see the actual order of the features\n"
     ]
    },
    {
     "data": {
      "application/vnd.jupyter.widget-view+json": {
       "model_id": "159e3055ae0549a4a930aa5cc0c2e51f",
       "version_major": 2,
       "version_minor": 0
      },
      "text/html": [
       "<p>Failed to display Jupyter Widget of type <code>Box</code>.</p>\n",
       "<p>\n",
       "  If you're reading this message in Jupyter Notebook or JupyterLab, it may mean\n",
       "  that the widgets JavaScript is still loading. If this message persists, it\n",
       "  likely means that the widgets JavaScript library is either not installed or\n",
       "  not enabled. See the <a href=\"https://ipywidgets.readthedocs.io/en/stable/user_install.html\">Jupyter\n",
       "  Widgets Documentation</a> for setup instructions.\n",
       "</p>\n",
       "<p>\n",
       "  If you're reading this message in another notebook frontend (for example, a static\n",
       "  rendering on GitHub or <a href=\"https://nbviewer.jupyter.org/\">NBViewer</a>),\n",
       "  it may mean that your frontend doesn't currently support widgets.\n",
       "</p>\n"
      ],
      "text/plain": [
       "Box(children=(Text(value=''), IntProgress(value=0)))"
      ]
     },
     "metadata": {},
     "output_type": "display_data"
    },
    {
     "data": {
      "application/vnd.jupyter.widget-view+json": {
       "model_id": "eec03e0f5b7549a7aabf2bd8975d3ad9",
       "version_major": 2,
       "version_minor": 0
      },
      "text/html": [
       "<p>Failed to display Jupyter Widget of type <code>Box</code>.</p>\n",
       "<p>\n",
       "  If you're reading this message in Jupyter Notebook or JupyterLab, it may mean\n",
       "  that the widgets JavaScript is still loading. If this message persists, it\n",
       "  likely means that the widgets JavaScript library is either not installed or\n",
       "  not enabled. See the <a href=\"https://ipywidgets.readthedocs.io/en/stable/user_install.html\">Jupyter\n",
       "  Widgets Documentation</a> for setup instructions.\n",
       "</p>\n",
       "<p>\n",
       "  If you're reading this message in another notebook frontend (for example, a static\n",
       "  rendering on GitHub or <a href=\"https://nbviewer.jupyter.org/\">NBViewer</a>),\n",
       "  it may mean that your frontend doesn't currently support widgets.\n",
       "</p>\n"
      ],
      "text/plain": [
       "Box(children=(Text(value=''), IntProgress(value=0)))"
      ]
     },
     "metadata": {},
     "output_type": "display_data"
    }
   ],
   "source": [
    "feat = pyemma.coordinates.featurizer(top)\n",
    "#feat.add_backbone_torsions(cossin=True)\n",
    "feat.add_distances(feat.topology.select('symbol != H'))\n",
    "src  = pyemma.coordinates.source(MD_trajfiles, features=feat)\n",
    "tica = pyemma.coordinates.tica(src, lag=np.int(src.trajectory_lengths()/3000))\n",
    "Y_tica = tica.get_output()"
   ]
  },
  {
   "cell_type": "code",
   "execution_count": 15,
   "metadata": {},
   "outputs": [
    {
     "data": {
      "application/vnd.jupyter.widget-view+json": {
       "model_id": "a025b63fc12e4543aa177685c415ebd0",
       "version_major": 2,
       "version_minor": 0
      },
      "text/html": [
       "<p>Failed to display Jupyter Widget of type <code>MolPXHBox</code>.</p>\n",
       "<p>\n",
       "  If you're reading this message in Jupyter Notebook or JupyterLab, it may mean\n",
       "  that the widgets JavaScript is still loading. If this message persists, it\n",
       "  likely means that the widgets JavaScript library is either not installed or\n",
       "  not enabled. See the <a href=\"https://ipywidgets.readthedocs.io/en/stable/user_install.html\">Jupyter\n",
       "  Widgets Documentation</a> for setup instructions.\n",
       "</p>\n",
       "<p>\n",
       "  If you're reading this message in another notebook frontend (for example, a static\n",
       "  rendering on GitHub or <a href=\"https://nbviewer.jupyter.org/\">NBViewer</a>),\n",
       "  it may mean that your frontend doesn't currently support widgets.\n",
       "</p>\n"
      ],
      "text/plain": [
       "MolPXHBox(children=(NGLWidget(count=103), FigureCanvasNbAgg()))"
      ]
     },
     "metadata": {},
     "output_type": "display_data"
    }
   ],
   "source": [
    "mpx_wdg_box = molpx.visualize.FES(MD_trajfiles,\n",
    "                                  top,                                                       \n",
    "                                  Y_tica,                                                       \n",
    "                                  n_overlays=5,\n",
    "                                  atom_selection='backbone',\n",
    "                                  #sticky=True,\n",
    "                                  #color_list='rand'\n",
    "          )\n",
    "mpx_wdg_box"
   ]
  },
  {
   "cell_type": "code",
   "execution_count": 17,
   "metadata": {},
   "outputs": [
    {
     "data": {
      "application/vnd.jupyter.widget-view+json": {
       "model_id": "03bb2243ab7843fe9a80deb64574cfe9",
       "version_major": 2,
       "version_minor": 0
      },
      "text/html": [
       "<p>Failed to display Jupyter Widget of type <code>MolPXVBox</code>.</p>\n",
       "<p>\n",
       "  If you're reading this message in Jupyter Notebook or JupyterLab, it may mean\n",
       "  that the widgets JavaScript is still loading. If this message persists, it\n",
       "  likely means that the widgets JavaScript library is either not installed or\n",
       "  not enabled. See the <a href=\"https://ipywidgets.readthedocs.io/en/stable/user_install.html\">Jupyter\n",
       "  Widgets Documentation</a> for setup instructions.\n",
       "</p>\n",
       "<p>\n",
       "  If you're reading this message in another notebook frontend (for example, a static\n",
       "  rendering on GitHub or <a href=\"https://nbviewer.jupyter.org/\">NBViewer</a>),\n",
       "  it may mean that your frontend doesn't currently support widgets.\n",
       "</p>\n"
      ],
      "text/plain": [
       "MolPXVBox(children=(MolPXHBox(children=(VBox(children=(Button(description='NGL widgets', layout=Layout(width='100%'), style=ButtonStyle()), VBox(children=(NGLWidget(count=3334),), layout=Layout(border='solid'))), layout=Layout(height='8.0in', width='5.0in')), FigureCanvasNbAgg())), MolPXHBox(children=(NGLWidget(count=103), FigureCanvasNbAgg()))))"
      ]
     },
     "metadata": {},
     "output_type": "display_data"
    }
   ],
   "source": [
    "mpx_wdg_box = molpx.visualize.traj(MD_trajfiles,     \n",
    "                                  top,                                                                                                                              \n",
    "                                  Y_tica,                                        \n",
    "                                  plot_FES = True,                                        \n",
    "                                  #dt = dt*1e-6, tunits='ms',                                           \n",
    "                                  max_frames=10000,\n",
    "                                  #proj_idxs=[0,1],\n",
    "                                  panel_height=2,                                              \n",
    "                                  projection=tica\n",
    "                                  )\n",
    "mpx_wdg_box"
   ]
  },
  {
   "cell_type": "code",
   "execution_count": 20,
   "metadata": {
    "collapsed": true
   },
   "outputs": [],
   "source": [
    "paths_dict, idata = molpx.generate.projection_paths(MD_trajfiles, \n",
    "                                                    top, \n",
    "                                                    Y_tica, \n",
    "                                                    n_points=50,\n",
    "                                                    proj_idxs=[0,1],\n",
    "                                                    n_projs=2,\n",
    "                                                    proj_dim = 2, \n",
    "                                                    verbose=False, \n",
    "                                        )"
   ]
  },
  {
   "cell_type": "code",
   "execution_count": 21,
   "metadata": {
    "collapsed": true
   },
   "outputs": [],
   "source": [
    "# Choose the coordinate and the type of path\n",
    "coord = 0\n",
    "path_type = 'min_rmsd'\n",
    "#path_type = 'min_disp'\n",
    "igeom = paths_dict[coord][path_type][\"geom\"]\n",
    "ipath = paths_dict[coord][path_type][\"proj\"]\n",
    "\n",
    "# Choose the proj_idxs for the path and the FES \n",
    "# to be shown\n",
    "proj_idxs = [0,1]"
   ]
  },
  {
   "cell_type": "code",
   "execution_count": 22,
   "metadata": {},
   "outputs": [
    {
     "data": {
      "application/vnd.jupyter.widget-view+json": {
       "model_id": "168cb4a131314925a023a303cf99ab35",
       "version_major": 2,
       "version_minor": 0
      },
      "text/html": [
       "<p>Failed to display Jupyter Widget of type <code>FigureCanvasNbAgg</code>.</p>\n",
       "<p>\n",
       "  If you're reading this message in Jupyter Notebook or JupyterLab, it may mean\n",
       "  that the widgets JavaScript is still loading. If this message persists, it\n",
       "  likely means that the widgets JavaScript library is either not installed or\n",
       "  not enabled. See the <a href=\"https://ipywidgets.readthedocs.io/en/stable/user_install.html\">Jupyter\n",
       "  Widgets Documentation</a> for setup instructions.\n",
       "</p>\n",
       "<p>\n",
       "  If you're reading this message in another notebook frontend (for example, a static\n",
       "  rendering on GitHub or <a href=\"https://nbviewer.jupyter.org/\">NBViewer</a>),\n",
       "  it may mean that your frontend doesn't currently support widgets.\n",
       "</p>\n"
      ],
      "text/plain": [
       "FigureCanvasNbAgg()"
      ]
     },
     "metadata": {},
     "output_type": "display_data"
    },
    {
     "name": "stderr",
     "output_type": "stream",
     "text": [
      "/home/guille/miniconda3/lib/python3.6/site-packages/ipykernel_launcher.py:3: RuntimeWarning: divide by zero encountered in log\n",
      "  This is separate from the ipykernel package so we can avoid doing imports until\n",
      "WARNING:root:DEPRECATED: Please use 'center' method\n"
     ]
    },
    {
     "data": {
      "application/vnd.jupyter.widget-view+json": {
       "model_id": "ce80fff3cb8b419a946e33c58a31d4be",
       "version_major": 2,
       "version_minor": 0
      },
      "text/html": [
       "<p>Failed to display Jupyter Widget of type <code>NGLWidget</code>.</p>\n",
       "<p>\n",
       "  If you're reading this message in Jupyter Notebook or JupyterLab, it may mean\n",
       "  that the widgets JavaScript is still loading. If this message persists, it\n",
       "  likely means that the widgets JavaScript library is either not installed or\n",
       "  not enabled. See the <a href=\"https://ipywidgets.readthedocs.io/en/stable/user_install.html\">Jupyter\n",
       "  Widgets Documentation</a> for setup instructions.\n",
       "</p>\n",
       "<p>\n",
       "  If you're reading this message in another notebook frontend (for example, a static\n",
       "  rendering on GitHub or <a href=\"https://nbviewer.jupyter.org/\">NBViewer</a>),\n",
       "  it may mean that your frontend doesn't currently support widgets.\n",
       "</p>\n"
      ],
      "text/plain": [
       "NGLWidget(count=45)"
      ]
     },
     "metadata": {},
     "output_type": "display_data"
    }
   ],
   "source": [
    "plt.figure(figsize=(4,4))\n",
    "h, (x,y) = np.histogramdd(np.vstack(Y_tica)[:,proj_idxs], bins=50)\n",
    "plt.contourf(x[:-1], y[:-1], -np.log(h.T), alpha=.50)\n",
    "\n",
    "linked_wdg, axes_widget = molpx.visualize.sample(ipath[:,proj_idxs], \n",
    "                                    igeom,\n",
    "                                    plt.gca(), \n",
    "                                    clear_lines=True,\n",
    "                                    n_smooth = 1, \n",
    "                                    plot_path=True,   \n",
    "                                   )\n",
    "# You can even choose to add the correlations a posteriori                                         \n",
    "molpx.visualize.correlations(tica, widget=linked_wdg, proj_idxs=0)\n",
    "linked_wdg.center_view()\n",
    "linked_wdg"
   ]
  },
  {
   "cell_type": "code",
   "execution_count": null,
   "metadata": {
    "collapsed": true
   },
   "outputs": [],
   "source": []
  }
 ],
 "metadata": {
  "anaconda-cloud": {},
  "kernelspec": {
   "display_name": "Python 3",
   "language": "python",
   "name": "python3"
  },
  "language_info": {
   "codemirror_mode": {
    "name": "ipython",
    "version": 3
   },
   "file_extension": ".py",
   "mimetype": "text/x-python",
   "name": "python",
   "nbconvert_exporter": "python",
   "pygments_lexer": "ipython3",
   "version": "3.6.1"
  },
  "widgets": {
   "state": {
    "02868d470d3944fcb174115083470e5e": {
     "views": [
      {
       "cell_index": 21
      }
     ]
    },
    "071ea460c2ea4467b9acf661aff8988e": {
     "views": [
      {
       "cell_index": 13
      }
     ]
    },
    "3795c55470a641b08e47b3a4715f09b3": {
     "views": [
      {
       "cell_index": 9
      }
     ]
    },
    "3e2bc666001c439d963b710a688de7f8": {
     "views": [
      {
       "cell_index": 24
      }
     ]
    },
    "482ef5b6c7f844b087e84587dfff2b49": {
     "views": [
      {
       "cell_index": 7
      },
      {
       "cell_index": 7
      }
     ]
    },
    "5213de86c14948419c77d639e62c5ca5": {
     "views": [
      {
       "cell_index": 20
      },
      {
       "cell_index": 20
      }
     ]
    },
    "59e2ff74d4f7475286f82746ec8bba10": {
     "views": [
      {
       "cell_index": 7
      }
     ]
    },
    "66dc7c93eb5e4fe5a8605413b30738c8": {
     "views": [
      {
       "cell_index": 24
      }
     ]
    },
    "85603629178245a99aac8e903cf08873": {
     "views": [
      {
       "cell_index": 20
      }
     ]
    },
    "9161c6c967254129b1254cf7aa7444bc": {
     "views": [
      {
       "cell_index": 20
      }
     ]
    },
    "950a0e252af64f678803334ced13c584": {
     "views": [
      {
       "cell_index": 7
      }
     ]
    },
    "b64f886d02f1404bbcae8b03dbe849e5": {
     "views": [
      {
       "cell_index": 9
      }
     ]
    },
    "cd20af50a3fe4a27892b154f32b2858a": {
     "views": [
      {
       "cell_index": 17
      }
     ]
    },
    "e1c43d98fc1646259e74f5ad635b41d0": {
     "views": [
      {
       "cell_index": 13
      }
     ]
    },
    "e61dee11b8934d2b9951ff6d6d03ca04": {
     "views": [
      {
       "cell_index": 17
      }
     ]
    },
    "fc529fe0b45c444ea92f787b1c51d56f": {
     "views": [
      {
       "cell_index": 21
      }
     ]
    }
   },
   "version": "1.2.0"
  }
 },
 "nbformat": 4,
 "nbformat_minor": 1
}
