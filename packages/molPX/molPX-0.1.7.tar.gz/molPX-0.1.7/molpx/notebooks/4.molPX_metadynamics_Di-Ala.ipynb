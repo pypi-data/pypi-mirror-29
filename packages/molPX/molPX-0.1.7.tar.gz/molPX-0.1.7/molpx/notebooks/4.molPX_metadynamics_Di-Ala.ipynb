{
 "cells": [
  {
   "cell_type": "markdown",
   "metadata": {},
   "source": [
    "## FES from biased trajectories, too!\n",
    "<pre> \n",
    "Vladas Oleinikovas         uccavol@ucl.ac.uk\n",
    "Guillermo Pérez-Hernández  guille.perez@fu-berlin.de \n",
    "</pre>\n",
    "We do that by passing correct weights for each conformation in our trajectory. \n",
    "\n",
    "We exemplify this with metadynamics trajectory of the ever popular test system - alanine dipeptide. The 2ns simulation used phi and psi angles as CVs, and the corresponding weight was derived using Tiwary and Parrinello reweighting algorithm (JPCB 2014, doi:10.1021/jp504920s).\n",
    "\n",
    "Try commenting out the weights to notice the effect on the estimated depth of the basins."
   ]
  },
  {
   "cell_type": "code",
   "execution_count": 1,
   "metadata": {
    "collapsed": true
   },
   "outputs": [],
   "source": [
    "import molpx\n",
    "import numpy as np\n",
    "%matplotlib ipympl\n",
    "\n",
    "# Topology\n",
    "top = molpx._molpxdir(join='notebooks/data/ala2.pdb')\n",
    "\n",
    "# Generated during the metadynamics run (extra reversed copy to have a list of files)\n",
    "MD_trajfiles = [molpx._molpxdir(join='notebooks/data/ala2.meta.xtc'), \n",
    "               molpx._molpxdir(join='notebooks/data/ala2.meta.reversed.xtc')]\n",
    "\n",
    "# COLVAR files containing CV projections and logarithm of the corresponding weight\n",
    "colvar_files = [molpx._molpxdir(join='notebooks/data/ala2.meta.CV.txt'), \n",
    "                molpx._molpxdir(join='notebooks/data/ala2.meta.CV.reversed.txt')]\n",
    "\n",
    "# Load logweights and turn them into proper weights\n",
    "weights = [np.exp(np.loadtxt(ifile)[:,7]) for ifile in colvar_files]"
   ]
  },
  {
   "cell_type": "code",
   "execution_count": 5,
   "metadata": {},
   "outputs": [
    {
     "data": {
      "application/vnd.jupyter.widget-view+json": {
       "model_id": "660eb857cfe240619ced4a609a29f3e2",
       "version_major": 2,
       "version_minor": 0
      },
      "text/html": [
       "<p>Failed to display Jupyter Widget of type <code>MolPXHBox</code>.</p>\n",
       "<p>\n",
       "  If you're reading this message in Jupyter Notebook or JupyterLab, it may mean\n",
       "  that the widgets JavaScript is still loading. If this message persists, it\n",
       "  likely means that the widgets JavaScript library is either not installed or\n",
       "  not enabled. See the <a href=\"https://ipywidgets.readthedocs.io/en/stable/user_install.html\">Jupyter\n",
       "  Widgets Documentation</a> for setup instructions.\n",
       "</p>\n",
       "<p>\n",
       "  If you're reading this message in another notebook frontend (for example, a static\n",
       "  rendering on GitHub or <a href=\"https://nbviewer.jupyter.org/\">NBViewer</a>),\n",
       "  it may mean that your frontend doesn't currently support widgets.\n",
       "</p>\n"
      ],
      "text/plain": [
       "MolPXHBox(children=(NGLWidget(count=200), FigureCanvasNbAgg()))"
      ]
     },
     "metadata": {},
     "output_type": "display_data"
    }
   ],
   "source": [
    "mpx_wdg_box = molpx.visualize.FES(MD_trajfiles,\n",
    "                                  top,\n",
    "                                  colvar_files,\n",
    "                                  proj_idxs=[1,2],\n",
    "                                  nbins=50,\n",
    "                                  n_sample=200,                                  \n",
    "                                  proj_labels='CV',\n",
    "                                  weights=weights, # this is important for biased trajectories!\n",
    "                                 )\n",
    "mpx_wdg_box"
   ]
  },
  {
   "cell_type": "markdown",
   "metadata": {},
   "source": [
    "## We can also visualize the weights together with the CV-trajectories"
   ]
  },
  {
   "cell_type": "code",
   "execution_count": 8,
   "metadata": {
    "scrolled": false
   },
   "outputs": [
    {
     "data": {
      "application/vnd.jupyter.widget-view+json": {
       "model_id": "ec4524caaf9548889d167e1b7b477c5a",
       "version_major": 2,
       "version_minor": 0
      },
      "text/html": [
       "<p>Failed to display Jupyter Widget of type <code>MolPXHBox</code>.</p>\n",
       "<p>\n",
       "  If you're reading this message in Jupyter Notebook or JupyterLab, it may mean\n",
       "  that the widgets JavaScript is still loading. If this message persists, it\n",
       "  likely means that the widgets JavaScript library is either not installed or\n",
       "  not enabled. See the <a href=\"https://ipywidgets.readthedocs.io/en/stable/user_install.html\">Jupyter\n",
       "  Widgets Documentation</a> for setup instructions.\n",
       "</p>\n",
       "<p>\n",
       "  If you're reading this message in another notebook frontend (for example, a static\n",
       "  rendering on GitHub or <a href=\"https://nbviewer.jupyter.org/\">NBViewer</a>),\n",
       "  it may mean that your frontend doesn't currently support widgets.\n",
       "</p>\n"
      ],
      "text/plain": [
       "MolPXHBox(children=(VBox(children=(Button(description='NGL widgets', layout=Layout(width='100%'), style=ButtonStyle()), VBox(children=(NGLWidget(count=2001),), layout=Layout(border='solid')), VBox(children=(NGLWidget(count=2001),), layout=Layout(border='solid'))), layout=Layout(height='6.0in', width='5.0in')), FigureCanvasNbAgg()))"
      ]
     },
     "metadata": {},
     "output_type": "display_data"
    }
   ],
   "source": [
    "mpx_wdg_box = molpx.visualize.traj(MD_trajfiles,     \n",
    "                                  top,                                                                                                                              \n",
    "                                  colvar_files,\n",
    "                                  max_frames=10000,\n",
    "                                  proj_idxs=[1, 2, 7],\n",
    "                                  panel_height=1,    \n",
    "                                  proj_labels=['$CV_1$','$CV_2$','log(weights)'], \n",
    "                                  )\n",
    "mpx_wdg_box"
   ]
  },
  {
   "cell_type": "code",
   "execution_count": null,
   "metadata": {
    "collapsed": true
   },
   "outputs": [],
   "source": []
  }
 ],
 "metadata": {
  "anaconda-cloud": {},
  "kernelspec": {
   "display_name": "Python 3",
   "language": "python",
   "name": "python3"
  },
  "language_info": {
   "codemirror_mode": {
    "name": "ipython",
    "version": 3
   },
   "file_extension": ".py",
   "mimetype": "text/x-python",
   "name": "python",
   "nbconvert_exporter": "python",
   "pygments_lexer": "ipython3",
   "version": "3.6.1"
  },
  "widgets": {
   "state": {
    "7b72d3bbbb33474e96c41b305d27f808": {
     "views": [
      {
       "cell_index": 2
      }
     ]
    },
    "b7bad09ba31641b1994f27f4465681ad": {
     "views": [
      {
       "cell_index": 4
      }
     ]
    }
   },
   "version": "1.2.0"
  }
 },
 "nbformat": 4,
 "nbformat_minor": 1
}
