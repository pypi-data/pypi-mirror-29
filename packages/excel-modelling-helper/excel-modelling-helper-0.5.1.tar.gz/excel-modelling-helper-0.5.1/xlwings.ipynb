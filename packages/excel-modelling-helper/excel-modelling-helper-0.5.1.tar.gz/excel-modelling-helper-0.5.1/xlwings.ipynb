{
 "cells": [
  {
   "cell_type": "code",
   "execution_count": null,
   "metadata": {},
   "outputs": [],
   "source": [
    "import xlwings as xw\n",
    "\n",
    "wb = xw.Book('tests/test.xlsx')"
   ]
  },
  {
   "cell_type": "code",
   "execution_count": null,
   "metadata": {},
   "outputs": [],
   "source": [
    "sht = wb.sheets['Sheet1']"
   ]
  },
  {
   "cell_type": "code",
   "execution_count": null,
   "metadata": {},
   "outputs": [],
   "source": [
    "r = sht.range('A1').expand()"
   ]
  },
  {
   "cell_type": "code",
   "execution_count": null,
   "metadata": {},
   "outputs": [],
   "source": [
    "header = [cell.value for cell in r.rows[0]]"
   ]
  },
  {
   "cell_type": "code",
   "execution_count": null,
   "metadata": {},
   "outputs": [],
   "source": [
    "definitions = []\n",
    "for row in r.rows[1:]:\n",
    "    values = {}\n",
    "    for key, cell in zip(header, row):\n",
    "        values[key] = cell.value\n",
    "    definitions.append(values)"
   ]
  },
  {
   "cell_type": "code",
   "execution_count": null,
   "metadata": {},
   "outputs": [],
   "source": [
    "definitions"
   ]
  },
  {
   "cell_type": "code",
   "execution_count": 1,
   "metadata": {
    "collapsed": true
   },
   "outputs": [],
   "source": [
    "import xlrd\n",
    "wb = xlrd.open_workbook('tests/test.xlsx')"
   ]
  },
  {
   "cell_type": "code",
   "execution_count": 2,
   "metadata": {},
   "outputs": [],
   "source": [
    "\n",
    "definitions = []\n",
    "\n",
    "_sheet_names = wb.sheets()\n",
    "_sheet_names = [sh.name for sh in _sheet_names]\n",
    "\n"
   ]
  },
  {
   "cell_type": "code",
   "execution_count": 3,
   "metadata": {},
   "outputs": [
    {
     "name": "stdout",
     "output_type": "stream",
     "text": [
      "[text:'variable', text:'scenario', text:'module', text:'distribution', text:'param 1', text:'param 2', text:'param 3', text:'unit', text:'start date', text:'end date', text:'CAGR', text:'ref date', text:'label', text:'comment', text:'source']\n",
      "[text:'variable', text:'scenario', text:'module', text:'distribution', text:'param 1', text:'param 2', text:'param 3', text:'unit', text:'start date', text:'end date', text:'CAGR', text:'ref date', text:'label', text:'comment', text:'source']\n"
     ]
    }
   ],
   "source": [
    "for _sheet_name in _sheet_names:\n",
    "    sheet = wb.sheet_by_name(_sheet_name)\n",
    "    rows = list(sheet.get_rows())\n",
    "    print(rows[0])"
   ]
  },
  {
   "cell_type": "code",
   "execution_count": 5,
   "metadata": {},
   "outputs": [
    {
     "data": {
      "text/plain": [
       "2.0"
      ]
     },
     "execution_count": 5,
     "metadata": {},
     "output_type": "execute_result"
    }
   ],
   "source": [
    "rows[1][5].value"
   ]
  },
  {
   "cell_type": "code",
   "execution_count": null,
   "metadata": {
    "collapsed": true
   },
   "outputs": [],
   "source": []
  }
 ],
 "metadata": {
  "kernelspec": {
   "display_name": "Python 3",
   "language": "python",
   "name": "python3"
  },
  "language_info": {
   "codemirror_mode": {
    "name": "ipython",
    "version": 3
   },
   "file_extension": ".py",
   "mimetype": "text/x-python",
   "name": "python",
   "nbconvert_exporter": "python",
   "pygments_lexer": "ipython3",
   "version": "3.6.1"
  }
 },
 "nbformat": 4,
 "nbformat_minor": 2
}
