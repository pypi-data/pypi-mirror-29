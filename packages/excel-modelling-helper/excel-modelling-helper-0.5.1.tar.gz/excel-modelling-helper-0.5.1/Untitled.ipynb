{
 "cells": [
  {
   "cell_type": "code",
   "execution_count": 1,
   "metadata": {
    "collapsed": true
   },
   "outputs": [],
   "source": [
    "from excel_helper import Parameter, ExponentialGrowthTimeSeriesGenerator\n",
    "import pandas as pd"
   ]
  },
  {
   "cell_type": "code",
   "execution_count": 2,
   "metadata": {
    "collapsed": true
   },
   "outputs": [],
   "source": [
    "p = Parameter('test', value_generator=ExponentialGrowthTimeSeriesGenerator(module_name='numpy.random',\n",
    "                                                                                   distribution_name='normal',\n",
    "                                                                                   param_a=0,\n",
    "                                                                                   param_b=.1,\n",
    "                                                                                   times=pd.date_range('2009-01-01',\n",
    "                                                                                                       '2009-03-01',\n",
    "                                                                                                       freq='MS'),\n",
    "                                                                                   size=5,\n",
    "                                                                                   cagr=0.1\n",
    "                                                                                   ))"
   ]
  },
  {
   "cell_type": "code",
   "execution_count": 3,
   "metadata": {},
   "outputs": [
    {
     "data": {
      "text/plain": [
       "2009-01-01  0   -1.360364\n",
       "            1   -1.002573\n",
       "            2   -0.011941\n",
       "            3   -0.559080\n",
       "            4    0.301835\n",
       "2009-02-01  0    2.109851\n",
       "            1   -1.768279\n",
       "            2   -0.248228\n",
       "            3   -0.403289\n",
       "            4   -0.374637\n",
       "2009-03-01  0   -0.116252\n",
       "            1   -0.345847\n",
       "            2   -0.177214\n",
       "            3    0.113188\n",
       "            4    0.807500\n",
       "Name: test, dtype: float64"
      ]
     },
     "execution_count": 3,
     "metadata": {},
     "output_type": "execute_result"
    }
   ],
   "source": [
    "df= p()\n",
    "df"
   ]
  },
  {
   "cell_type": "code",
   "execution_count": null,
   "metadata": {},
   "outputs": [],
   "source": [
    "df._metadata"
   ]
  },
  {
   "cell_type": "code",
   "execution_count": 11,
   "metadata": {},
   "outputs": [],
   "source": [
    "df.index.rename(['time','samples'], inplace=True)"
   ]
  },
  {
   "cell_type": "code",
   "execution_count": 5,
   "metadata": {},
   "outputs": [
    {
     "data": {
      "text/plain": [
       "pandas.core.series.Series"
      ]
     },
     "execution_count": 5,
     "metadata": {},
     "output_type": "execute_result"
    }
   ],
   "source": [
    "type(df)"
   ]
  },
  {
   "cell_type": "code",
   "execution_count": 4,
   "metadata": {},
   "outputs": [
    {
     "data": {
      "text/plain": [
       "MultiIndex(levels=[[2009-01-01 00:00:00, 2009-02-01 00:00:00, 2009-03-01 00:00:00], [0, 1, 2, 3, 4]],\n",
       "           labels=[[0, 0, 0, 0, 0, 1, 1, 1, 1, 1, 2, 2, 2, 2, 2], [0, 1, 2, 3, 4, 0, 1, 2, 3, 4, 0, 1, 2, 3, 4]])"
      ]
     },
     "execution_count": 4,
     "metadata": {},
     "output_type": "execute_result"
    }
   ],
   "source": [
    "df.index"
   ]
  },
  {
   "cell_type": "code",
   "execution_count": 12,
   "metadata": {},
   "outputs": [
    {
     "data": {
      "text/plain": [
       "time\n",
       "2009-01-01   -0.526425\n",
       "2009-02-01   -0.136917\n",
       "2009-03-01    0.056275\n",
       "Freq: MS, Name: test, dtype: float64"
      ]
     },
     "execution_count": 12,
     "metadata": {},
     "output_type": "execute_result"
    }
   ],
   "source": [
    "df.mean(level='time')"
   ]
  },
  {
   "cell_type": "code",
   "execution_count": null,
   "metadata": {
    "collapsed": true
   },
   "outputs": [],
   "source": []
  }
 ],
 "metadata": {
  "kernelspec": {
   "display_name": "Python 3",
   "language": "python",
   "name": "python3"
  },
  "language_info": {
   "codemirror_mode": {
    "name": "ipython",
    "version": 3
   },
   "file_extension": ".py",
   "mimetype": "text/x-python",
   "name": "python",
   "nbconvert_exporter": "python",
   "pygments_lexer": "ipython3",
   "version": "3.6.0"
  }
 },
 "nbformat": 4,
 "nbformat_minor": 2
}
