{
 "cells": [
  {
   "cell_type": "markdown",
   "metadata": {},
   "source": [
    "# UWGeodynamics module\n",
    "\n",
    "The UWGeodynamics module intents to facilitate rapid prototyping of geodynamics models using Underworld. It can be seen as a set of high-level functions within the Underworld ecosystem. It is a means to quickly get the user into Underworld modelling and assumes very little knowledge in coding. The module make some assumptions based on how the user defines the boundary conditions and the properties of the materials (rocks, phases). Its simplicity comes with a relatively more rigid workflow (compared to the classic Underworld functions). However, the user can easily break the high level objects and get back to core Underworld function at any step of model design.\n",
    "\n",
    "As we think the low-level interface is more flexible, and in so allows for more complex models, we strongly encourage users to explore and break the High Level functions.\n",
    "\n",
    "We hope that the user will naturally move to the low-level functionalities as he or her gets more confident, and by doing so will access the wide range of possibilities offered by Underworld.\n",
    "\n",
    "\n",
    "# Manual\n",
    "\n",
    "1. [Installation](01_Installation.ipynb)\n",
    "2. [Working with units](02_Working_with_units.ipynb)\n",
    "3. [Scaling](03_Scaling.ipynb)\n",
    "4. [The Model](04_The_Model.ipynb)\n",
    "5. [Materials](05_Materials.ipynb)\n",
    "6. [Velocity / Kinematic boundary conditions](06_Velocity_Boundary_conditions.ipynb)\n",
    "7. [Temperature Boundary Conditions](07_Temperature_Boundary_Conditions.ipynb)\n",
    "8. [Initialize / Run the Model](08_Model_Run.ipynb)\n",
    "9. [Saving data](09_Saving_data.ipynb)\n",
    "10. [Add Passive Tracers](10_Passive_Tracers.ipynb)\n",
    "11. [Advect the mesh](11_Mesh_advection.ipynb)\n",
    "12. [Quick Visualization](12_Quick_Visualization.ipynb)\n",
    "13. [Melt](13_Melt.ipynb)\n",
    "14. [Rheology](14_Rheology.ipynb)\n",
    "15. [3D](15_3D.ipynb)\n",
    "16. [Frictional Boundaries](16_Frictional_Boundaries.ipynb)\n",
    "17. [Visugrids](17_Visugrids.ipynb)\n",
    "18. [Personalizing UWGeodynamics](18_configuration.ipynb)"
   ]
  }
 ],
 "metadata": {
  "kernelspec": {
   "display_name": "Python 2",
   "language": "python",
   "name": "python2"
  },
  "language_info": {
   "codemirror_mode": {
    "name": "ipython",
    "version": 2
   },
   "file_extension": ".py",
   "mimetype": "text/x-python",
   "name": "python",
   "nbconvert_exporter": "python",
   "pygments_lexer": "ipython2",
   "version": "2.7.13"
  }
 },
 "nbformat": 4,
 "nbformat_minor": 2
}
