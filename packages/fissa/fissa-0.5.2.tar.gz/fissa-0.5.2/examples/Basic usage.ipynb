{
 "cells": [
  {
   "cell_type": "markdown",
   "metadata": {},
   "source": [
    "# Basic FISSA usage"
   ]
  },
  {
   "cell_type": "markdown",
   "metadata": {},
   "source": [
    "This notebook explains step-by-step how to use the FISSA toolbox. See basic_usage.py for a shorter example script if one does not use a notebook interface."
   ]
  },
  {
   "cell_type": "code",
   "execution_count": 10,
   "metadata": {},
   "outputs": [],
   "source": [
    "# FISSA toolbox imports\n",
    "import fissa"
   ]
  },
  {
   "cell_type": "markdown",
   "metadata": {},
   "source": [
    "Plotting toolbox import. \n",
    "Plotting in this notebook is done with Holoviews, for details see http://holoviews.org/."
   ]
  },
  {
   "cell_type": "code",
   "execution_count": 11,
   "metadata": {},
   "outputs": [
    {
     "name": "stdout",
     "output_type": "stream",
     "text": [
      "The holoviews.ipython extension is already loaded. To reload it, use:\n",
      "  %reload_ext holoviews.ipython\n"
     ]
    }
   ],
   "source": [
    "# Plotting toolbox\n",
    "import holoviews as hv\n",
    "%load_ext holoviews.ipython\n",
    "%output widgets='embed'"
   ]
  },
  {
   "cell_type": "markdown",
   "metadata": {},
   "source": [
    "### Defining an experiment\n",
    "Define your inputs. All that's necessary to define are the image data and ROIs. \n",
    "\n",
    "Images can be defined as a folder with tiff stacks:\n",
    "```\n",
    "images = 'folder'\n",
    "```\n",
    "Where each tiff stack in the folder is a trial with several frames.\n",
    "\n",
    "Or the data can also be given as a list of arrays if not stored as tiffs:\n",
    "```\n",
    "images = [array1, array2, array3, ...]\n",
    "```\n",
    "\n",
    "For ROIs either a set of ROIs across all images should be defined, or a set of ROIs per image. \n",
    "\n",
    "If the ROIs were defined using ImageJ use ImageJ's export function to save them in a zip. Then, indicate the locations as a list:\n",
    "```\n",
    "rois = 'rois.zip' # for a single set of rois across images\n",
    "rois = ['rois1.zip', 'rois2.zip',...] # for a roiset for each image\n",
    "```\n",
    "Defining a different roiset per image can be useful if you need to adjust for motion drift for example.\n",
    "\n",
    "Then, we can define out experiment:"
   ]
  },
  {
   "cell_type": "code",
   "execution_count": 12,
   "metadata": {},
   "outputs": [
    {
     "name": "stdout",
     "output_type": "stream",
     "text": [
      "Reloading previously prepared data...\n"
     ]
    }
   ],
   "source": [
    "# roi and data locations\n",
    "rois_location = 'exampleData/20150429.zip'\n",
    "images_location = 'exampleData/20150529'\n",
    "\n",
    "# Folder where data will be stored. Make sure to use a different folder for each experiment.\n",
    "output_folder = 'fissa_example' \n",
    "\n",
    "experiment = fissa.Experiment(images_location, rois_location, output_folder)"
   ]
  },
  {
   "cell_type": "markdown",
   "metadata": {},
   "source": [
    "Previously analyzed experiments in output_folder will be loaded, if they exist, and the next step could be skipped."
   ]
  },
  {
   "cell_type": "markdown",
   "metadata": {},
   "source": [
    "### Extracting traces and separating them\n",
    "Next, we need to extract the traces and separate them:"
   ]
  },
  {
   "cell_type": "code",
   "execution_count": 13,
   "metadata": {},
   "outputs": [
    {
     "name": "stdout",
     "output_type": "stream",
     "text": [
      "Reloading previously prepared data...\n",
      "Doing signal separation....\n",
      "NMF converged after 610 iterations.\n",
      "Finished ROI number 3\n",
      "NMF converged after 618 iterations.\n",
      "Finished ROI number 0\n",
      "NMF converged after 636 iterations.\n",
      "Finished ROI number 2\n",
      "NMF converged after 575 iterations.\n",
      "Finished ROI number 1\n"
     ]
    }
   ],
   "source": [
    "experiment.separate()"
   ]
  },
  {
   "cell_type": "markdown",
   "metadata": {},
   "source": [
    "If you want to redo preparation and/or separation you can set:\n",
    "```\n",
    "experiment.separate(redo_prep=True, redo_sep=True)\n",
    "```\n",
    "(If you redo prepartion this will also redo the separation, to make sure these always match up)."
   ]
  },
  {
   "cell_type": "markdown",
   "metadata": {},
   "source": [
    "## Accessing results\n",
    "After running ```experiment.separate()``` the results are stored as follows.\n",
    "\n",
    "#### ROI outlines\n",
    "The ROI outlines, as well as the extra neuropil regions, can be found as in ```experiment.roi_polys``` as follows. For cell number ```c``` and tiff number `t`, the set of ROIs for that cell and tiff is at\n",
    "```\n",
    "experiment.roi_polys[c][t][0][0] # basic ROI\n",
    "experiment.roi_polys[c][t][n][0] # n = 1, 2, 3.... the neuropil regions\n",
    "```\n",
    "Sometimes ROIs cannot be expressed as a single polygon (e.g. a ring-ROI), in those cases several polygons are used to describe it as:\n",
    "```\n",
    "experiment.roi_polys[c][t][0][i] # i iterates over the different polygons\n",
    "```\n",
    "\n",
    "As an example, plotting the first region of interest plus its first neuropil sub:"
   ]
  },
  {
   "cell_type": "code",
   "execution_count": 17,
   "metadata": {},
   "outputs": [
    {
     "data": {
      "text/html": [
       "<img src='data:image/png;base64,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' style='max-width:100%; margin: auto; display: block; '/>"
      ],
      "text/plain": [
       ":Overlay\n",
       "   .Curve.I  :Curve   [x]   (y)\n",
       "   .Curve.II :Curve   [x]   (y)"
      ]
     },
     "execution_count": 17,
     "metadata": {},
     "output_type": "execute_result"
    }
   ],
   "source": [
    "c = 0\n",
    "t = 0\n",
    "cell = hv.Curve(experiment.roi_polys[c][t][0][0])\n",
    "neuropil1 = hv.Curve(experiment.roi_polys[c][t][1][0])\n",
    "cell*neuropil1\n"
   ]
  },
  {
   "cell_type": "markdown",
   "metadata": {},
   "source": [
    "#### FISSA extracted traces\n",
    "The final extracted traces can be found in ```experiment.result``` as follows. For cell number ```c``` and tiff number `t`, the final extracted trace is given by:\n",
    "```\n",
    "experiment.result[c][t][0,:]\n",
    "```\n",
    "\n",
    "In ```experiment.result``` one can find the signals present in the cell ROI, ordered by how strongly they are present (relative to the surrounding regions). ```experiment.result[c][t][0,:]``` gives the most strongly present signal, and is seen as the cell's 'true' signal. ```[i,:]``` for ```i=1,2,3,...``` gives the other signals which are present in the cell ROI.\n",
    "\n",
    "#### Before decontamination\n",
    "The raw extracted signals can be found in ```experiment.raw``` in the same way. Now in  ```experiment.raw[c][t][i,:]```, ```i``` indicates the region number, with ```i=0``` being the cell, and ```i=1,2,3,...``` indicating the surrounding regions.\n",
    "\n",
    "As an example, plotting the raw and extracted signals for the second trial for the third cell:"
   ]
  },
  {
   "cell_type": "code",
   "execution_count": 19,
   "metadata": {},
   "outputs": [
    {
     "data": {
      "text/html": [
       "<img src='data:image/png;base64,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' style='max-width:100%; margin: auto; display: block; '/>"
      ],
      "text/plain": [
       ":Overlay\n",
       "   .Curve.Raw            :Curve   [x]   (y)\n",
       "   .Curve.Decontaminated :Curve   [x]   (y)"
      ]
     },
     "execution_count": 19,
     "metadata": {},
     "output_type": "execute_result"
    }
   ],
   "source": [
    "c = 2\n",
    "t = 1\n",
    "hv.Curve(experiment.raw[c][t][0,:], label='raw')*hv.Curve(experiment.result[c,t][0,:], label='decontaminated')"
   ]
  },
  {
   "cell_type": "markdown",
   "metadata": {},
   "source": [
    "#### df/f0\n",
    "It is often useful to calculate the df/f0 of traces. This can be done as follows. By default it is done across all trials, but it can also be done per trial by setting across_trials to False."
   ]
  },
  {
   "cell_type": "code",
   "execution_count": 34,
   "metadata": {},
   "outputs": [
    {
     "data": {
      "text/plain": [
       "(5, 288)"
      ]
     },
     "execution_count": 34,
     "metadata": {},
     "output_type": "execute_result"
    }
   ],
   "source": [
    "experiment.result[0][0].shape\n"
   ]
  },
  {
   "cell_type": "code",
   "execution_count": null,
   "metadata": {},
   "outputs": [],
   "source": [
    "experiment.calc_deltaf(freq=10, across_trials=True)"
   ]
  },
  {
   "cell_type": "code",
   "execution_count": null,
   "metadata": {},
   "outputs": [],
   "source": [
    "c = 2\n",
    "t = 1\n",
    "hv.Curve(experiment.deltaf_raw[c][t], label='raw', vdims=['df/f0'])*hv.Curve(experiment.deltaf_result[c,t][0,:], label='decontaminated')"
   ]
  },
  {
   "cell_type": "markdown",
   "metadata": {},
   "source": [
    "Note that this uses the F0 from the raw trace for both"
   ]
  },
  {
   "cell_type": "markdown",
   "metadata": {},
   "source": [
    "## Exporting to MATLAB\n",
    "The results can easily be exported to MATLAB as follows:"
   ]
  },
  {
   "cell_type": "code",
   "execution_count": null,
   "metadata": {},
   "outputs": [],
   "source": [
    "experiment.save_to_matlab()"
   ]
  },
  {
   "cell_type": "markdown",
   "metadata": {},
   "source": [
    "Loading ```output_folder/matlab.mat``` will give you three structs, ```ROIs```, ```raw```, and ```result```.\n",
    "(Using the output_folder defined above)\n",
    "\n",
    "These interface similarly as ```experiment.ROIs```, ```experiment.raw```, and ```experiment.result``` described above. However, Matlab counts from 1 (as opposed to Python counting from 0), such that the ROI, raw trace, and decontaminated trace are all found for cell 0 trial 0 as:\n",
    "```\n",
    "ROIs.cell0.trial0{1} % polygon for the ROI\n",
    "ROIs.cell0.trial0{2} % polygon for first neuropil subregion\n",
    "result.cell0.trial0(1,:) % final extracted cell signal\n",
    "result.cell0.trial0(2,:) % contaminating signal\n",
    "raw.cell0.trial0(1,:) % raw measured celll signal\n",
    "raw.cell0.trial0(2,:) % raw signal from first neuropil subregion\n",
    "```"
   ]
  },
  {
   "cell_type": "markdown",
   "metadata": {},
   "source": [
    "## Sidenotes"
   ]
  },
  {
   "cell_type": "markdown",
   "metadata": {},
   "source": [
    "#### Finding the tiff files\n",
    "If you'd want to access a specific tifffile for a specific trial you can get its location as"
   ]
  },
  {
   "cell_type": "code",
   "execution_count": null,
   "metadata": {},
   "outputs": [],
   "source": [
    "trial = 1\n",
    "experiment.images[trial]"
   ]
  },
  {
   "cell_type": "markdown",
   "metadata": {},
   "source": [
    "#### Mean image data"
   ]
  },
  {
   "cell_type": "markdown",
   "metadata": {},
   "source": [
    "If you want to get the mean data of a trial you can find this in experiment.means:"
   ]
  },
  {
   "cell_type": "code",
   "execution_count": null,
   "metadata": {},
   "outputs": [],
   "source": [
    "t=0\n",
    "hv.Image(experiment.means[t])"
   ]
  },
  {
   "cell_type": "markdown",
   "metadata": {},
   "source": [
    "#### FISSA settings\n",
    "FISSA has several user-definable settings, which can be set during the experiment definition."
   ]
  },
  {
   "cell_type": "code",
   "execution_count": null,
   "metadata": {},
   "outputs": [],
   "source": [
    "# By default FISSA uses all the available processing threads. \n",
    "# This can, especially for the data preparation step, quickly fill up your memory. \n",
    "# Generally one only has to change the number of cores for the preparation steps, \n",
    "# as here it will load as many tiff stacks into memory as there are available processes.\n",
    "# The number of cores for the data preparation and separation steps can be changed as:\n",
    "ncores_preparation = 4 # If None, uses all available cores \n",
    "ncores_separation = None # if None, uses all available cores\n",
    "\n",
    "# FISSA uses 4 subregions for the neuropil region, which can be set to something else\n",
    "nRegions = 4\n",
    "\n",
    "# Normally the area of each subregion is set the same as the central ROI\n",
    "expansion = 1 \n",
    "\n",
    "# The degree of signal sparsity can be controlled with the alpha parameter.\n",
    "alpha = 0.1\n",
    "\n",
    "experiment = fissa.Experiment(images_location, rois_location, output_folder,\n",
    "                              nRegions=nRegions, expansion=expansion,alpha=alpha,\n",
    "                              ncores_preparation=ncores_preparation, \n",
    "                              ncores_separation=ncores_separation)"
   ]
  },
  {
   "cell_type": "markdown",
   "metadata": {},
   "source": [
    "Alternatively, they can also be changed post experiment definition as follows."
   ]
  },
  {
   "cell_type": "code",
   "execution_count": null,
   "metadata": {},
   "outputs": [],
   "source": [
    "experiment.ncores_preparation = 4\n",
    "experiment.alpha = 0.1\n",
    "experiment.expansion = 1"
   ]
  },
  {
   "cell_type": "markdown",
   "metadata": {},
   "source": [
    "### Large tiff files\n",
    "By default, FISSA loads entire tiff files at once. This can sometimes be problematic if the tiff files are too large to comfortably load into memory. To avoid this a low memory mode exists which instead loads tiff files frame by frame."
   ]
  },
  {
   "cell_type": "code",
   "execution_count": null,
   "metadata": {},
   "outputs": [],
   "source": [
    "experiment = fissa.Experiment(images_location, rois_location, output_folder, lowmemory_mode=True)"
   ]
  },
  {
   "cell_type": "markdown",
   "metadata": {},
   "source": [
    "### Handling custom formats\n",
    "By default FISSA can use tiffs or Numpy arrays for imaging data, and Numpy arrays or ImageJ ROIs for ROIs. It is also possible to give FISSA a custom script to use for other custom and/or proprietary formats that might be used by labs. In this case, one has to define a python script like fissa.datahandler (which is used internally to handle all the data). As an example, see the datahandler_custom.py script in the examples folder (where this notebook is located)."
   ]
  },
  {
   "cell_type": "code",
   "execution_count": null,
   "metadata": {},
   "outputs": [],
   "source": [
    "import datahandler_custom\n",
    "\n",
    "experiment = fissa.Experiment(images_location, rois_location, output_folder,\n",
    "                              datahandler=datahandler_custom)"
   ]
  }
 ],
 "metadata": {
  "kernelspec": {
   "display_name": "Python 2",
   "language": "python",
   "name": "python2"
  },
  "language_info": {
   "codemirror_mode": {
    "name": "ipython",
    "version": 2
   },
   "file_extension": ".py",
   "mimetype": "text/x-python",
   "name": "python",
   "nbconvert_exporter": "python",
   "pygments_lexer": "ipython2",
   "version": "2.7.14"
  }
 },
 "nbformat": 4,
 "nbformat_minor": 1
}
