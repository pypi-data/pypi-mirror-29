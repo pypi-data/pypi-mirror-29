{
 "cells": [
  {
   "cell_type": "markdown",
   "metadata": {},
   "source": [
    "# More examples\n",
    "\n",
    "> [<i class=\"fa fa-2x fa-paper-plane text-info fa-fw\"> </i> Simple example](./Simple example.ipynb)\n",
    ">\n",
    "> <i class=\"fa fa-2x fa-space-shuttle text-info fa-fw\"> </i> Advanced examples\n",
    ">\n",
    "> [<i class=\"fa fa-2x fa-link text-info fa-fw\"> </i> Linking and Layout](./Linking and Layout.ipynb)\n",
    ">\n",
    "> [<i class=\"fa fa-2x fa-image text-info fa-fw\"> </i> Exporting Images](./Exporting Images.ipynb)"
   ]
  },
  {
   "cell_type": "code",
   "execution_count": 1,
   "metadata": {
    "collapsed": true
   },
   "outputs": [],
   "source": [
    "from ipysankeywidget import SankeyWidget\n",
    "from ipywidgets import Layout"
   ]
  },
  {
   "cell_type": "markdown",
   "metadata": {},
   "source": [
    "> <i class=\"fa fa-gears fa-2x fa-fw text-info\"></i> A convenience factory function"
   ]
  },
  {
   "cell_type": "code",
   "execution_count": 2,
   "metadata": {
    "collapsed": true
   },
   "outputs": [],
   "source": [
    "layout = Layout(width=\"300\", height=\"200\")\n",
    "def sankey(margin_top=10, **value):\n",
    "    \"\"\"Show SankeyWidget with default values for size and margins\"\"\"\n",
    "    return SankeyWidget(layout=layout,\n",
    "                        margins=dict(top=margin_top, bottom=0, left=30, right=60),\n",
    "                        **value)"
   ]
  },
  {
   "cell_type": "markdown",
   "metadata": {},
   "source": [
    "## Rank assignment"
   ]
  },
  {
   "cell_type": "markdown",
   "metadata": {},
   "source": [
    "### Rank sets"
   ]
  },
  {
   "cell_type": "markdown",
   "metadata": {},
   "source": [
    "You can adjust the left-right placement of nodes by putting them in rank sets: all nodes in the same set end up with the same rank."
   ]
  },
  {
   "cell_type": "code",
   "execution_count": 3,
   "metadata": {},
   "outputs": [
    {
     "data": {
      "application/vnd.jupyter.widget-view+json": {
       "model_id": "ac7a81e7f7154573a955a4bc7c17f84e",
       "version_major": 2,
       "version_minor": 0
      },
      "text/plain": [
       "A Jupyter Widget"
      ]
     },
     "metadata": {},
     "output_type": "display_data"
    }
   ],
   "source": [
    "links = [\n",
    "    {'source': 'A', 'target': 'B', 'value': 1},\n",
    "    {'source': 'B', 'target': 'C', 'value': 1},\n",
    "    {'source': 'A', 'target': 'D', 'value': 1},\n",
    "]\n",
    "sankey(links=links)"
   ]
  },
  {
   "cell_type": "code",
   "execution_count": 4,
   "metadata": {},
   "outputs": [
    {
     "data": {
      "application/vnd.jupyter.widget-view+json": {
       "model_id": "badfd4f45a8d4bc48dccd4fd4569f324",
       "version_major": 2,
       "version_minor": 0
      },
      "text/plain": [
       "A Jupyter Widget"
      ]
     },
     "metadata": {},
     "output_type": "display_data"
    }
   ],
   "source": [
    "rank_sets = [\n",
    "    { 'type': 'same', 'nodes': ['C', 'D'] }\n",
    "]\n",
    "sankey(links=links, rank_sets=rank_sets)"
   ]
  },
  {
   "cell_type": "code",
   "execution_count": 5,
   "metadata": {},
   "outputs": [
    {
     "data": {
      "application/vnd.jupyter.widget-view+json": {
       "model_id": "bff73e51bcc34580b3c8c8202d4fcfbb",
       "version_major": 2,
       "version_minor": 0
      },
      "text/plain": [
       "A Jupyter Widget"
      ]
     },
     "metadata": {},
     "output_type": "display_data"
    }
   ],
   "source": [
    "order = [\n",
    "    ['A'],\n",
    "    ['D', 'B'],\n",
    "    ['C'],\n",
    "]\n",
    "sankey(links=links, order=order)"
   ]
  },
  {
   "cell_type": "code",
   "execution_count": 6,
   "metadata": {},
   "outputs": [
    {
     "data": {
      "application/vnd.jupyter.widget-view+json": {
       "model_id": "13528a7b6f6d42a78b756f053ec8719a",
       "version_major": 2,
       "version_minor": 0
      },
      "text/plain": [
       "A Jupyter Widget"
      ]
     },
     "metadata": {},
     "output_type": "display_data"
    }
   ],
   "source": [
    "order = [\n",
    "    [ [   ], ['A'], [],   ],\n",
    "    [ ['B'], [   ], ['D'] ],\n",
    "    [ [   ], ['C'], []    ],\n",
    "]\n",
    "sankey(links=links, order=order)"
   ]
  },
  {
   "cell_type": "markdown",
   "metadata": {},
   "source": [
    "### Reversed nodes"
   ]
  },
  {
   "cell_type": "markdown",
   "metadata": {},
   "source": [
    "Most nodes are assumed to link from left to right, but sometimes there are return links which should be shown from right to left."
   ]
  },
  {
   "cell_type": "code",
   "execution_count": 7,
   "metadata": {},
   "outputs": [
    {
     "data": {
      "application/vnd.jupyter.widget-view+json": {
       "model_id": "11e342df25b4498b9fd11b6a66cc842d",
       "version_major": 2,
       "version_minor": 0
      },
      "text/plain": [
       "A Jupyter Widget"
      ]
     },
     "metadata": {},
     "output_type": "display_data"
    }
   ],
   "source": [
    "links = [\n",
    "    {'source': 'A', 'target': 'B', 'value': 1},\n",
    "    {'source': 'B', 'target': 'C', 'value': 1},\n",
    "    {'source': 'C', 'target': 'D', 'value': 1},\n",
    "    {'source': 'A', 'target': 'E', 'value': 0.5},\n",
    "]\n",
    "\n",
    "nodes = [\n",
    "    {'id': 'C', 'direction': 'l'},\n",
    "    {'id': 'D', 'direction': 'l'},\n",
    "]\n",
    "\n",
    "sankey(links=links, nodes=nodes)"
   ]
  },
  {
   "cell_type": "markdown",
   "metadata": {},
   "source": [
    "Variations:"
   ]
  },
  {
   "cell_type": "code",
   "execution_count": 8,
   "metadata": {},
   "outputs": [
    {
     "data": {
      "application/vnd.jupyter.widget-view+json": {
       "model_id": "cb9021b93b964503b489b2998a198938",
       "version_major": 2,
       "version_minor": 0
      },
      "text/plain": [
       "A Jupyter Widget"
      ]
     },
     "metadata": {},
     "output_type": "display_data"
    }
   ],
   "source": [
    "nodes = [\n",
    "    {'id': 'C', 'direction': 'r'},\n",
    "    {'id': 'D', 'direction': 'l'},\n",
    "]\n",
    "sankey(links=links, nodes=nodes)"
   ]
  },
  {
   "cell_type": "code",
   "execution_count": 9,
   "metadata": {},
   "outputs": [
    {
     "data": {
      "application/vnd.jupyter.widget-view+json": {
       "model_id": "817408ab9ff64b35abce62ce7c8d5e10",
       "version_major": 2,
       "version_minor": 0
      },
      "text/plain": [
       "A Jupyter Widget"
      ]
     },
     "metadata": {},
     "output_type": "display_data"
    }
   ],
   "source": [
    "nodes = [\n",
    "    {'id': 'C', 'direction': 'l'},\n",
    "    {'id': 'D', 'direction': 'r'},\n",
    "]\n",
    "sankey(links=links, nodes=nodes)"
   ]
  },
  {
   "cell_type": "markdown",
   "metadata": {},
   "source": [
    "## Styling"
   ]
  },
  {
   "cell_type": "markdown",
   "metadata": {},
   "source": [
    "By default, the links are coloured according to their type:"
   ]
  },
  {
   "cell_type": "code",
   "execution_count": 10,
   "metadata": {},
   "outputs": [
    {
     "data": {
      "application/vnd.jupyter.widget-view+json": {
       "model_id": "84bbebc4909d46b7851ab75fcbbccf63",
       "version_major": 2,
       "version_minor": 0
      },
      "text/plain": [
       "A Jupyter Widget"
      ]
     },
     "metadata": {},
     "output_type": "display_data"
    }
   ],
   "source": [
    "links = [\n",
    "    {'source': 'A', 'target': 'B', 'value': 3, 'type': 'x'},\n",
    "    {'source': 'B', 'target': 'C', 'value': 2, 'type': 'y'},\n",
    "    {'source': 'B', 'target': 'D', 'value': 1, 'type': 'z'},\n",
    "]\n",
    "sankey(links=links)"
   ]
  },
  {
   "cell_type": "markdown",
   "metadata": {},
   "source": [
    "You can also set the colours directly:"
   ]
  },
  {
   "cell_type": "code",
   "execution_count": 11,
   "metadata": {},
   "outputs": [
    {
     "data": {
      "application/vnd.jupyter.widget-view+json": {
       "model_id": "a6b4fbcc462f4fdaa3192efbc9799424",
       "version_major": 2,
       "version_minor": 0
      },
      "text/plain": [
       "A Jupyter Widget"
      ]
     },
     "metadata": {},
     "output_type": "display_data"
    }
   ],
   "source": [
    "links = [\n",
    "    {'source': 'A', 'target': 'B', 'value': 3, 'color': 'steelblue'},\n",
    "    {'source': 'B', 'target': 'C', 'value': 2, 'color': '#aaa'},\n",
    "    {'source': 'B', 'target': 'D', 'value': 1, 'color': 'goldenrod'},\n",
    "]\n",
    "sankey(links=links)"
   ]
  },
  {
   "cell_type": "markdown",
   "metadata": {},
   "source": [
    "Process titles default to their ids, but can be overridden. There are also one built-in alternative \"style\" of node:\n",
    "- `process` is drawn with a thicker line"
   ]
  },
  {
   "cell_type": "code",
   "execution_count": 12,
   "metadata": {},
   "outputs": [
    {
     "data": {
      "application/vnd.jupyter.widget-view+json": {
       "model_id": "58fa0c08182348e7baefbf68b7a9dd20",
       "version_major": 2,
       "version_minor": 0
      },
      "text/plain": [
       "A Jupyter Widget"
      ]
     },
     "metadata": {},
     "output_type": "display_data"
    }
   ],
   "source": [
    "nodes = [\n",
    "    {'id': 'B', 'title': 'Middle node', 'style': 'process' },\n",
    "]\n",
    "sankey(links=links, nodes=nodes)"
   ]
  },
  {
   "cell_type": "markdown",
   "metadata": {},
   "source": [
    "Of course, you can also use CSS to adjust the styling:"
   ]
  },
  {
   "cell_type": "code",
   "execution_count": 13,
   "metadata": {},
   "outputs": [
    {
     "data": {
      "text/html": [
       "<style>\n",
       ".sankey .node {\n",
       "    font-style: italic;\n",
       "}\n",
       "</style>"
      ],
      "text/plain": [
       "<IPython.core.display.HTML object>"
      ]
     },
     "metadata": {},
     "output_type": "display_data"
    }
   ],
   "source": [
    "%%html\n",
    "<style>\n",
    ".sankey .node {\n",
    "    font-style: italic;\n",
    "}\n",
    "</style>"
   ]
  },
  {
   "cell_type": "markdown",
   "metadata": {},
   "source": [
    "## Aligning link types"
   ]
  },
  {
   "cell_type": "code",
   "execution_count": 14,
   "metadata": {},
   "outputs": [
    {
     "data": {
      "application/vnd.jupyter.widget-view+json": {
       "model_id": "911eb7f5cb164383b764f136644e9a2f",
       "version_major": 2,
       "version_minor": 0
      },
      "text/plain": [
       "A Jupyter Widget"
      ]
     },
     "metadata": {},
     "output_type": "display_data"
    }
   ],
   "source": [
    "links = [\n",
    "    {'source': 'A1', 'target': 'B', 'value': 1.5, 'type': 'x'},\n",
    "    {'source': 'A1', 'target': 'B', 'value': 0.5, 'type': 'y'},\n",
    "    {'source': 'A2', 'target': 'B', 'value': 0.5, 'type': 'x'},\n",
    "    {'source': 'A2', 'target': 'B', 'value': 1.5, 'type': 'y'},\n",
    "    {'source': 'B',  'target': 'C', 'value': 2.0, 'type': 'x'},\n",
    "    {'source': 'B',  'target': 'C', 'value': 2.0, 'type': 'y'},\n",
    "]\n",
    "sankey(links=links, nodes=[])"
   ]
  },
  {
   "cell_type": "code",
   "execution_count": 15,
   "metadata": {},
   "outputs": [
    {
     "data": {
      "application/vnd.jupyter.widget-view+json": {
       "model_id": "176d311d39db41e7bfe1a8ce75be96f3",
       "version_major": 2,
       "version_minor": 0
      },
      "text/plain": [
       "A Jupyter Widget"
      ]
     },
     "metadata": {},
     "output_type": "display_data"
    }
   ],
   "source": [
    "sankey(links=links, align_link_types=True)"
   ]
  },
  {
   "cell_type": "code",
   "execution_count": 16,
   "metadata": {},
   "outputs": [
    {
     "data": {
      "application/vnd.jupyter.widget-view+json": {
       "model_id": "a485da10aae64b3bb0212538d0638d63",
       "version_major": 2,
       "version_minor": 0
      },
      "text/plain": [
       "A Jupyter Widget"
      ]
     },
     "metadata": {},
     "output_type": "display_data"
    }
   ],
   "source": [
    "order = [\n",
    "    ['A2', 'A1'],\n",
    "    ['B'],\n",
    "    ['C'],\n",
    "]\n",
    "sankey(links=links, align_link_types=True, order=order)"
   ]
  },
  {
   "cell_type": "markdown",
   "metadata": {},
   "source": [
    "## Dynamic updating"
   ]
  },
  {
   "cell_type": "code",
   "execution_count": 17,
   "metadata": {},
   "outputs": [
    {
     "data": {
      "application/vnd.jupyter.widget-view+json": {
       "model_id": "f4552aa2d8454673bcb8c76d9a296bec",
       "version_major": 2,
       "version_minor": 0
      },
      "text/plain": [
       "A Jupyter Widget"
      ]
     },
     "metadata": {},
     "output_type": "display_data"
    }
   ],
   "source": [
    "from ipywidgets import Button, VBox\n",
    "\n",
    "links = [\n",
    "    {'source': 'A', 'target': 'B', 'value': 1},\n",
    "    {'source': 'B', 'target': 'C', 'value': 1},\n",
    "    {'source': 'A', 'target': 'D', 'value': 1},\n",
    "]\n",
    "order = [\n",
    "    ['A'],\n",
    "    ['D', 'B'],\n",
    "    ['C'],\n",
    "]\n",
    "s = sankey(links=links, order=order)\n",
    "\n",
    "def swap(x):\n",
    "    global order\n",
    "    order = [list(reversed(o)) for o in order]\n",
    "    s.order = order\n",
    "b = Button(description='Swap')\n",
    "b.on_click(swap)\n",
    "\n",
    "VBox([b, s])"
   ]
  },
  {
   "cell_type": "markdown",
   "metadata": {
    "collapsed": true
   },
   "source": [
    "## Node groups"
   ]
  },
  {
   "cell_type": "code",
   "execution_count": 18,
   "metadata": {},
   "outputs": [
    {
     "data": {
      "application/vnd.jupyter.widget-view+json": {
       "model_id": "9486f29d39c0428caffea99a92344d2e",
       "version_major": 2,
       "version_minor": 0
      },
      "text/plain": [
       "A Jupyter Widget"
      ]
     },
     "metadata": {},
     "output_type": "display_data"
    }
   ],
   "source": [
    "links = [\n",
    "    {'source': 'A', 'target': 'B', 'value': 3, 'type': 'x'},\n",
    "    {'source': 'B', 'target': 'C', 'value': 2, 'type': 'y'},\n",
    "    {'source': 'B', 'target': 'D', 'value': 1, 'type': 'z'},\n",
    "]\n",
    "groups = [\n",
    "    {'id': 'G', 'title': 'Group', 'nodes': ['C', 'D']}\n",
    "]\n",
    "sankey(links=links, nodes=[], groups=groups, margin_top=30)"
   ]
  }
 ],
 "metadata": {
  "anaconda-cloud": {},
  "hide_input": true,
  "kernelspec": {
   "display_name": "Python 3",
   "language": "python",
   "name": "python3"
  },
  "language_info": {
   "codemirror_mode": {
    "name": "ipython",
    "version": 3
   },
   "file_extension": ".py",
   "mimetype": "text/x-python",
   "name": "python",
   "nbconvert_exporter": "python",
   "pygments_lexer": "ipython3",
   "version": "3.6.3"
  },
  "widgets": {
   "application/vnd.jupyter.widget-state+json": {
    "state": {
     "11e342df25b4498b9fd11b6a66cc842d": {
      "model_module": "jupyter-sankey-widget",
      "model_module_version": "^0.2.3",
      "model_name": "SankeyModel",
      "state": {
       "_model_module_version": "^0.2.3",
       "_view_module_version": "^0.2.3",
       "layout": "IPY_MODEL_8beda87a3f0e499dbdcce88fd4464b6b",
       "links": [
        {
         "source": "A",
         "target": "B",
         "value": 1
        },
        {
         "source": "B",
         "target": "C",
         "value": 1
        },
        {
         "source": "C",
         "target": "D",
         "value": 1
        },
        {
         "source": "A",
         "target": "E",
         "value": 0.5
        }
       ],
       "margins": {
        "bottom": 0,
        "left": 30,
        "right": 60,
        "top": 10
       },
       "nodes": [
        {
         "direction": "l",
         "id": "C"
        },
        {
         "direction": "l",
         "id": "D"
        },
        {
         "id": "A"
        },
        {
         "id": "B"
        },
        {
         "id": "E"
        }
       ],
       "order": [],
       "png": "iVBORw0KGgoAAAANSUhEUgAAASwAAADICAYAAABS39xVAAAVdklEQVR4nO2de5QU5ZmH3+Eu1yEODNNd31cYdJUjmKjgKiGGi6iJLuItQUFNFBFExKG73mrQyBhNVkVjkoPRY7ygkkhG4tD1fdVAMAuJl3gZN2aT7J6zMZfF6B7ds5sYk6xr1Nk/GgzOVI8wNV1v9czvOef5g6nhnJq3vnpOX6uIAAAAAAAAAAAAAAAAAAAAAAAAAAAAAAAAAAAAAAAAAAAAAAAAAAAAAHrItUTU0cl3iehlIioI7hcAAHShjYh+RUSL93oREV1NRP9C5XidKLdrAADwQV4movsjfn4qlYP12WR3BwAAohlP5Sgti9iWJ6J3iCiT6B4BAEAFzqBysGYTUf1es0R0CRG9QUQst2sAAPBB1lHXF9z3WSSigXK7BgAAH8QQ0c+IaNZ+nkFEd1I5WjcI7RcAAHThVSK6u8K2F4nomQT3BQAAKpKh8qOopRW2v0Tlp4UAACDOWVQO1vER2y7Yu+28RPcIAAAqcCOVo3QlES3Z60oiepiI3iOijWJ7BgAAnShR13cG/0JE7UR0BRHVye0aAABEs46IWqR3AgAADgQECwBQMyBYAICaAcFKkHVE1KJ92w4hPHhHTVvwyn7n0E7Fpk379mHlmQ3KM9e5nlmS9YtnOM3hVOmTvS+AYEEYw07B+hDND7Rvb9Bs5lLLrmHSJ38tgmBBGMODC9bfdNn8WBfM1528OXtMwY6VDkGtgGBBGMOeBqur4d1NXJwmHYS0g2BBGMPeC1ZZxfbODG87UjoMaQXBgjCGvR2sv2luya4sOdKBSBsIFoQxrF6wbLvr22ccDr2x/s4x0qFICwgWhDGsZrD26XK4WxfsKdKxSAMIFoQxTCJY+3R8u5Koo19/qRrBgjCGSQZL+7Zds7mLlprh0uGQAsGCMIaJB8u37Yrt9xQX++XtwxAsCGMoESzt23bN9p8m+MHR0gFJGgQLwhiKBWuvKmdPk45IkiBYEMZQOljaN885bE6QDklSIFgQxlA+WLZds3nCaS4eLh2TJECwIIxhKoLl23bNdvvo5taPSAel2iBYEMYwNcHybbv2zYN0futA6ahUEwQLwhimK1i2XXExJx2VaoJgQRjDtAVL+7Zd5cKTpcNSLRAsCGOYxmC5HO7OrnjsUOm4VAMEC8IYpjFY2rftiu2XpONSDRAsCGOY1mBp37Y7+eIx0oE5WE6n8i20f1phO4IFYQzTHCzN4ebEStMLDCSinxPR20T0ZyKKuiwFggVhDFMdLN+2u2xnJ9icWCwnot8T0XoqP8rKRvwOggVhDNMeLM3mWwk2p8eMJqLXiShHRJ+lcrBmRfweggVhDFMfLN+2O545IrHy9JBbieglIhpCRNOpHKzLI34PwYIwhrUQLF0wLYmVpwccRkRvEdG5e//dQOVg3RrxuwgWhDGshWC5vn0qzXeafpSIniOi+v38ExG1RfwuggVhDGshWNq37SofnpVYgQ6CT1D50VSUP4/4fQQLwhjWSrC0b+5JKkIHSh0RPUtEhsovsO9vSET/S0QDOv0fBAvCGNZOsGx7JmcakknRgbGYiN4hoqjbXN9I5UdZutPPESwIY1hLwcr6xTOqm6AD5xAi2kNE91XYfjmVgzW3088RLAhjWEvB0l5wffUSdHBcR+V3Bjs/gtrHaVQO1vJOP0ewIIxhTQWLTbF6CUoGBAvCGNZUsHzbXuuXnUGwIIxhrQVL5YLp0tGJA4IFYQxrLViOF5z7YVFIMwgWhDGstWBpttdIRycO7wfL9e1TLoe7tW93KjYlzaao/WCLy+YR7ZsHFdt7Fds7lWfX64Jp0Wx9h81VrmcvVXm7MMN2vs7bU7J5c1IT28n117TVS/9xACRJxrczlGduE49SNyq2t0nPKQ7VfYTF5keaw82KgzscDj2dLy52C6U5mTXmqLH+zjHSfzwA1UB54eelw1RJl8390vOJg+xTQgQN9FEUh7dLx6nCOfeo9GzikO7XsNg8oX37XcXh7YrNMpWzp/WXW3KD2kZxOE38/IlQsdkuPZs4pDtYFXR9+4z2batme7NbCJe4hdKcplzoErV0/q4kACKMu7J1pPR5Ev0gwD4pPZs41GSwKoaM7dMuB99RnrlReeHnlWc/6TSbqEtDA1B1pM+HSkrPJQ59KlgV5eBJzeYhzWad9u3ibN6cNH5VsVF6+KAPM2vXIPF1H3kumGelRxOH/hGsCroc7nbZ3K84uFb5dqHKBdNr/asLICWsLA2VXt/Ra94+LT2aOPTrYFXWPK59c49m62e5dF6mUDq2gYujpA8WqCGWmuHy6zhCNk9IjyYOCNZBHWy7XXnmm4qLOcVmgdMcTqWlZrj0QQTpo4GLo8TXa4Qum93Ss4kDgtU7Wu3bbzi+WZVdE57ZxHYyrSwNlT64QI76ll31KViXEZrHpWcTBwSrWrJ9Xvl2q/LtV5VnVjheeLrjmSNoaftg6YMOqk8mZxrE12B0sHZIzyYOCFbiITPPat9s0Wxu1X5whS7YU9z8jsPo/NaB0osB9B7jVxUbxddahIpNSXo2cUCwUqLrmWc0h5s1m6+4HFzmFMyszOqtiqijTnqRgINHcTEjvaYiZWOkZxMHBCvllq+iYTcptl/SbC/R/raZDWu3N0kvHNA9mdVblfTaiVJ5dqv0bOKAYNWqbH6k2W7UXnC9w2ZRlksnTlhTGie9oECZiYVtE8XXSKRmi/Rs4oBg9TFdz+xSbO9Vnl2rPPM5xeG0MQU7Vnqh9Tec5uLh0muhgt+Vnk0cEKz+IpvHtR/erX3Djhecm/XCj4+7snWk9ALsq2R425HixzxCl4PvSM8mDghWP1ex2a48s0HlzWqVD89qzO+YQs1PHyK9MGudJraTpY9tBR+Wnk3v0LJr2EdWlkZncqahYe32poxvtNNcPLyJ7eTsavMxxeE0l+3srBecqTzzOdezlzq+Xal9U3A5uEn59qvaN/coz251fftUCg4MjKfVBfN1xzersl5Q/jBsS+sQ6WVaKzTmd0xJwTHsKtuN0rNJJWP9nWMczxyR8e0Mh+05is0y7QXXK89sUGzaxA8c7JHKt1sVh7eXPwxbPD3D246UXmtpJOu1fVz6WFU4fpXuDg+6p6OuYe32JsXhNMVmgcPmKs32Zs1mk8tmt/SBhQdu+YKKwZby8bNLNZu5EwvbJvbnCyo2Fezx0sclWnOP9Gz6JKObWz+icsF0lbcL917+5T6ErLZ02fxYs9nssr3J9eyljhd8KsslR3ptJYHD5gTp+UfK5i7p2fQrGvM7xmfz5iSdLy4uX5DPPLj32u/yiwEe4Eljn9RsNumCadG+uVh7xU+M88IJ0murN8nmzUnic45QeWaD9GwAlb8KoTz7yfKlkc2Nrme+jRf/a0y2P9RsNrpeeJ2TDy908uHfZ3KmQXpt9QTtb5spPs9IzdekZwO6oSkXum6hNMf1zBLN9mbt21b5RQMPxn0fhtVs1jj58EKVC0/WBftR6bXVHU6+bZb03KJUHN4uPRvQAxzPHKE8c6pis0x55jblmcekFxPswQnoBdvKV4c161wOLlM5e1pjfscU6Wv2azZzpWcTKZtbJecCeplMzhzleOYzDpurFAd3aN8E4osM9ljlBdu0Zx9Qnl2vfJvXvrnY8cLTM4XSsW5+x2HV+tqS8syp0n97tOYfq/H3gjTR8sCwCX5wdIbtfM32mr2fJSvJLz7Yiyfy49oPtigO7lWeXa88u1axWVb+mEZlx866bD0Rzeq8ZBy/9Gn5v6mrLgc3JX8CgXRw0Y4RTr54jJM3ZysvyGs2d2nf7JBelDA5R01b8AoRtXReGtk14ZnS+xZpwXTZV9DPaeDiqIy3/ThdsOdr3xQ0m29p3/xAfLHCXrdSsFTOLJDetyhdtl9M/owANUkmZxocNicoL7xAeeY67dkHNNsfSi9i2HMrBcthe470vkWpOLg2+ZUP+hTjvNYJGd/O0BxcpNm0aN8+rDl4Unpxww+3UrDKj65t+6Hz+ZdE1NGd2as2/SS5fTaF5FY26FdkV5YclQtPVmy+4HJwk8vmEZft09InKfzwYCnfLnx/+4CB74068fzfRTnmkxftSXJ/lW/zya9k0I9pGTCh0DbRLZTmaL90+d4vjD9a/gKy/Anc36z4CCtfXKx92z5UH/OHQQ36z9L7+X6wvLA5+TULQGdm7RrkNBcPV545VXl2ufLMbeXL+JjnpE+SvmzFYLG9RPu2fcAho98eMWX269L7uU+HzdXJL04ADpSW1iHvfxjWtysd33xNszGa7fPSJ09fsFKwXM9emll230+JqGPMzEV7MssfeLGz2as3/3PS+6s8syLxNQhAbFp2DWvM2ykZtvOVFzYrz2wof81FPgK1ZMVHWH7p8kPPyL1E3bzYPmraglcTDxabZQmuMgCqzJWtI7Ne28cdtuc4HHras3dr3+6UDkNarfiiO5tlI4+f/2rdoKHvNiwo/HuUmWX3/TTp/XUL4ZLkFxUACVPfsqu+iYvTtB98VrNZozi41/XMLulgSFv5c1jmqiHq6DcGNx7+pvQ+7q9i84XkVw8AKSGTMw1ZDk508uGFLtsvajYbNZsfSZ+Y4sHyzaoBw0b+dcTUU16T3scPai5OfpUAkHLGeeEE7ZuZ2jcXa9/eoNls0mz73IdhKwVr3MKbbySijrFzr/iN9D7ur8NmUeKLAYDapKMuyyXHybfNcj17qevbL5ev+W5+LH0i93awRp208CEi6hgxdd5rY2Yu2hOl0/xo8u8S5u3CxA87AH2LlgFufsdhOm9P0X5whfbNLdo3WzSbZ6WD1NNgDZs0fRd18w5h3aCh7yo2ie9vlkvnJXhgAehfZHjbkcozp7qFcInLwU3atw+n6Qvjld8lDK6V3rcoHbbnJH8UAejnZHKmIVMoHevkzdma7TWKgztcNo9oNo+nIVjaC66XjlOUKh+elfzRAgB0yzivdUJj3k5xCmaWLtjzlWeX743IN8pvABjTG+9mVv7gqL1BOk5RZr3gzOSPBgCg18jkTIPy2iZlvO3HuYXSnPIVZMPPf9jlkbu7RLLL9ibpOEXpeOHpyU8YAJBq9t5STjxQXeTiPOnZAABShvLsevE4RegWSnOkZwMASBnKt1+VjlP0U8LgU9KzAQCkDF0wX5eOU7RmpvRsAAApQ3lmg3ycuprl0onSswEApIy9l+URD1RnVS6YLj0bAEDKKN+LUj5Qnc1424+Tng0AIGW4bO6XjlPkU8LV5mPSswEApAzNdqN0nKJszNsp0rMBAKQMzWaTdJyibGI7WXo2AICU4bJ5RDpO0U8Jw7+Tng0AIGVo37ZKxylK5bVNkp4NAECe6UT0HSJ6hYjerhs6/K1DDj/hvzNLv5X4nXG6c0KhbaLsmAAA0txARO8R0QtEtI6Imod9dNoeqhvQMXBkw1vZVa2JXwq54lNCLjmyowIASHItlWN1zf4/1L6x9Sdf8h+UshtRNKzd3iQyJQCAOFOI6K9EdGvnDcoLtmVXPPTi4MZJb6YpWI35HeOTHxMAIA1sJKI3iWh05w2a7fel4xT5lHDFY4cmPiUAgDgDiOh/iGhz1Ebtmx9IxynK+mva6pMdEwAgDUyi8i27VkZtdDncLR2nKMdd2Toy2TEBANLAbCoHK/I+f5qDJ8fMuODlsZ+++lfSkdpfan76kGTHBABIAzOoHKyrozY2zPf/jYg6Dv0H/qV0pD4QrJbWIYlOCQCQCkYQ0VtE9DMi6vyo5WMDho16e+jEY38vHaguwTq/dWDyowIApIF1VH6U9Usi+jIRMZU/7f72kMzkN1TzlhekA9UlWACAfo0loteJ6P+I6A0i2k1EFyuv+Lx0nDrrsn1aclAAAHnWUac7Pzfm7RTpOFVwp8yIAABpoUuwFNs7UxCnLirfbpUZEQAgLXwgWJrtUukwVXxK6Jlvy40JAJAG1g0YOuIWxyuerjzzTekodfsIi+2d0sOKy7pR0xa8Kj1ICGvVUdMWvDJ6xsK3pffjwDQF6eDEBcGCMIa1FCyHzSLp4MQFwYIwhrUULO1vq/nb1CNYEMawloKVXVn7VxtFsCCMYc0Ei+33pWPTGyBYEMawZoLl2xukY9MbIFgQxrBWgpVdE54pHZveAMGCMIa1EqxMzjRIx6Y3QLAgjGEtBEtxcK90aHoLBAvCGNZCsBwvOFc6NL0FggVhDFMfLDbP9qXruCNYEMYw7cFSnl0vHZneBMGCMIZpD1aGtx0pHZnepNtgjZ17xW+ofAnYvzlg4HsDR49/a8yMC15WHIgfEAglTXWw2Nwlm5fep9tgjZgy9zUaOPjd+tmX/Xafo04873eDxmb+QkQdo6af/Yr4QYFQ0DQHS3E4TTowvU23wRo8/rA/DR5/2J+6DGL1914YOHr8W3WDD3lHrX4sdRfahzApUxssz94tHZdqUDFYKr+1nQYOfnfElLmvRW0fefz8V4moY8IlX/u5+MGBUMg0Bsv17TMZ32jpuFSDisFqXHzbL4ioY+zcK34TtX3MzEV7iKijcfFtv5A+QBBKmcZgKc8ulw5LtagYrPo5S35LRB2Nl9wR+Qhq5HFn/icRdWRXbPqJ9AGCUMq0BUv5dmtfvrtzxWANnzzr9bpBQ96t9E7gkMxRfxw0NvMX6QMEoaTpCpZ5boIfHC0dlWpSMViDGvSfBzdOejNqW2b5gy/SgIHvjTx+Pj7DBfu1aQqWy8Fl0kGpNpHBUvm2F2jAoPdGTJ0X+YL7iKnzXqsbNPTd7IqHXpQ+SBBKmppgsdkoHZMkiAxW46Jb/pWIOsbOW/7rztvGzrvy11RX1zFm5oV7xA8ShMKmIlhsvz9hTWmcdEySIDJY9bMu/S0RdYw8fv6r+z4wOmbmoj1D9dQ/EFHHiKNnvy69UCBMg+LBYvOE8tomCXckMSKDNfyok/+LOn0lp27I8HeGNB35x0M/s/ol6UUCYVqUDZZ5TuWC6bIJSRZ8+RnCGEoGK8N2vnRAkgbBgjCGEsFyffuU9k3N32OwJyBYEMYw8WCxeTyTM0dJh0MKBAvCGCYaLA43N6zd3iQdDUkQLAhjmFSwFAd3UMsDw6SDIQ2CBWEMqx4sts+7hXCJdCjSAoIFYQyrGSzF9l7HM0dIRyJNIFgQxrA6wQq2qFx4snQc0giCBWEMezVYbDZpLs4j6qiTDkNaQbAgjGFvBEt5ZkNfvP56NUCwIIxhT4OlfLvV9cyS8auKjdIRqCUQLAhjeMDBYvukZnOX9kuXO/niMdInfq2CYEEYw8hgsf2hy+Z+zWaNytuFTnM4VfpEBwAAAAAAAAAAAAAAAAAAAAAAAAAAAAAAAAAAAAAAAAAAAAAAAAAAAAAAAAAAAAAAAAAAAAAAAOgD/D8GWMlYPHHxqwAAAABJRU5ErkJggg==",
       "scale": 38,
       "svg": "<?xml version=\"1.0\" standalone=\"no\"?><!DOCTYPE svg PUBLIC \"-//W3C//DTD SVG 1.1//EN\" \"http://www.w3.org/Graphics/SVG/1.1/DTD/svg11.dtd\"><svg xmlns=\"http://www.w3.org/2000/svg\" width=\"300\" height=\"200\" viewBox=\"0 0 300 200\" style=\"font-family: &quot;Helvetica Neue&quot;,Helvetica,Arial,sans-serif;\"><g class=\"sankey\" transform=\"translate(30,10)\"><g class=\"groups\"/><g class=\"links\"><g class=\"link\" style=\"opacity: 0.8;\"><path d=\"M1,57 A241.4802631578947 241.4802631578947 0.1668750566714441 0 1 41.11026568135672,60.35448949662751 L172.04566531681132,82.4094463613281 A222.4802631578947 222.4802631578947 0.1668750566714441 0 0 209,85.5 L209,104.5 A241.4802631578947 241.4802631578947 0.1668750566714441 0 1 168.88973431864326,101.14551050337249 L37.95433468318868,79.0905536386719 A222.4802631578947 222.4802631578947 0.1668750566714441 0 0 1,76 Z\" style=\"fill: rgb(31, 119, 180);\"/><title>A → E\n500m</title></g><g class=\"link\" style=\"opacity: 0.8;\"><path d=\"M1,19 A0 0 0 0 0 1,19 L209,19 A0 0 0 0 0 209,19 L209,57 A0 0 0 0 0 209,57 L1,57 A0 0 0 0 0 1,57 Z\" style=\"fill: rgb(31, 119, 180);\"/><title>A → B\n1.00</title></g><g class=\"link\" style=\"opacity: 0.8;\"><path d=\"M210,19 A43 43 1.5859466826696664 0 1 252.99506512880683,62.651440380739494 L251.99506512880683,127.92425111851867 A43 43 1.5859466826696664 0 1 209,171 L209,133 A5 5 1.5859466826696664 0 0 213.99942617776824,127.3485596192605 L214.99942617776824,62.07574888148134 A5 5 1.5859466826696664 0 0 210,57 Z\" style=\"fill: rgb(31, 119, 180);\"/><title>B → C\n1.00</title></g><g class=\"link\" style=\"opacity: 0.8;\"><path d=\"M0,133 A0 0 0 0 0 0,133 L210,133 A0 0 0 0 0 210,133 L210,171 A0 0 0 0 0 210,171 L0,171 A0 0 0 0 0 0,171 Z\" style=\"fill: rgb(31, 119, 180);\"/><title>C → D\n1.00</title></g></g><g class=\"nodes\"><g class=\"node\" transform=\"translate(209,133)\"><title>C</title><text dy=\".35em\" text-anchor=\"start\" transform=\"translate(-4,-10)\" style=\"display: inline;\">C</text><line x1=\"0\" x2=\"0\" y1=\"-5\" y2=\"38\" style=\"display: inline; stroke: rgb(0, 0, 0);\"/><rect x=\"-5\" y=\"-5\" width=\"10\" style=\"fill: none; visibility: hidden; pointer-events: all;\" height=\"43\"/></g><g class=\"node\" transform=\"translate(0,133)\"><title>D</title><text dy=\".35em\" text-anchor=\"start\" transform=\"translate(4,19)\" style=\"display: inline;\">D</text><line x1=\"0\" x2=\"0\" y1=\"0\" y2=\"38\" style=\"display: inline; stroke: rgb(0, 0, 0);\"/><rect x=\"-5\" y=\"-5\" width=\"10\" style=\"fill: none; visibility: hidden; pointer-events: all;\" height=\"43\"/></g><g class=\"node\" transform=\"translate(0,19)\"><title>A</title><text dy=\".35em\" text-anchor=\"end\" transform=\"translate(-4,28.5)\" style=\"display: inline;\">A</text><line x1=\"0\" x2=\"0\" y1=\"0\" y2=\"57\" style=\"display: inline; stroke: rgb(0, 0, 0);\"/><rect x=\"-5\" y=\"-5\" width=\"10\" style=\"fill: none; visibility: hidden; pointer-events: all;\" height=\"62\"/></g><g class=\"node\" transform=\"translate(209,19)\"><title>B</title><text dy=\".35em\" text-anchor=\"start\" transform=\"translate(-4,-10)\" style=\"display: inline;\">B</text><line x1=\"0\" x2=\"0\" y1=\"-5\" y2=\"38\" style=\"display: inline; stroke: rgb(0, 0, 0);\"/><rect x=\"-5\" y=\"-5\" width=\"10\" style=\"fill: none; visibility: hidden; pointer-events: all;\" height=\"43\"/></g><g class=\"node\" transform=\"translate(209,85.5)\"><title>E</title><text dy=\".35em\" text-anchor=\"start\" transform=\"translate(4,9.5)\" style=\"display: inline;\">E</text><line x1=\"0\" x2=\"0\" y1=\"0\" y2=\"19\" style=\"display: inline; stroke: rgb(0, 0, 0);\"/><rect x=\"-5\" y=\"-5\" width=\"10\" style=\"fill: none; visibility: hidden; pointer-events: all;\" height=\"24\"/></g></g><g class=\"slice-titles\"/></g></svg>"
      }
     },
     "13528a7b6f6d42a78b756f053ec8719a": {
      "model_module": "jupyter-sankey-widget",
      "model_module_version": "^0.2.3",
      "model_name": "SankeyModel",
      "state": {
       "_model_module_version": "^0.2.3",
       "_view_module_version": "^0.2.3",
       "layout": "IPY_MODEL_8beda87a3f0e499dbdcce88fd4464b6b",
       "links": [
        {
         "source": "A",
         "target": "B",
         "value": 1
        },
        {
         "source": "B",
         "target": "C",
         "value": 1
        },
        {
         "source": "A",
         "target": "D",
         "value": 1
        }
       ],
       "margins": {
        "bottom": 0,
        "left": 30,
        "right": 60,
        "top": 10
       },
       "nodes": [
        {
         "id": "A"
        },
        {
         "id": "C"
        },
        {
         "id": "B"
        },
        {
         "id": "D"
        }
       ],
       "order": [
        [
         [],
         [
          "A"
         ],
         []
        ],
        [
         [
          "B"
         ],
         [],
         [
          "D"
         ]
        ],
        [
         [],
         [
          "C"
         ],
         []
        ]
       ],
       "png": "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",
       "scale": 23.75,
       "svg": "<?xml version=\"1.0\" standalone=\"no\"?><!DOCTYPE svg PUBLIC \"-//W3C//DTD SVG 1.1//EN\" \"http://www.w3.org/Graphics/SVG/1.1/DTD/svg11.dtd\"><svg xmlns=\"http://www.w3.org/2000/svg\" width=\"300\" height=\"200\" viewBox=\"0 0 300 200\" style=\"font-family: &quot;Helvetica Neue&quot;,Helvetica,Arial,sans-serif;\"><g class=\"sankey\" transform=\"translate(30,10)\"><g class=\"groups\"/><g class=\"links\"><g class=\"link\" style=\"opacity: 0.8;\"><path d=\"M1,71.25 A24.09377631578947 24.09377631578947 0.6406816029092847 0 0 15.401862365382268,66.47192759486012 L75.90176481639432,21.362970020803637 A47.84377631578947 47.84377631578947 0.6406816029092847 0 1 104.5,11.875 L104.5,35.625 A24.09377631578947 24.09377631578947 0.6406816029092847 0 0 90.09813763461773,40.40307240513989 L29.59823518360569,85.51202997919637 A47.84377631578947 47.84377631578947 0.6406816029092847 0 1 1,95 Z\" style=\"fill: rgb(31, 119, 180);\"/><title>A → B\n1.00</title></g><g class=\"link\" style=\"opacity: 0.8;\"><path d=\"M105.5,11.875 A45.11460526315789 45.11460526315789 0.7426834008371334 0 1 136.00952276132568,23.7556372646371 L194.55182059643653,77.49877044632998 A21.36460526315789 21.36460526315789 0.7426834008371334 0 0 209,83.125 L209,106.875 A45.11460526315789 45.11460526315789 0.7426834008371334 0 1 178.49047723867432,94.9943627353629 L119.94817940356347,41.251229553670015 A21.36460526315789 21.36460526315789 0.7426834008371334 0 0 105.5,35.625 Z\" style=\"fill: rgb(31, 119, 180);\"/><title>B → C\n1.00</title></g><g class=\"link\" style=\"opacity: 0.8;\"><path d=\"M1,95 A47.84377631578947 47.84377631578947 0.6406816029092847 0 1 29.59823518360569,104.48797002080363 L90.09813763461773,149.59692759486012 A24.09377631578947 24.09377631578947 0.6406816029092847 0 0 104.5,154.375 L104.5,178.125 A47.84377631578947 47.84377631578947 0.6406816029092847 0 1 75.90176481639432,168.63702997919637 L15.401862365382268,123.52807240513988 A24.09377631578947 24.09377631578947 0.6406816029092847 0 0 1,118.75 Z\" style=\"fill: rgb(31, 119, 180);\"/><title>A → D\n1.00</title></g></g><g class=\"nodes\"><g class=\"node\" transform=\"translate(0,71.25)\"><title>A</title><text dy=\".35em\" text-anchor=\"end\" transform=\"translate(-4,23.75)\" style=\"display: inline;\">A</text><line x1=\"0\" x2=\"0\" y1=\"0\" y2=\"47.5\" style=\"display: inline; stroke: rgb(0, 0, 0);\"/><rect x=\"-5\" y=\"-5\" width=\"10\" style=\"fill: none; visibility: hidden; pointer-events: all;\" height=\"52.5\"/></g><g class=\"node\" transform=\"translate(209,83.125)\"><title>C</title><text dy=\".35em\" text-anchor=\"start\" transform=\"translate(4,11.875)\" style=\"display: inline;\">C</text><line x1=\"0\" x2=\"0\" y1=\"0\" y2=\"23.75\" style=\"display: inline; stroke: rgb(0, 0, 0);\"/><rect x=\"-5\" y=\"-5\" width=\"10\" style=\"fill: none; visibility: hidden; pointer-events: all;\" height=\"28.75\"/></g><g class=\"node\" transform=\"translate(104.5,11.875)\"><title>B</title><text dy=\".35em\" text-anchor=\"start\" transform=\"translate(-4,-10)\" style=\"display: inline;\">B</text><line x1=\"0\" x2=\"0\" y1=\"-5\" y2=\"23.75\" style=\"display: inline; stroke: rgb(0, 0, 0);\"/><rect x=\"-5\" y=\"-5\" width=\"10\" style=\"fill: none; visibility: hidden; pointer-events: all;\" height=\"28.75\"/></g><g class=\"node\" transform=\"translate(104.5,154.375)\"><title>D</title><text dy=\".35em\" text-anchor=\"start\" transform=\"translate(4,11.875)\" style=\"display: inline;\">D</text><line x1=\"0\" x2=\"0\" y1=\"0\" y2=\"23.75\" style=\"display: inline; stroke: rgb(0, 0, 0);\"/><rect x=\"-5\" y=\"-5\" width=\"10\" style=\"fill: none; visibility: hidden; pointer-events: all;\" height=\"28.75\"/></g></g><g class=\"slice-titles\"/></g></svg>"
      }
     },
     "176d311d39db41e7bfe1a8ce75be96f3": {
      "model_module": "jupyter-sankey-widget",
      "model_module_version": "^0.2.3",
      "model_name": "SankeyModel",
      "state": {
       "_model_module_version": "^0.2.3",
       "_view_module_version": "^0.2.3",
       "align_link_types": true,
       "layout": "IPY_MODEL_8beda87a3f0e499dbdcce88fd4464b6b",
       "links": [
        {
         "source": "A1",
         "target": "B",
         "type": "x",
         "value": 1.5
        },
        {
         "source": "A1",
         "target": "B",
         "type": "y",
         "value": 0.5
        },
        {
         "source": "A2",
         "target": "B",
         "type": "x",
         "value": 0.5
        },
        {
         "source": "A2",
         "target": "B",
         "type": "y",
         "value": 1.5
        },
        {
         "source": "B",
         "target": "C",
         "type": "x",
         "value": 2
        },
        {
         "source": "B",
         "target": "C",
         "type": "y",
         "value": 2
        }
       ],
       "margins": {
        "bottom": 0,
        "left": 30,
        "right": 60,
        "top": 10
       },
       "nodes": [
        {
         "id": "C"
        },
        {
         "id": "B"
        },
        {
         "id": "A2"
        },
        {
         "id": "A1"
        }
       ],
       "order": [],
       "png": "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",
       "scale": 23.75,
       "svg": "<?xml version=\"1.0\" standalone=\"no\"?><!DOCTYPE svg PUBLIC \"-//W3C//DTD SVG 1.1//EN\" \"http://www.w3.org/Graphics/SVG/1.1/DTD/svg11.dtd\"><svg xmlns=\"http://www.w3.org/2000/svg\" width=\"300\" height=\"200\" viewBox=\"0 0 300 200\" style=\"font-family: &quot;Helvetica Neue&quot;,Helvetica,Arial,sans-serif;\"><g class=\"sankey\" transform=\"translate(30,10)\"><g class=\"groups\"/><g class=\"links\"><g class=\"link\" style=\"opacity: 0.8;\"><path d=\"M1,54.625 A51.79158281733746 51.79158281733746 0.45660987225145666 0 1 23.835314351364108,59.930924069724675 L86.90046612050966,90.91064134304136 A39.91658281733746 39.91658281733746 0.45660987225145666 0 0 104.5,95 L104.5,106.875 A51.79158281733746 51.79158281733746 0.45660987225145666 0 1 81.6646856486359,101.56907593027532 L18.599533879490334,70.58935865695864 A39.91658281733746 39.91658281733746 0.45660987225145666 0 0 1,66.5 Z\" style=\"fill: rgb(255, 127, 14);\"/><title>A1 → B\ny\n500m</title></g><g class=\"link\" style=\"opacity: 0.8;\"><path d=\"M1,123.5 A39.91658281733746 39.91658281733746 0.45660987225145666 0 0 18.599533879490334,119.41064134304136 L81.6646856486359,88.43092406972468 A51.79158281733746 51.79158281733746 0.45660987225145666 0 1 104.5,83.125 L104.5,95 A39.91658281733746 39.91658281733746 0.45660987225145666 0 0 86.90046612050966,99.08935865695864 L23.835314351364108,130.06907593027532 A51.79158281733746 51.79158281733746 0.45660987225145666 0 1 1,135.375 Z\" style=\"fill: rgb(174, 199, 232);\"/><title>A2 → B\nx\n500m</title></g><g class=\"link\" style=\"opacity: 0.8;\"><path d=\"M1,19 A78.46776315789472 78.46776315789472 0.32954890555438254 0 1 26.393442552343046,23.222474214121906 L90.63538603305805,45.194563277763805 A42.84276315789473 42.84276315789473 0.32954890555438254 0 0 104.5,47.5 L104.5,83.125 A78.46776315789472 78.46776315789472 0.32954890555438254 0 1 79.10655744765695,78.9025257858781 L14.864613966941933,56.930436722236195 A42.84276315789473 42.84276315789473 0.32954890555438254 0 0 1,54.625 Z\" style=\"fill: rgb(174, 199, 232);\"/><title>A1 → B\nx\n1.50</title></g><g class=\"link\" style=\"opacity: 0.8;\"><path d=\"M1,135.375 A42.84276315789473 42.84276315789473 0.32954890555438254 0 0 14.864613966941933,133.0695632777638 L79.10655744765695,111.0974742141219 A78.46776315789472 78.46776315789472 0.32954890555438254 0 1 104.5,106.875 L104.5,142.5 A42.84276315789473 42.84276315789473 0.32954890555438254 0 0 90.63538603305805,144.80543672223618 L26.393442552343046,166.77752578587808 A78.46776315789472 78.46776315789472 0.32954890555438254 0 1 1,171 Z\" style=\"fill: rgb(255, 127, 14);\"/><title>A2 → B\ny\n1.50</title></g><g class=\"link\" style=\"opacity: 0.8;\"><path d=\"M104.5,47.5 A0 0 0 0 0 104.5,47.5 L209,47.5 A0 0 0 0 0 209,47.5 L209,95 A0 0 0 0 0 209,95 L104.5,95 A0 0 0 0 0 104.5,95 Z\" style=\"fill: rgb(174, 199, 232);\"/><title>B → C\nx\n2.00</title></g><g class=\"link\" style=\"opacity: 0.8;\"><path d=\"M104.5,95 A0 0 0 0 0 104.5,95 L209,95 A0 0 0 0 0 209,95 L209,142.5 A0 0 0 0 0 209,142.5 L104.5,142.5 A0 0 0 0 0 104.5,142.5 Z\" style=\"fill: rgb(255, 127, 14);\"/><title>B → C\ny\n2.00</title></g></g><g class=\"nodes\"><g class=\"node\" transform=\"translate(209,47.5)\"><title>C</title><text dy=\".35em\" text-anchor=\"start\" transform=\"translate(4,47.5)\" style=\"display: inline;\">C</text><line x1=\"0\" x2=\"0\" y1=\"0\" y2=\"95\" style=\"display: inline; stroke: rgb(0, 0, 0);\"/><rect x=\"-5\" y=\"-5\" width=\"10\" style=\"fill: none; visibility: hidden; pointer-events: all;\" height=\"100\"/></g><g class=\"node\" transform=\"translate(104.5,47.5)\"><title>B</title><text dy=\".35em\" text-anchor=\"start\" transform=\"translate(-4,-10)\" style=\"display: inline;\">B</text><line x1=\"0\" x2=\"0\" y1=\"-5\" y2=\"95\" style=\"display: inline; stroke: rgb(0, 0, 0);\"/><rect x=\"-5\" y=\"-5\" width=\"10\" style=\"fill: none; visibility: hidden; pointer-events: all;\" height=\"100\"/></g><g class=\"node\" transform=\"translate(0,123.5)\"><title>A2</title><text dy=\".35em\" text-anchor=\"end\" transform=\"translate(-4,23.75)\" style=\"display: inline;\">A2</text><line x1=\"0\" x2=\"0\" y1=\"0\" y2=\"47.5\" style=\"display: inline; stroke: rgb(0, 0, 0);\"/><rect x=\"-5\" y=\"-5\" width=\"10\" style=\"fill: none; visibility: hidden; pointer-events: all;\" height=\"52.5\"/></g><g class=\"node\" transform=\"translate(0,19)\"><title>A1</title><text dy=\".35em\" text-anchor=\"end\" transform=\"translate(-4,23.75)\" style=\"display: inline;\">A1</text><line x1=\"0\" x2=\"0\" y1=\"0\" y2=\"47.5\" style=\"display: inline; stroke: rgb(0, 0, 0);\"/><rect x=\"-5\" y=\"-5\" width=\"10\" style=\"fill: none; visibility: hidden; pointer-events: all;\" height=\"52.5\"/></g></g><g class=\"slice-titles\"/></g></svg>"
      }
     },
     "301854cc794347a1a4d4708dcfadf24f": {
      "model_module": "@jupyter-widgets/controls",
      "model_module_version": "1.0.0",
      "model_name": "ButtonStyleModel",
      "state": {}
     },
     "3b8ddd74f1ad458b911e5166a253e0cc": {
      "model_module": "@jupyter-widgets/base",
      "model_module_version": "1.0.0",
      "model_name": "LayoutModel",
      "state": {}
     },
     "58fa0c08182348e7baefbf68b7a9dd20": {
      "model_module": "jupyter-sankey-widget",
      "model_module_version": "^0.2.3",
      "model_name": "SankeyModel",
      "state": {
       "_model_module_version": "^0.2.3",
       "_view_module_version": "^0.2.3",
       "layout": "IPY_MODEL_8beda87a3f0e499dbdcce88fd4464b6b",
       "links": [
        {
         "color": "steelblue",
         "source": "A",
         "target": "B",
         "value": 3
        },
        {
         "color": "#aaa",
         "source": "B",
         "target": "C",
         "value": 2
        },
        {
         "color": "goldenrod",
         "source": "B",
         "target": "D",
         "value": 1
        }
       ],
       "margins": {
        "bottom": 0,
        "left": 30,
        "right": 60,
        "top": 10
       },
       "nodes": [
        {
         "id": "B",
         "style": "process",
         "title": "Middle node"
        },
        {
         "id": "A"
        },
        {
         "id": "C"
        },
        {
         "id": "D"
        }
       ],
       "order": [],
       "png": "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",
       "scale": 31.666666666666668,
       "svg": "<?xml version=\"1.0\" standalone=\"no\"?><!DOCTYPE svg PUBLIC \"-//W3C//DTD SVG 1.1//EN\" \"http://www.w3.org/Graphics/SVG/1.1/DTD/svg11.dtd\"><svg xmlns=\"http://www.w3.org/2000/svg\" width=\"300\" height=\"200\" viewBox=\"0 0 300 200\" style=\"font-family: &quot;Helvetica Neue&quot;,Helvetica,Arial,sans-serif;\"><g class=\"sankey\" transform=\"translate(30,10)\"><g class=\"groups\"/><g class=\"links\"><g class=\"link\" style=\"opacity: 0.8;\"><path d=\"M105.5,110.83333333333334 A76.48859649122804 76.48859649122804 0.32954890555438254 0 1 130.2529520753763,114.9493054645727 L194.49489555609134,136.92139452821462 A44.82192982456137 44.82192982456137 0.32954890555438254 0 0 209,139.33333333333334 L209,171.00000000000003 A76.48859649122804 76.48859649122804 0.32954890555438254 0 1 184.24704792462367,166.88402786876063 L120.00510444390865,144.91193880511872 A44.82192982456137 44.82192982456137 0.32954890555438254 0 0 105.5,142.5 Z\" style=\"fill: rgb(218, 165, 32);\"/><title>Middle node → D\n1.00</title></g><g class=\"link\" style=\"opacity: 0.8;\"><path d=\"M105.5,47.5 A28.988596491228062 28.988596491228062 0.32954890555438254 0 0 114.88118062817485,45.94007785794159 L179.12312410888984,23.96798879429969 A92.3219298245614 92.3219298245614 0.32954890555438254 0 1 209,19.000000000000004 L209,82.33333333333334 A28.988596491228062 28.988596491228062 0.32954890555438254 0 0 199.61881937182517,83.89325547539175 L135.37687589111016,105.86534453903366 A92.3219298245614 92.3219298245614 0.32954890555438254 0 1 105.5,110.83333333333334 Z\" style=\"fill: rgb(170, 170, 170);\"/><title>Middle node → C\n2.00</title></g><g class=\"link\" style=\"opacity: 0.8;\"><path d=\"M1,47.5 A0 0 0 0 0 1,47.5 L104.5,47.5 A0 0 0 0 0 104.5,47.5 L104.5,142.5 A0 0 0 0 0 104.5,142.5 L1,142.5 A0 0 0 0 0 1,142.5 Z\" style=\"fill: rgb(70, 130, 180);\"/><title>A → Middle node\n3.00</title></g></g><g class=\"nodes\"><g class=\"node\" transform=\"translate(104.5,47.5)\"><title>Middle node</title><text dy=\".35em\" text-anchor=\"start\" transform=\"translate(-4,-10)\" style=\"display: inline;\">Middle node</text><line x1=\"0\" x2=\"0\" y1=\"-5\" y2=\"95\" style=\"display: inline; stroke: rgb(136, 136, 136); stroke-width: 4px;\"/><rect x=\"-5\" y=\"-5\" width=\"10\" style=\"fill: none; visibility: hidden; pointer-events: all;\" height=\"100\"/></g><g class=\"node\" transform=\"translate(0,47.5)\"><title>A</title><text dy=\".35em\" text-anchor=\"end\" transform=\"translate(-4,47.5)\" style=\"display: inline;\">A</text><line x1=\"0\" x2=\"0\" y1=\"0\" y2=\"95\" style=\"display: inline; stroke: rgb(0, 0, 0);\"/><rect x=\"-5\" y=\"-5\" width=\"10\" style=\"fill: none; visibility: hidden; pointer-events: all;\" height=\"100\"/></g><g class=\"node\" transform=\"translate(209,19)\"><title>C</title><text dy=\".35em\" text-anchor=\"start\" transform=\"translate(4,31.66666666666667)\" style=\"display: inline;\">C</text><line x1=\"0\" x2=\"0\" y1=\"0\" y2=\"63.33333333333334\" style=\"display: inline; stroke: rgb(0, 0, 0);\"/><rect x=\"-5\" y=\"-5\" width=\"10\" style=\"fill: none; visibility: hidden; pointer-events: all;\" height=\"68.33333333333334\"/></g><g class=\"node\" transform=\"translate(209,139.33333333333334)\"><title>D</title><text dy=\".35em\" text-anchor=\"start\" transform=\"translate(4,15.833333333333329)\" style=\"display: inline;\">D</text><line x1=\"0\" x2=\"0\" y1=\"0\" y2=\"31.666666666666657\" style=\"display: inline; stroke: rgb(0, 0, 0);\"/><rect x=\"-5\" y=\"-5\" width=\"10\" style=\"fill: none; visibility: hidden; pointer-events: all;\" height=\"36.66666666666666\"/></g></g><g class=\"slice-titles\"/></g></svg>"
      }
     },
     "817408ab9ff64b35abce62ce7c8d5e10": {
      "model_module": "jupyter-sankey-widget",
      "model_module_version": "^0.2.3",
      "model_name": "SankeyModel",
      "state": {
       "_model_module_version": "^0.2.3",
       "_view_module_version": "^0.2.3",
       "layout": "IPY_MODEL_8beda87a3f0e499dbdcce88fd4464b6b",
       "links": [
        {
         "source": "A",
         "target": "B",
         "value": 1
        },
        {
         "source": "B",
         "target": "C",
         "value": 1
        },
        {
         "source": "C",
         "target": "D",
         "value": 1
        },
        {
         "source": "A",
         "target": "E",
         "value": 0.5
        }
       ],
       "margins": {
        "bottom": 0,
        "left": 30,
        "right": 60,
        "top": 10
       },
       "nodes": [
        {
         "direction": "l",
         "id": "C"
        },
        {
         "direction": "r",
         "id": "D"
        },
        {
         "id": "A"
        },
        {
         "id": "B"
        },
        {
         "id": "E"
        }
       ],
       "order": [],
       "png": "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",
       "scale": 27.142857142857142,
       "svg": "<?xml version=\"1.0\" standalone=\"no\"?><!DOCTYPE svg PUBLIC \"-//W3C//DTD SVG 1.1//EN\" \"http://www.w3.org/Graphics/SVG/1.1/DTD/svg11.dtd\"><svg xmlns=\"http://www.w3.org/2000/svg\" width=\"300\" height=\"200\" viewBox=\"0 0 300 200\" style=\"font-family: &quot;Helvetica Neue&quot;,Helvetica,Arial,sans-serif;\"><g class=\"sankey\" transform=\"translate(30,10)\"><g class=\"groups\"/><g class=\"links\"><g class=\"link\" style=\"opacity: 0.8;\"><path d=\"M1,101.78571428571428 A131.7616678892353 131.7616678892353 0.3205653710853571 0 1 42.51852062928782,108.4979936530198 L171.75787967846662,151.4076556531524 A118.19023931780673 118.19023931780673 0.3205653710853571 0 0 209,157.42857142857142 L209,170.99999999999997 A131.7616678892353 131.7616678892353 0.3205653710853571 0 1 167.48147937071218,164.28772063269446 L38.24212032153339,121.37805863256186 A118.19023931780673 118.19023931780673 0.3205653710853571 0 0 1,115.35714285714286 Z\" style=\"fill: rgb(31, 119, 180);\"/><title>A → E\n500m</title></g><g class=\"link\" style=\"opacity: 0.8;\"><path d=\"M1,74.64285714285714 A111.40452503209242 111.40452503209242 0.3205653710853573 0 0 36.10392016765619,68.9676231633814 L165.34327921683493,26.05796116324879 A138.54738217494958 138.54738217494958 0.3205653710853573 0 1 209,19 L209,46.14285714285714 A111.40452503209242 111.40452503209242 0.3205653710853573 0 0 173.89607983234382,51.81809112233289 L44.65672078316506,94.72775312246549 A138.54738217494958 138.54738217494958 0.3205653710853573 0 1 1,101.78571428571428 Z\" style=\"fill: rgb(31, 119, 180);\"/><title>A → B\n1.00</title></g><g class=\"link\" style=\"opacity: 0.8;\"><path d=\"M210,19 A32.14285714285714 32.14285714285714 1.6814535479687924 0 1 241.94626290022345,54.69244190954864 L240.94626290022345,59.59069951248291 A32.14285714285714 32.14285714285714 1.6814535479687924 0 1 209,92.28571428571428 L209,65.14285714285714 A4.999999999999998 4.999999999999998 1.6814535479687924 0 0 213.9694186733681,56.593272376165636 L214.9694186733681,51.69501477323137 A4.999999999999998 4.999999999999998 1.6814535479687924 0 0 210,46.14285714285714 Z\" style=\"fill: rgb(31, 119, 180);\"/><title>B → C\n1.00</title></g><g class=\"link\" style=\"opacity: 0.8;\"><path d=\"M210,65.14285714285714 A32.14285714285714 32.14285714285714 1.6814535479687924 0 0 178.05373709977655,100.83529905240577 L177.05373709977655,105.73355665534005 A32.14285714285714 32.14285714285714 1.6814535479687924 0 0 209,138.42857142857142 L209,111.28571428571428 A4.999999999999998 4.999999999999998 1.6814535479687924 0 1 204.0305813266319,105.73355665534005 L205.0305813266319,100.83529905240577 A4.999999999999998 4.999999999999998 1.6814535479687924 0 1 210,92.28571428571428 Z\" style=\"fill: rgb(31, 119, 180);\"/><title>C → D\n1.00</title></g></g><g class=\"nodes\"><g class=\"node\" transform=\"translate(209,65.14285714285714)\"><title>C</title><text dy=\".35em\" text-anchor=\"start\" transform=\"translate(4,13.57142857142857)\" style=\"display: inline;\">C</text><line x1=\"0\" x2=\"0\" y1=\"0\" y2=\"27.14285714285714\" style=\"display: inline; stroke: rgb(0, 0, 0);\"/><rect x=\"-5\" y=\"-5\" width=\"10\" style=\"fill: none; visibility: hidden; pointer-events: all;\" height=\"32.14285714285714\"/></g><g class=\"node\" transform=\"translate(209,111.28571428571428)\"><title>D</title><text dy=\".35em\" text-anchor=\"start\" transform=\"translate(4,13.57142857142857)\" style=\"display: inline;\">D</text><line x1=\"0\" x2=\"0\" y1=\"0\" y2=\"27.14285714285714\" style=\"display: inline; stroke: rgb(0, 0, 0);\"/><rect x=\"-5\" y=\"-5\" width=\"10\" style=\"fill: none; visibility: hidden; pointer-events: all;\" height=\"32.14285714285714\"/></g><g class=\"node\" transform=\"translate(0,74.64285714285714)\"><title>A</title><text dy=\".35em\" text-anchor=\"end\" transform=\"translate(-4,20.35714285714286)\" style=\"display: inline;\">A</text><line x1=\"0\" x2=\"0\" y1=\"0\" y2=\"40.71428571428572\" style=\"display: inline; stroke: rgb(0, 0, 0);\"/><rect x=\"-5\" y=\"-5\" width=\"10\" style=\"fill: none; visibility: hidden; pointer-events: all;\" height=\"45.71428571428572\"/></g><g class=\"node\" transform=\"translate(209,19)\"><title>B</title><text dy=\".35em\" text-anchor=\"start\" transform=\"translate(-4,-10)\" style=\"display: inline;\">B</text><line x1=\"0\" x2=\"0\" y1=\"-5\" y2=\"27.14285714285714\" style=\"display: inline; stroke: rgb(0, 0, 0);\"/><rect x=\"-5\" y=\"-5\" width=\"10\" style=\"fill: none; visibility: hidden; pointer-events: all;\" height=\"32.14285714285714\"/></g><g class=\"node\" transform=\"translate(209,157.42857142857142)\"><title>E</title><text dy=\".35em\" text-anchor=\"start\" transform=\"translate(4,6.785714285714292)\" style=\"display: inline;\">E</text><line x1=\"0\" x2=\"0\" y1=\"0\" y2=\"13.571428571428584\" style=\"display: inline; stroke: rgb(0, 0, 0);\"/><rect x=\"-5\" y=\"-5\" width=\"10\" style=\"fill: none; visibility: hidden; pointer-events: all;\" height=\"18.571428571428584\"/></g></g><g class=\"slice-titles\"/></g></svg>"
      }
     },
     "84bbebc4909d46b7851ab75fcbbccf63": {
      "model_module": "jupyter-sankey-widget",
      "model_module_version": "^0.2.3",
      "model_name": "SankeyModel",
      "state": {
       "_model_module_version": "^0.2.3",
       "_view_module_version": "^0.2.3",
       "layout": "IPY_MODEL_8beda87a3f0e499dbdcce88fd4464b6b",
       "links": [
        {
         "source": "A",
         "target": "B",
         "type": "x",
         "value": 3
        },
        {
         "source": "B",
         "target": "C",
         "type": "y",
         "value": 2
        },
        {
         "source": "B",
         "target": "D",
         "type": "z",
         "value": 1
        }
       ],
       "margins": {
        "bottom": 0,
        "left": 30,
        "right": 60,
        "top": 10
       },
       "nodes": [
        {
         "id": "A"
        },
        {
         "id": "C"
        },
        {
         "id": "B"
        },
        {
         "id": "D"
        }
       ],
       "order": [],
       "png": "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",
       "scale": 31.666666666666668,
       "svg": "<?xml version=\"1.0\" standalone=\"no\"?><!DOCTYPE svg PUBLIC \"-//W3C//DTD SVG 1.1//EN\" \"http://www.w3.org/Graphics/SVG/1.1/DTD/svg11.dtd\"><svg xmlns=\"http://www.w3.org/2000/svg\" width=\"300\" height=\"200\" viewBox=\"0 0 300 200\" style=\"font-family: &quot;Helvetica Neue&quot;,Helvetica,Arial,sans-serif;\"><g class=\"sankey\" transform=\"translate(30,10)\"><g class=\"groups\"/><g class=\"links\"><g class=\"link\" style=\"opacity: 0.8;\"><path d=\"M105.5,110.83333333333334 A76.48859649122804 76.48859649122804 0.32954890555438254 0 1 130.2529520753763,114.9493054645727 L194.49489555609134,136.92139452821462 A44.82192982456137 44.82192982456137 0.32954890555438254 0 0 209,139.33333333333334 L209,171.00000000000003 A76.48859649122804 76.48859649122804 0.32954890555438254 0 1 184.24704792462367,166.88402786876063 L120.00510444390865,144.91193880511872 A44.82192982456137 44.82192982456137 0.32954890555438254 0 0 105.5,142.5 Z\" style=\"fill: rgb(255, 187, 120);\"/><title>B → D\nz\n1.00</title></g><g class=\"link\" style=\"opacity: 0.8;\"><path d=\"M105.5,47.5 A28.988596491228062 28.988596491228062 0.32954890555438254 0 0 114.88118062817485,45.94007785794159 L179.12312410888984,23.96798879429969 A92.3219298245614 92.3219298245614 0.32954890555438254 0 1 209,19.000000000000004 L209,82.33333333333334 A28.988596491228062 28.988596491228062 0.32954890555438254 0 0 199.61881937182517,83.89325547539175 L135.37687589111016,105.86534453903366 A92.3219298245614 92.3219298245614 0.32954890555438254 0 1 105.5,110.83333333333334 Z\" style=\"fill: rgb(255, 127, 14);\"/><title>B → C\ny\n2.00</title></g><g class=\"link\" style=\"opacity: 0.8;\"><path d=\"M1,47.5 A0 0 0 0 0 1,47.5 L104.5,47.5 A0 0 0 0 0 104.5,47.5 L104.5,142.5 A0 0 0 0 0 104.5,142.5 L1,142.5 A0 0 0 0 0 1,142.5 Z\" style=\"fill: rgb(174, 199, 232);\"/><title>A → B\nx\n3.00</title></g></g><g class=\"nodes\"><g class=\"node\" transform=\"translate(0,47.5)\"><title>A</title><text dy=\".35em\" text-anchor=\"end\" transform=\"translate(-4,47.5)\" style=\"display: inline;\">A</text><line x1=\"0\" x2=\"0\" y1=\"0\" y2=\"95\" style=\"display: inline; stroke: rgb(0, 0, 0);\"/><rect x=\"-5\" y=\"-5\" width=\"10\" style=\"fill: none; visibility: hidden; pointer-events: all;\" height=\"100\"/></g><g class=\"node\" transform=\"translate(209,19)\"><title>C</title><text dy=\".35em\" text-anchor=\"start\" transform=\"translate(4,31.66666666666667)\" style=\"display: inline;\">C</text><line x1=\"0\" x2=\"0\" y1=\"0\" y2=\"63.33333333333334\" style=\"display: inline; stroke: rgb(0, 0, 0);\"/><rect x=\"-5\" y=\"-5\" width=\"10\" style=\"fill: none; visibility: hidden; pointer-events: all;\" height=\"68.33333333333334\"/></g><g class=\"node\" transform=\"translate(104.5,47.5)\"><title>B</title><text dy=\".35em\" text-anchor=\"start\" transform=\"translate(-4,-10)\" style=\"display: inline;\">B</text><line x1=\"0\" x2=\"0\" y1=\"-5\" y2=\"95\" style=\"display: inline; stroke: rgb(0, 0, 0);\"/><rect x=\"-5\" y=\"-5\" width=\"10\" style=\"fill: none; visibility: hidden; pointer-events: all;\" height=\"100\"/></g><g class=\"node\" transform=\"translate(209,139.33333333333334)\"><title>D</title><text dy=\".35em\" text-anchor=\"start\" transform=\"translate(4,15.833333333333329)\" style=\"display: inline;\">D</text><line x1=\"0\" x2=\"0\" y1=\"0\" y2=\"31.666666666666657\" style=\"display: inline; stroke: rgb(0, 0, 0);\"/><rect x=\"-5\" y=\"-5\" width=\"10\" style=\"fill: none; visibility: hidden; pointer-events: all;\" height=\"36.66666666666666\"/></g></g><g class=\"slice-titles\"/></g></svg>"
      }
     },
     "8beda87a3f0e499dbdcce88fd4464b6b": {
      "model_module": "@jupyter-widgets/base",
      "model_module_version": "1.0.0",
      "model_name": "LayoutModel",
      "state": {
       "height": "200",
       "width": "300"
      }
     },
     "911eb7f5cb164383b764f136644e9a2f": {
      "model_module": "jupyter-sankey-widget",
      "model_module_version": "^0.2.3",
      "model_name": "SankeyModel",
      "state": {
       "_model_module_version": "^0.2.3",
       "_view_module_version": "^0.2.3",
       "layout": "IPY_MODEL_8beda87a3f0e499dbdcce88fd4464b6b",
       "links": [
        {
         "source": "A1",
         "target": "B",
         "type": "x",
         "value": 1.5
        },
        {
         "source": "A1",
         "target": "B",
         "type": "y",
         "value": 0.5
        },
        {
         "source": "A2",
         "target": "B",
         "type": "x",
         "value": 0.5
        },
        {
         "source": "A2",
         "target": "B",
         "type": "y",
         "value": 1.5
        },
        {
         "source": "B",
         "target": "C",
         "type": "x",
         "value": 2
        },
        {
         "source": "B",
         "target": "C",
         "type": "y",
         "value": 2
        }
       ],
       "margins": {
        "bottom": 0,
        "left": 30,
        "right": 60,
        "top": 10
       },
       "nodes": [
        {
         "id": "C"
        },
        {
         "id": "B"
        },
        {
         "id": "A2"
        },
        {
         "id": "A1"
        }
       ],
       "order": [],
       "png": "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",
       "scale": 23.75,
       "svg": "<?xml version=\"1.0\" standalone=\"no\"?><!DOCTYPE svg PUBLIC \"-//W3C//DTD SVG 1.1//EN\" \"http://www.w3.org/Graphics/SVG/1.1/DTD/svg11.dtd\"><svg xmlns=\"http://www.w3.org/2000/svg\" width=\"300\" height=\"200\" viewBox=\"0 0 300 200\" style=\"font-family: &quot;Helvetica Neue&quot;,Helvetica,Arial,sans-serif;\"><g class=\"sankey\" transform=\"translate(30,10)\"><g class=\"groups\"/><g class=\"links\"><g class=\"link\" style=\"opacity: 0.8;\"><path d=\"M1,54.625 A66.59276315789472 66.59276315789472 0.3513440587931185 0 1 23.918569997194467,58.69308599529628 L77.49452917739026,78.33148200724176 A78.46776315789472 78.46776315789472 0.3513440587931185 0 0 104.5,83.125 L104.5,95 A90.34276315789472 90.34276315789472 0.3513440587931185 0 1 73.40762835197498,89.48105000977978 L19.831669171779183,69.8426539978343 A54.71776315789473 54.71776315789473 0.3513440587931185 0 0 1,66.5 Z\" style=\"fill: rgb(255, 127, 14);\"/><title>A1 → B\ny\n500m</title></g><g class=\"link\" style=\"opacity: 0.8;\"><path d=\"M1,123.5 A54.71776315789473 54.71776315789473 0.3513440587931185 0 0 19.831669171779183,120.1573460021657 L73.40762835197498,100.51894999022022 A90.34276315789472 90.34276315789472 0.3513440587931185 0 1 104.5,95 L104.5,106.875 A78.46776315789472 78.46776315789472 0.3513440587931185 0 0 77.49452917739026,111.66851799275824 L23.918569997194467,131.3069140047037 A66.59276315789472 66.59276315789472 0.3513440587931185 0 1 1,135.375 Z\" style=\"fill: rgb(174, 199, 232);\"/><title>A2 → B\nx\n500m</title></g><g class=\"link\" style=\"opacity: 0.8;\"><path d=\"M1,19 A102.21776315789472 102.21776315789472 0.3513440587931185 0 1 36.17927247344031,25.24438198768219 L89.7552316536361,44.88277799962765 A42.84276315789473 42.84276315789473 0.3513440587931185 0 0 104.5,47.5 L104.5,83.125 A78.46776315789472 78.46776315789472 0.3513440587931185 0 1 77.49452917739025,78.33148200724175 L23.918569997194467,58.693085995296286 A66.59276315789472 66.59276315789472 0.3513440587931185 0 0 1,54.625 Z\" style=\"fill: rgb(174, 199, 232);\"/><title>A1 → B\nx\n1.50</title></g><g class=\"link\" style=\"opacity: 0.8;\"><path d=\"M1,135.375 A66.59276315789472 66.59276315789472 0.3513440587931185 0 0 23.918569997194467,131.3069140047037 L77.49452917739025,111.66851799275827 A78.46776315789472 78.46776315789472 0.3513440587931185 0 1 104.5,106.875 L104.5,142.5 A42.84276315789473 42.84276315789473 0.3513440587931185 0 0 89.7552316536361,145.11722200037235 L36.17927247344031,164.7556180123178 A102.21776315789472 102.21776315789472 0.3513440587931185 0 1 1,171 Z\" style=\"fill: rgb(255, 127, 14);\"/><title>A2 → B\ny\n1.50</title></g><g class=\"link\" style=\"opacity: 0.8;\"><path d=\"M105.5,47.5 A0 0 0 0 0 105.5,47.5 L209,47.5 A0 0 0 0 0 209,47.5 L209,95 A0 0 0 0 0 209,95 L105.5,95 A0 0 0 0 0 105.5,95 Z\" style=\"fill: rgb(174, 199, 232);\"/><title>B → C\nx\n2.00</title></g><g class=\"link\" style=\"opacity: 0.8;\"><path d=\"M105.5,95 A0 0 0 0 0 105.5,95 L209,95 A0 0 0 0 0 209,95 L209,142.5 A0 0 0 0 0 209,142.5 L105.5,142.5 A0 0 0 0 0 105.5,142.5 Z\" style=\"fill: rgb(255, 127, 14);\"/><title>B → C\ny\n2.00</title></g></g><g class=\"nodes\"><g class=\"node\" transform=\"translate(209,47.5)\"><title>C</title><text dy=\".35em\" text-anchor=\"start\" transform=\"translate(4,47.5)\" style=\"display: inline;\">C</text><line x1=\"0\" x2=\"0\" y1=\"0\" y2=\"95\" style=\"display: inline; stroke: rgb(0, 0, 0);\"/><rect x=\"-5\" y=\"-5\" width=\"10\" style=\"fill: none; visibility: hidden; pointer-events: all;\" height=\"100\"/></g><g class=\"node\" transform=\"translate(104.5,47.5)\"><title>B</title><text dy=\".35em\" text-anchor=\"start\" transform=\"translate(-4,-10)\" style=\"display: inline;\">B</text><line x1=\"0\" x2=\"0\" y1=\"-5\" y2=\"95\" style=\"display: inline; stroke: rgb(0, 0, 0);\"/><rect x=\"-5\" y=\"-5\" width=\"10\" style=\"fill: none; visibility: hidden; pointer-events: all;\" height=\"100\"/></g><g class=\"node\" transform=\"translate(0,123.5)\"><title>A2</title><text dy=\".35em\" text-anchor=\"end\" transform=\"translate(-4,23.75)\" style=\"display: inline;\">A2</text><line x1=\"0\" x2=\"0\" y1=\"0\" y2=\"47.5\" style=\"display: inline; stroke: rgb(0, 0, 0);\"/><rect x=\"-5\" y=\"-5\" width=\"10\" style=\"fill: none; visibility: hidden; pointer-events: all;\" height=\"52.5\"/></g><g class=\"node\" transform=\"translate(0,19)\"><title>A1</title><text dy=\".35em\" text-anchor=\"end\" transform=\"translate(-4,23.75)\" style=\"display: inline;\">A1</text><line x1=\"0\" x2=\"0\" y1=\"0\" y2=\"47.5\" style=\"display: inline; stroke: rgb(0, 0, 0);\"/><rect x=\"-5\" y=\"-5\" width=\"10\" style=\"fill: none; visibility: hidden; pointer-events: all;\" height=\"52.5\"/></g></g><g class=\"slice-titles\"/></g></svg>"
      }
     },
     "9486f29d39c0428caffea99a92344d2e": {
      "model_module": "jupyter-sankey-widget",
      "model_module_version": "^0.2.3",
      "model_name": "SankeyModel",
      "state": {
       "_model_module_version": "^0.2.3",
       "_view_module_version": "^0.2.3",
       "groups": [
        {
         "id": "G",
         "nodes": [
          "C",
          "D"
         ],
         "rect": {
          "bottom": 153,
          "left": 209,
          "right": 210,
          "top": 17
         },
         "title": "Group"
        }
       ],
       "layout": "IPY_MODEL_8beda87a3f0e499dbdcce88fd4464b6b",
       "links": [
        {
         "source": "A",
         "target": "B",
         "type": "x",
         "value": 3
        },
        {
         "source": "B",
         "target": "C",
         "type": "y",
         "value": 2
        },
        {
         "source": "B",
         "target": "D",
         "type": "z",
         "value": 1
        }
       ],
       "margins": {
        "bottom": 0,
        "left": 30,
        "right": 60,
        "top": 30
       },
       "nodes": [
        {
         "id": "A"
        },
        {
         "id": "C"
        },
        {
         "id": "B"
        },
        {
         "id": "D"
        }
       ],
       "order": [],
       "png": "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",
       "scale": 28.333333333333332,
       "svg": "<?xml version=\"1.0\" standalone=\"no\"?><!DOCTYPE svg PUBLIC \"-//W3C//DTD SVG 1.1//EN\" \"http://www.w3.org/Graphics/SVG/1.1/DTD/svg11.dtd\"><svg xmlns=\"http://www.w3.org/2000/svg\" width=\"300\" height=\"200\" viewBox=\"0 0 300 200\" style=\"font-family: &quot;Helvetica Neue&quot;,Helvetica,Arial,sans-serif;\"><g class=\"sankey\" transform=\"translate(30,30)\"><g class=\"groups\"><g class=\"group\" style=\"display: inline;\" transform=\"translate(209,17)\"><rect x=\"-10\" y=\"-20\" width=\"21\" height=\"166\" style=\"fill: rgb(238, 238, 238); stroke: rgb(187, 187, 187); stroke-width: 0.5;\"/><text x=\"-10\" y=\"-25\" style=\"fill: rgb(153, 153, 153);\">Group</text></g></g><g class=\"links\"><g class=\"link\" style=\"opacity: 0.8;\"><path d=\"M105.5,99.16666666666666 A81.00490196078435 81.00490196078435 0.29620623177416605 0 1 129.1448256934126,102.69436966153317 L193.62549760510024,122.37285918225874 A52.671568627451016 52.671568627451016 0.29620623177416605 0 0 209,124.66666666666664 L209,152.99999999999997 A81.00490196078435 81.00490196078435 0.29620623177416605 0 1 185.3551743065874,149.47229700513347 L120.87450239489976,129.7938074844079 A52.671568627451016 52.671568627451016 0.29620623177416605 0 0 105.5,127.5 Z\" style=\"fill: rgb(255, 187, 120);\"/><title>B → D\nz\n1.00</title></g><g class=\"link\" style=\"opacity: 0.8;\"><path d=\"M105.5,42.5 A38.50490196078431 38.50490196078431 0.2962062317741663 0 0 116.73934074564335,40.8231402708214 L181.22001265733095,21.144650750095824 A95.17156862745097 95.17156862745097 0.2962062317741663 0 1 209,16.999999999999996 L209,73.66666666666666 A38.50490196078431 38.50490196078431 0.2962062317741663 0 0 197.76065925435668,75.34352639584527 L133.27998734266905,95.02201591657084 A95.17156862745097 95.17156862745097 0.2962062317741663 0 1 105.5,99.16666666666666 Z\" style=\"fill: rgb(255, 127, 14);\"/><title>B → C\ny\n2.00</title></g><g class=\"link\" style=\"opacity: 0.8;\"><path d=\"M1,42.5 A0 0 0 0 0 1,42.5 L104.5,42.5 A0 0 0 0 0 104.5,42.5 L104.5,127.5 A0 0 0 0 0 104.5,127.5 L1,127.5 A0 0 0 0 0 1,127.5 Z\" style=\"fill: rgb(174, 199, 232);\"/><title>A → B\nx\n3.00</title></g></g><g class=\"nodes\"><g class=\"node\" transform=\"translate(0,42.5)\"><title>A</title><text dy=\".35em\" text-anchor=\"end\" transform=\"translate(-4,42.5)\" style=\"display: inline;\">A</text><line x1=\"0\" x2=\"0\" y1=\"0\" y2=\"85\" style=\"display: inline; stroke: rgb(0, 0, 0);\"/><rect x=\"-5\" y=\"-5\" width=\"10\" style=\"fill: none; visibility: hidden; pointer-events: all;\" height=\"90\"/></g><g class=\"node\" transform=\"translate(209,17)\"><title>C</title><text dy=\".35em\" text-anchor=\"start\" transform=\"translate(4,28.33333333333333)\" style=\"display: inline;\">C</text><line x1=\"0\" x2=\"0\" y1=\"0\" y2=\"56.66666666666666\" style=\"display: inline; stroke: rgb(0, 0, 0);\"/><rect x=\"-5\" y=\"-5\" width=\"10\" style=\"fill: none; visibility: hidden; pointer-events: all;\" height=\"61.66666666666666\"/></g><g class=\"node\" transform=\"translate(104.5,42.5)\"><title>B</title><text dy=\".35em\" text-anchor=\"start\" transform=\"translate(-4,-10)\" style=\"display: inline;\">B</text><line x1=\"0\" x2=\"0\" y1=\"-5\" y2=\"85\" style=\"display: inline; stroke: rgb(0, 0, 0);\"/><rect x=\"-5\" y=\"-5\" width=\"10\" style=\"fill: none; visibility: hidden; pointer-events: all;\" height=\"90\"/></g><g class=\"node\" transform=\"translate(209,124.66666666666666)\"><title>D</title><text dy=\".35em\" text-anchor=\"start\" transform=\"translate(4,14.166666666666671)\" style=\"display: inline;\">D</text><line x1=\"0\" x2=\"0\" y1=\"0\" y2=\"28.333333333333343\" style=\"display: inline; stroke: rgb(0, 0, 0);\"/><rect x=\"-5\" y=\"-5\" width=\"10\" style=\"fill: none; visibility: hidden; pointer-events: all;\" height=\"33.33333333333334\"/></g></g><g class=\"slice-titles\"/></g></svg>"
      }
     },
     "a485da10aae64b3bb0212538d0638d63": {
      "model_module": "jupyter-sankey-widget",
      "model_module_version": "^0.2.3",
      "model_name": "SankeyModel",
      "state": {
       "_model_module_version": "^0.2.3",
       "_view_module_version": "^0.2.3",
       "align_link_types": true,
       "layout": "IPY_MODEL_8beda87a3f0e499dbdcce88fd4464b6b",
       "links": [
        {
         "source": "A1",
         "target": "B",
         "type": "x",
         "value": 1.5
        },
        {
         "source": "A1",
         "target": "B",
         "type": "y",
         "value": 0.5
        },
        {
         "source": "A2",
         "target": "B",
         "type": "x",
         "value": 0.5
        },
        {
         "source": "A2",
         "target": "B",
         "type": "y",
         "value": 1.5
        },
        {
         "source": "B",
         "target": "C",
         "type": "x",
         "value": 2
        },
        {
         "source": "B",
         "target": "C",
         "type": "y",
         "value": 2
        }
       ],
       "margins": {
        "bottom": 0,
        "left": 30,
        "right": 60,
        "top": 10
       },
       "nodes": [
        {
         "id": "C"
        },
        {
         "id": "B"
        },
        {
         "id": "A2"
        },
        {
         "id": "A1"
        }
       ],
       "order": [
        [
         "A2",
         "A1"
        ],
        [
         "B"
        ],
        [
         "C"
        ]
       ],
       "png": "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",
       "scale": 23.75,
       "svg": "<?xml version=\"1.0\" standalone=\"no\"?><!DOCTYPE svg PUBLIC \"-//W3C//DTD SVG 1.1//EN\" \"http://www.w3.org/Graphics/SVG/1.1/DTD/svg11.dtd\"><svg xmlns=\"http://www.w3.org/2000/svg\" width=\"300\" height=\"200\" viewBox=\"0 0 300 200\" style=\"font-family: &quot;Helvetica Neue&quot;,Helvetica,Arial,sans-serif;\"><g class=\"sankey\" transform=\"translate(30,10)\"><g class=\"groups\"/><g class=\"links\"><g class=\"link\" style=\"opacity: 0.8;\"><path d=\"M1,159.125 A54.71776315789473 54.71776315789473 0.32954890555438254 0 0 18.707556828742305,156.18055078046856 L82.94950030945732,134.2084617168267 A66.59276315789472 66.59276315789472 0.32954890555438254 0 1 104.5,130.625 L104.5,142.5 A54.71776315789473 54.71776315789473 0.32954890555438254 0 0 86.79244317125769,145.44444921953144 L22.550499690542672,167.4165382831733 A66.59276315789472 66.59276315789472 0.32954890555438254 0 1 1,171 Z\" style=\"fill: rgb(255, 127, 14);\"/><title>A1 → B\ny\n500m</title></g><g class=\"link\" style=\"opacity: 0.8;\"><path d=\"M1,19 A66.59276315789472 66.59276315789472 0.32954890555438254 0 1 22.550499690542672,22.58346171682667 L86.79244317125769,44.55555078046857 A54.71776315789473 54.71776315789473 0.32954890555438254 0 0 104.5,47.5 L104.5,59.375 A66.59276315789472 66.59276315789472 0.32954890555438254 0 1 82.94950030945732,55.79153828317333 L18.707556828742305,33.81944921953143 A54.71776315789473 54.71776315789473 0.32954890555438254 0 0 1,30.875 Z\" style=\"fill: rgb(174, 199, 232);\"/><title>A2 → B\nx\n500m</title></g><g class=\"link\" style=\"opacity: 0.8;\"><path d=\"M1,123.5 A16.864144736842107 16.864144736842107 0.6826957418241317 0 0 11.639367522880834,119.72032072485055 L71.38528766021952,71.13913839112436 A52.48914473684211 52.48914473684211 0.6826957418241317 0 1 104.5,59.375 L104.5,95 A16.864144736842107 16.864144736842107 0.6826957418241317 0 0 93.86063247711917,98.77967927514945 L34.11471233978048,147.36086160887564 A52.48914473684211 52.48914473684211 0.6826957418241317 0 1 1,159.125 Z\" style=\"fill: rgb(174, 199, 232);\"/><title>A1 → B\nx\n1.50</title></g><g class=\"link\" style=\"opacity: 0.8;\"><path d=\"M1,30.875 A52.48914473684211 52.48914473684211 0.6826957418241317 0 1 34.11471233978048,42.63913839112437 L93.86063247711917,91.22032072485055 A16.864144736842107 16.864144736842107 0.6826957418241317 0 0 104.5,95 L104.5,130.625 A52.48914473684211 52.48914473684211 0.6826957418241317 0 1 71.38528766021952,118.86086160887564 L11.639367522880834,70.27967927514945 A16.864144736842107 16.864144736842107 0.6826957418241317 0 0 1,66.5 Z\" style=\"fill: rgb(255, 127, 14);\"/><title>A2 → B\ny\n1.50</title></g><g class=\"link\" style=\"opacity: 0.8;\"><path d=\"M104.5,47.5 A0 0 0 0 0 104.5,47.5 L209,47.5 A0 0 0 0 0 209,47.5 L209,95 A0 0 0 0 0 209,95 L104.5,95 A0 0 0 0 0 104.5,95 Z\" style=\"fill: rgb(174, 199, 232);\"/><title>B → C\nx\n2.00</title></g><g class=\"link\" style=\"opacity: 0.8;\"><path d=\"M104.5,95 A0 0 0 0 0 104.5,95 L209,95 A0 0 0 0 0 209,95 L209,142.5 A0 0 0 0 0 209,142.5 L104.5,142.5 A0 0 0 0 0 104.5,142.5 Z\" style=\"fill: rgb(255, 127, 14);\"/><title>B → C\ny\n2.00</title></g></g><g class=\"nodes\"><g class=\"node\" transform=\"translate(209,47.5)\"><title>C</title><text dy=\".35em\" text-anchor=\"start\" transform=\"translate(4,47.5)\" style=\"display: inline;\">C</text><line x1=\"0\" x2=\"0\" y1=\"0\" y2=\"95\" style=\"display: inline; stroke: rgb(0, 0, 0);\"/><rect x=\"-5\" y=\"-5\" width=\"10\" style=\"fill: none; visibility: hidden; pointer-events: all;\" height=\"100\"/></g><g class=\"node\" transform=\"translate(104.5,47.5)\"><title>B</title><text dy=\".35em\" text-anchor=\"start\" transform=\"translate(-4,-10)\" style=\"display: inline;\">B</text><line x1=\"0\" x2=\"0\" y1=\"-5\" y2=\"95\" style=\"display: inline; stroke: rgb(0, 0, 0);\"/><rect x=\"-5\" y=\"-5\" width=\"10\" style=\"fill: none; visibility: hidden; pointer-events: all;\" height=\"100\"/></g><g class=\"node\" transform=\"translate(0,19)\"><title>A2</title><text dy=\".35em\" text-anchor=\"end\" transform=\"translate(-4,23.75)\" style=\"display: inline;\">A2</text><line x1=\"0\" x2=\"0\" y1=\"0\" y2=\"47.5\" style=\"display: inline; stroke: rgb(0, 0, 0);\"/><rect x=\"-5\" y=\"-5\" width=\"10\" style=\"fill: none; visibility: hidden; pointer-events: all;\" height=\"52.5\"/></g><g class=\"node\" transform=\"translate(0,123.5)\"><title>A1</title><text dy=\".35em\" text-anchor=\"end\" transform=\"translate(-4,23.75)\" style=\"display: inline;\">A1</text><line x1=\"0\" x2=\"0\" y1=\"0\" y2=\"47.5\" style=\"display: inline; stroke: rgb(0, 0, 0);\"/><rect x=\"-5\" y=\"-5\" width=\"10\" style=\"fill: none; visibility: hidden; pointer-events: all;\" height=\"52.5\"/></g></g><g class=\"slice-titles\"/></g></svg>"
      }
     },
     "a6b4fbcc462f4fdaa3192efbc9799424": {
      "model_module": "jupyter-sankey-widget",
      "model_module_version": "^0.2.3",
      "model_name": "SankeyModel",
      "state": {
       "_model_module_version": "^0.2.3",
       "_view_module_version": "^0.2.3",
       "layout": "IPY_MODEL_8beda87a3f0e499dbdcce88fd4464b6b",
       "links": [
        {
         "color": "steelblue",
         "source": "A",
         "target": "B",
         "value": 3
        },
        {
         "color": "#aaa",
         "source": "B",
         "target": "C",
         "value": 2
        },
        {
         "color": "goldenrod",
         "source": "B",
         "target": "D",
         "value": 1
        }
       ],
       "margins": {
        "bottom": 0,
        "left": 30,
        "right": 60,
        "top": 10
       },
       "nodes": [
        {
         "id": "A"
        },
        {
         "id": "C"
        },
        {
         "id": "B"
        },
        {
         "id": "D"
        }
       ],
       "order": [],
       "png": "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",
       "scale": 31.666666666666668,
       "svg": "<?xml version=\"1.0\" standalone=\"no\"?><!DOCTYPE svg PUBLIC \"-//W3C//DTD SVG 1.1//EN\" \"http://www.w3.org/Graphics/SVG/1.1/DTD/svg11.dtd\"><svg xmlns=\"http://www.w3.org/2000/svg\" width=\"300\" height=\"200\" viewBox=\"0 0 300 200\" style=\"font-family: &quot;Helvetica Neue&quot;,Helvetica,Arial,sans-serif;\"><g class=\"sankey\" transform=\"translate(30,10)\"><g class=\"groups\"/><g class=\"links\"><g class=\"link\" style=\"opacity: 0.8;\"><path d=\"M105.5,110.83333333333334 A76.48859649122804 76.48859649122804 0.32954890555438254 0 1 130.2529520753763,114.9493054645727 L194.49489555609134,136.92139452821462 A44.82192982456137 44.82192982456137 0.32954890555438254 0 0 209,139.33333333333334 L209,171.00000000000003 A76.48859649122804 76.48859649122804 0.32954890555438254 0 1 184.24704792462367,166.88402786876063 L120.00510444390865,144.91193880511872 A44.82192982456137 44.82192982456137 0.32954890555438254 0 0 105.5,142.5 Z\" style=\"fill: rgb(218, 165, 32);\"/><title>B → D\n1.00</title></g><g class=\"link\" style=\"opacity: 0.8;\"><path d=\"M105.5,47.5 A28.988596491228062 28.988596491228062 0.32954890555438254 0 0 114.88118062817485,45.94007785794159 L179.12312410888984,23.96798879429969 A92.3219298245614 92.3219298245614 0.32954890555438254 0 1 209,19.000000000000004 L209,82.33333333333334 A28.988596491228062 28.988596491228062 0.32954890555438254 0 0 199.61881937182517,83.89325547539175 L135.37687589111016,105.86534453903366 A92.3219298245614 92.3219298245614 0.32954890555438254 0 1 105.5,110.83333333333334 Z\" style=\"fill: rgb(170, 170, 170);\"/><title>B → C\n2.00</title></g><g class=\"link\" style=\"opacity: 0.8;\"><path d=\"M1,47.5 A0 0 0 0 0 1,47.5 L104.5,47.5 A0 0 0 0 0 104.5,47.5 L104.5,142.5 A0 0 0 0 0 104.5,142.5 L1,142.5 A0 0 0 0 0 1,142.5 Z\" style=\"fill: rgb(70, 130, 180);\"/><title>A → B\n3.00</title></g></g><g class=\"nodes\"><g class=\"node\" transform=\"translate(0,47.5)\"><title>A</title><text dy=\".35em\" text-anchor=\"end\" transform=\"translate(-4,47.5)\" style=\"display: inline;\">A</text><line x1=\"0\" x2=\"0\" y1=\"0\" y2=\"95\" style=\"display: inline; stroke: rgb(0, 0, 0);\"/><rect x=\"-5\" y=\"-5\" width=\"10\" style=\"fill: none; visibility: hidden; pointer-events: all;\" height=\"100\"/></g><g class=\"node\" transform=\"translate(209,19)\"><title>C</title><text dy=\".35em\" text-anchor=\"start\" transform=\"translate(4,31.66666666666667)\" style=\"display: inline;\">C</text><line x1=\"0\" x2=\"0\" y1=\"0\" y2=\"63.33333333333334\" style=\"display: inline; stroke: rgb(0, 0, 0);\"/><rect x=\"-5\" y=\"-5\" width=\"10\" style=\"fill: none; visibility: hidden; pointer-events: all;\" height=\"68.33333333333334\"/></g><g class=\"node\" transform=\"translate(104.5,47.5)\"><title>B</title><text dy=\".35em\" text-anchor=\"start\" transform=\"translate(-4,-10)\" style=\"display: inline;\">B</text><line x1=\"0\" x2=\"0\" y1=\"-5\" y2=\"95\" style=\"display: inline; stroke: rgb(0, 0, 0);\"/><rect x=\"-5\" y=\"-5\" width=\"10\" style=\"fill: none; visibility: hidden; pointer-events: all;\" height=\"100\"/></g><g class=\"node\" transform=\"translate(209,139.33333333333334)\"><title>D</title><text dy=\".35em\" text-anchor=\"start\" transform=\"translate(4,15.833333333333329)\" style=\"display: inline;\">D</text><line x1=\"0\" x2=\"0\" y1=\"0\" y2=\"31.666666666666657\" style=\"display: inline; stroke: rgb(0, 0, 0);\"/><rect x=\"-5\" y=\"-5\" width=\"10\" style=\"fill: none; visibility: hidden; pointer-events: all;\" height=\"36.66666666666666\"/></g></g><g class=\"slice-titles\"/></g></svg>"
      }
     },
     "ac7a81e7f7154573a955a4bc7c17f84e": {
      "model_module": "jupyter-sankey-widget",
      "model_module_version": "^0.2.3",
      "model_name": "SankeyModel",
      "state": {
       "_model_module_version": "^0.2.3",
       "_view_module_version": "^0.2.3",
       "layout": "IPY_MODEL_8beda87a3f0e499dbdcce88fd4464b6b",
       "links": [
        {
         "source": "A",
         "target": "B",
         "value": 1
        },
        {
         "source": "B",
         "target": "C",
         "value": 1
        },
        {
         "source": "A",
         "target": "D",
         "value": 1
        }
       ],
       "margins": {
        "bottom": 0,
        "left": 30,
        "right": 60,
        "top": 10
       },
       "nodes": [
        {
         "id": "A"
        },
        {
         "id": "C"
        },
        {
         "id": "B"
        },
        {
         "id": "D"
        }
       ],
       "order": [],
       "png": "iVBORw0KGgoAAAANSUhEUgAAASwAAADICAYAAABS39xVAAASuElEQVR4nO3df4wc5X0G8AfHgPllDjjju9153yGhNE6B1I2JKCEJToCWJCAQOBQRSKCAof6R2r6d7+wBKZsGUpII5CiEOIXGpAkJXKjPO9931mdjOBOMwWAptM0/kSK1qtS0aqVWSdOmSdu4f8z68Jk7+3zczjuz+3ykR7J312L3/fFwtzszCxAREREREREREREREREREREREREREREREREREREREREV0OsA9h+SXwDYC+BSj8+LiOhNXgfwAwA3tfNJADUA/wDglwDe7u+pERFN9joAN8XtFyP7aWttvk+HiGh60xXWucgK67Z8nw4R0fReBzAGoK+d0wGc377tJ+3biIgKYao33Q9ktcfnRUT0Jq8DeBnA8oNyNYC/AEuLiApmuvewAECRfVpIRFQIhyushwD8L4Bj8ns6RETTm66wjm/f98N8nw4R0fReB/DXAG4/KHUA+5C9h3W9v6dGRDTZVJ8S/ieyU3Ou8/i8iIimtd/3EyAimikWFhGVBguLiEqDhUVE/oS17W8PaqPLbexuMpLcY8R91Yp7woo+ZSK31UTJNivu+TB2LwHYb+PWHVbcC0a0ZUW/ZyR53MTuYSsuNlF6SxClV1Sj0aVYNXKy79dGRCUVrG/+RhC3PhLEbq2J9BErqjZ2+44mAPZbcStn+ngjOpb9t9w6M+R+vzKk/b7HgYgKZuH6kdOroiusaCOM9MmjLaa5Kqxp4sLYPVCJ9Sqs33OC77EiIg8qw7qkXSbfsuJem6uS6kBhvRFxu22sf2aG0g9i+fh832NIRB0U1NILbax1K25HJwqq44U1ubx2GNG7qqu3nOF7XIlojlSjdKmNVfIqqdwKa1L0CwNxcq7vsSaiWRiIk3OtuHVWXJp3SfkprCxG3FcX17af53v8iegIgkjPMZGuNrHb6rOkfBbWRHFF+sjimmNxERVJdW0rsHHrDhsnz/gupyIV1oGEsXtgcW37mb7niahnLYpGBkyU3hJK8h3fhVT0wrKxyz5ZFLcSjZHjfM8dUU+ort5yRlBLb7TinvBdQqUrrDeKKx2su2W+55KoK/WtG+2rSmuFFX2sU8dJ9VRhHUhdG/3SPMX3/BKV36qRk00tvTo7P0/3et/c3VhYsdtnxe2w0rzc93QTlU9jfEF2zp5uDCN9xftm7oXCaieIdSMPPCU6ksbIcbbmLrOiXwxj95LvjdurhWVjty+UdFcg7lrfS4KoWJaPzw+i5JJQ3P1W9EXfG5WFdUhEHzPSrPheJkQeNeZVa3qRFb0vFN3lfVOysA6bMHYvWXGfAhrzfK8cotwMSvMCKzpsRXf63oQsrFlE9CkTjZ7tex0RdUxQa77bREnNiI5533AFCcpaWLHbF8bulUB0DVbuO9b32iKaE5VhXRKIftrG6nxvsCIGJS6sAzGx28rzEqm0TDR6thG9y4iO+t5MRQ+6oLBs7PZlB+5qHSv1RN/rj+iI+u8eGwwluc3G7mnvm6dEQbcUVjtGdCyopRf6Xo9Eb7K4tv1MK8nNVvTbvjdKWYMuK6wDCWP3QN+60T7fa5R63Kl1d5qpuRtC0W+U9fy9IgVdWlhZdGcQtz7ie81Sj+mX5imBuGttnG6ysb7qfyN0T9DVhZXFRPrIwHBrke91TN3s5u0nVYfTK424r4Sx66rz94oU9EBh2djts6Lft3Fyve9lTV0kWK9VU0uvNrF72PsC75GgVwrrQCK3uSqtwPdapxJaXNt+ZjVKrrRR8ic21sT7Yu7BoNcKK3b7QnF7Qklu4/cm0qEuAbA8EF1jRRu2rl+2kdtsRdVKstv3wmV6s7AmIvq9INJzfG8SKo77ADS8L0xm2qCXCyt2+6zoXituHda2jve9Wcg/FlbBg14vrAMR1Wo0utT3hiG/WFgFD1hYkxJG6b1YNXKy741DfrCwCh6wsN4ccTts1LzY9+ah/LGwCh6wsA4T/cKpdXea701E+WFhFTxgYR0+4p6vxHqV741E+WBhFTxgYc0skdu0KBoZ8L2hqLNYWAUPWFgzjyS7g1p6I7D/GN8bizqDhVXwgIV11AkjfXKgPnqW571FHcDCKnjAwppVsi/UTe5Eg6f3dBMWVsEDFtZbiol0S2VYl/jeaDQ3WFgFD1hYcxB91URJDY3xBb43HL01LKyCByysuYu4dLDulvnedDR7LKyCByysuU9dG/3SPMX35qOjx8IqeMDC6kzE7bDSvNz3BqSjw8IqeMDC6miCWDdWV285w/dGpJlhYRU8YGF1PKGkuwJx1/rejHRkLKyCByys/CL6mJFmxfempOmxsIqVZ23sRmzkNllxD9pY68f226+boeS9VvQ+E+mjJnJbC/A8uzz6Sd8bk6bGwvKXp43oXVb00rPq28462okzkftAEOvGAryOrkwY6ZO8nnzxsLDyjTOid5lo9Oy5mkAbNS82omMFeG1dGRPpal5PvjhYWJ2Ps+LWDYp7V8dmcdXIyWGU3luA19qdETcWRMl1LC7/WFidWuCSRtUN+tt5TmYlGnuPFW16f/3dGtHvG0nusaKXnr62tTDPuaUMC2vOojuNJPcYSS/wfT2mIHZr/Y9HL0SfW/iBm3YDuMXnfPcSFtZbSCjpLlvXRiV27wMa83xP5sGCSM+xok/5HqNuzykXXPOPABq+57tXsLCONqIvWtHPB7XR5cW/1lJjnhG9NRS3x/u4dWlYWPliYc0gobg9JnJfstK8HI2R43xP2tGqSiuwkdvsexy7MSysfLGwpkl2xUrdWI2bH8P6PSf4nqi5UJXWCivuBd9j201hYeWLhXVwRPeaSB81otd067cLDwy3FplIH/E+1l0SFla+WFjiXjOSPG7j5Pq+daN9vickL0HUvMKK7vQ+/iUPCytfPVxY+k1ba95UGdJ+35PgS780Twklud//XJQ3LKx89VRhhaLfNaK38gs3Jwtq6YVWXOp7fsoYFla+eqCw9BkbJ3dWNmw1vge70BrjC6y42Ip7zf+clScsrHx1aWFpEoiuqW5If9P3AJfN4po7z0S6xf8cliMsrHx1TWEZ0Zap6YbFNXee70Etvcb4fCNuVRi7V3zPa9HDwspX2QvrWRtrvVJv/Y7vgexGJho9O4z0yQLMc2HDwspX+QpL3POhuM8EtfTCop2/1532H2MludmK2+197gsYFla+ylFY4l4wkX7Oxtvej4+PvM33oPUiI82KFX3M+1ooWFhY+SpuYYnbbcU9GNZbH8bKfcf6HijKGNFrQtFd3tdHQcLCylehCisUfdlI+lAQNa9AY/MC34NDU6uu3nIGryfPwvLBe2GFsXvFiPtKJdarcPP2k3wPCM2crbnLbKzbfZcGC6v8NgPYD+CeIzzOU2HpqzZONwVRch0vNVtyq0ZOtqL3+S6OghbWPAC3A3gZwM8A/ALA3wKIAfBtjrYFAH4K4FcAfniEx+ZcWOmmoJbeeGrdndbxUaBcDdbdMiuqvgukQIU1D8AzyH5wGEdWUgJgFMCvAYwB4AdIAP4A2YB8BtlgnX+Yx3a4sPS5UJL7TaS/x1/3esDa1vGmphuyn6D9l4nnwtqAbP8NTXHfH7bvu7Nzk1EeDlmj9wH4JYDPH+axc1tYkuy2sf65iXR1JRp7Tx4vloqnMqxLrOj3fJeJx8I6BsBPAOw5zDD9FYAvdmgKSqMf2a+Ct7X/ngL4u8M8/i0VVvucs89WRVdUZNs7eSAnTVg+Pt/GrTtC0Zd9l4qHwvotZD9BSe7jXjJrAPw3gFPbf/8UsoH73Wke/0ZhiX7fituRvQ+RPBOK+7aR5HEj6UNWXGyi9JYg0o8O1t2ySqw2h9dCXWCgPnqWFf1L38WSc2Fdjmzfrch9wEtmL7JfCfvaOQvA/wD48jSPP2Jh2Vi/YCL3R5VYr6pGo0sXrh85PZdXQl3FxO4GK/qi74LJqbA+hKywbsh9oEvkHGSDNFX+CVN/IjG7XwlFX7SxftPWtRHU0hvNUPLeRV16DXSaO4uikQEbuU2+SyaHwnonsn03fJjhuAnZb0Q967MAfg7gwwCWH5QassG7dIp/M6dvupso2WZj3WhE7+IVFGg61Si50sb6nO+y6WBhHQPgnwH8oP3nQ50A4F+RHS/Zs34M4Kkpbj8RwH8BeHyK+zp+WIMR96dWmpfzsAY62Kl1d5oV96DvwulQYQHZQdv7MfVPUQ8D+D8A7+vcCBfb+5ANznXT3N8E8O8ADv0S0PwPHBX9BA8cpQNs1LzYiI75Lp4OFNaxAHYg25c7Adzbzu72bZ/LaYgL6VFkvw6eOM39tyAbpKsPud3fqTnivs5TcwgAsFJPNJLcU8bryR/h1Jz5yA4c/Rtkn97/DMAL4KeHs1aMk58jfYQnP1M1Gl1qYrfVdwnNYWHRHPNeWJPKS/RlE7uHs8vLjPPyMr1o5b5jA9FPW9G9vtcjC6t4ClVYk8IL+PW0INJzrOhT3tchC6tQiltYk8uLl0juSY15RvTWUNwe72uQhVUI5SisyeXFL6HoMVVpBTZym72vPRaWd+UrrMnh13z1kKq0VlhxLxRg3bGwPCl7YU2EX6TaGwaGW4tMpI/4Xm8sLD+6prAmh19V3+2CKL3Cxu5Z32uNhZWvLi2sSeX1jI2TOysbthrfg01zbKWeaMWtCyN9hYXVG3qgsN5IKPpdI3rromhkwPfA09ypSiswkT7Kwup+PVVYk6PftLXmTZUh7fc9CTQ3zFDy3ry/nZqFla8eLqx2xL2WXagwub5v3Wif7wmhty7P4mJh5YuFNam8dK+J9FEjeg14QcLSW1zbfl4oyf2dfI+LhZUvFtY0yRa5bqzGzY9h/Z4TfE8UzV519ZYzbJzcaURbLKxyY2HNpLxi95KJ3Jds3V2Gxsih1xSjEhmsu2Um0nvDSMdZWOXDwjraiL4Yxu6BIEouQWN8vu8JpNmzUfNiE+nq7D1MFlYZsLDeQkLRXVa0Ua3pRTyvsfyC9en5gbhrjTSH2l+WccQDU1lY+WJhzVl0p4nc3YPSvADYP9UXD1AZNcYX2Lp7R7WmFxnRa8J6erup6YZQ3GesuAcXXnTDTmRX9KUcsLA6EXFjJna1oNZ8t+8JJuomLKyOR10Q6x9XhnWJ78kmKjsWVp4RVSNulZH0At8TT1RGLCy/Bfa1MNLbq1G61PdCICoDFlax8qyN3dM2cpusuAetuPht/fbrvhcJUVGwsAoeZN8nSURgYRU+YGERTWBhFTxgYRFNYGEVPGBhEU1gYRU8YGERTWBhFTxgYRFNYGEVPGBhEU1gYRU8YGERTWBhFTxgYRFNYGEVPGBhEU1gYRU8YGERTWBhFTxgYRFNYGEVPGBhEU1gYRU8YGERTWBhFTxgYRFNYGEVPGBhEU1gYRU8YGERTWBhFTyYvrBc+76D81MAzwG4PI/FQ5S3SwAsD0TXWNGGjXWjjdxmK6pWkt2+NytzxML6FwC3t3MHsv8B/QjArwF8Mof1Q1Qcp69tLRysu2W27j5uRT/ve/P2YnD4wvrxFLcfD2APgP8AcGaHlgZRCTTGFwSRftRI+pDvjdwrwdEXFgBc0f536zuxDIjK5+btJ1WH0yuNuK+EsXvF98bu1mB2hXUMgF8CGOnE1BOVWr80TwnEXWvjdJON9VXfm7ybgtkVFgD8PYAX5nquibrKqXV3mqm5G0LRb1hxr/ne8GUPZl9YPwKwbc4nmKhbVYa030pysxX9tu+NX9ZgdoU1H8DPATzWiXkl6nr9d48NhpLcZmP3tO8SKFMwu8K6rP3vPt6JuSTqKbbu3mFE7zKRbvFdCEUPjr6wTgLwAwA/af+ZiOZKZUiXBKKftrE63+VQxGDmB47eDuBuZCX2KwBX5TF/RD0rWJ+eb6KkZkTHfBdFUYKjOzXn3wBsB/D+XCaMiDKDdbfMig5b0Z2+S6OghUVExdOYV63pRVb0vlB0l+8CYWER0cwsH58fRMklobj7reiLvsuEhUVEM9MYOc7W3WVW9Ith7F7yXSwsLCKamfZJ2UGsG8NIu+q8RrCwiLrYqpGTzZBeY8R91Yru9V04LCwimpG+daN97Wt5PVbW8xrBwiLqPdXVW84IRD9hxT3hu4RYWEQ0Y4uikQETpbeEknzHdyGxsIhoxqprW4EVt9LGyTO+y4mFRUQzFkR6TvsLOZq+i4qFRUQzNhAn55ooXW9EWywsIiqNapQuteJiK24HC4uISiOopRfaWOtWXC5XlAALi4jmQmVIl9i4dYeN3bc6dZwXWFhENNcWrh85vSq6on1i9py9aQ8WFhF1Wl9jvM8MpR8MRNfYON0026tLgIVFRD5UhrR/UNy7gtrochsn1weia0ykn7OiX7PinrCSPmUit9VEyTYr7vkwdi+BhUVERERERERERERERERERERERERERERERERERERERERERERERERERERERERERAQA/w9MpbkqUv2g2gAAAABJRU5ErkJggg==",
       "scale": 47.5,
       "svg": "<?xml version=\"1.0\" standalone=\"no\"?><!DOCTYPE svg PUBLIC \"-//W3C//DTD SVG 1.1//EN\" \"http://www.w3.org/Graphics/SVG/1.1/DTD/svg11.dtd\"><svg xmlns=\"http://www.w3.org/2000/svg\" width=\"300\" height=\"200\" viewBox=\"0 0 300 200\" style=\"font-family: &quot;Helvetica Neue&quot;,Helvetica,Arial,sans-serif;\"><g class=\"sankey\" transform=\"translate(30,10)\"><g class=\"groups\"/><g class=\"links\"><g class=\"link\" style=\"opacity: 0.8;\"><path d=\"M1,47.5 A36.90526315789473 36.90526315789473 0.32954890555438254 0 0 12.943142536041748,45.51406952641143 L77.18508601675677,23.541980462769526 A84.40526315789472 84.40526315789472 0.32954890555438254 0 1 104.5,19 L104.5,66.5 A36.90526315789473 36.90526315789473 0.32954890555438254 0 0 92.55685746395824,68.48593047358857 L28.31491398324323,90.45801953723047 A84.40526315789472 84.40526315789472 0.32954890555438254 0 1 1,95 Z\" style=\"fill: rgb(31, 119, 180);\"/><title>A → B\n1.00</title></g><g class=\"link\" style=\"opacity: 0.8;\"><path d=\"M105.5,19 A62.34037081339713 62.34037081339713 0.5746201801979326 0 1 139.38298958207187,29.011938292127525 L200.93402087437764,68.86661865533702 A14.84037081339713 14.84037081339713 0.5746201801979326 0 0 209,71.25 L209,118.75 A62.34037081339713 62.34037081339713 0.5746201801979326 0 1 175.11701041792813,108.73806170787248 L113.56597912562236,68.88338134466296 A14.84037081339713 14.84037081339713 0.5746201801979326 0 0 105.5,66.5 Z\" style=\"fill: rgb(31, 119, 180);\"/><title>B → C\n1.00</title></g><g class=\"link\" style=\"opacity: 0.8;\"><path d=\"M1,95 A84.40526315789472 84.40526315789472 0.32954890555438254 0 1 28.31491398324323,99.54198046276953 L92.55685746395824,121.51406952641142 A36.90526315789473 36.90526315789473 0.32954890555438254 0 0 104.5,123.5 L104.5,171 A84.40526315789472 84.40526315789472 0.32954890555438254 0 1 77.18508601675677,166.45801953723046 L12.943142536041748,144.48593047358858 A36.90526315789473 36.90526315789473 0.32954890555438254 0 0 1,142.5 Z\" style=\"fill: rgb(31, 119, 180);\"/><title>A → D\n1.00</title></g></g><g class=\"nodes\"><g class=\"node\" transform=\"translate(0,47.5)\"><title>A</title><text dy=\".35em\" text-anchor=\"end\" transform=\"translate(-4,47.5)\" style=\"display: inline;\">A</text><line x1=\"0\" x2=\"0\" y1=\"0\" y2=\"95\" style=\"display: inline; stroke: rgb(0, 0, 0);\"/><rect x=\"-5\" y=\"-5\" width=\"10\" style=\"fill: none; visibility: hidden; pointer-events: all;\" height=\"100\"/></g><g class=\"node\" transform=\"translate(209,71.25)\"><title>C</title><text dy=\".35em\" text-anchor=\"start\" transform=\"translate(4,23.75)\" style=\"display: inline;\">C</text><line x1=\"0\" x2=\"0\" y1=\"0\" y2=\"47.5\" style=\"display: inline; stroke: rgb(0, 0, 0);\"/><rect x=\"-5\" y=\"-5\" width=\"10\" style=\"fill: none; visibility: hidden; pointer-events: all;\" height=\"52.5\"/></g><g class=\"node\" transform=\"translate(104.5,19)\"><title>B</title><text dy=\".35em\" text-anchor=\"start\" transform=\"translate(-4,-10)\" style=\"display: inline;\">B</text><line x1=\"0\" x2=\"0\" y1=\"-5\" y2=\"47.5\" style=\"display: inline; stroke: rgb(0, 0, 0);\"/><rect x=\"-5\" y=\"-5\" width=\"10\" style=\"fill: none; visibility: hidden; pointer-events: all;\" height=\"52.5\"/></g><g class=\"node\" transform=\"translate(104.5,123.5)\"><title>D</title><text dy=\".35em\" text-anchor=\"start\" transform=\"translate(4,23.75)\" style=\"display: inline;\">D</text><line x1=\"0\" x2=\"0\" y1=\"0\" y2=\"47.5\" style=\"display: inline; stroke: rgb(0, 0, 0);\"/><rect x=\"-5\" y=\"-5\" width=\"10\" style=\"fill: none; visibility: hidden; pointer-events: all;\" height=\"52.5\"/></g></g><g class=\"slice-titles\"/></g></svg>"
      }
     },
     "badfd4f45a8d4bc48dccd4fd4569f324": {
      "model_module": "jupyter-sankey-widget",
      "model_module_version": "^0.2.3",
      "model_name": "SankeyModel",
      "state": {
       "_model_module_version": "^0.2.3",
       "_view_module_version": "^0.2.3",
       "layout": "IPY_MODEL_8beda87a3f0e499dbdcce88fd4464b6b",
       "links": [
        {
         "source": "A",
         "target": "B",
         "value": 1
        },
        {
         "source": "B",
         "target": "C",
         "value": 1
        },
        {
         "source": "A",
         "target": "D",
         "value": 1
        }
       ],
       "margins": {
        "bottom": 0,
        "left": 30,
        "right": 60,
        "top": 10
       },
       "nodes": [
        {
         "id": "A"
        },
        {
         "id": "C"
        },
        {
         "id": "B"
        },
        {
         "id": "D"
        }
       ],
       "order": [],
       "png": "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",
       "rank_sets": [
        {
         "nodes": [
          "C",
          "D"
         ],
         "type": "same"
        }
       ],
       "scale": 47.5,
       "svg": "<?xml version=\"1.0\" standalone=\"no\"?><!DOCTYPE svg PUBLIC \"-//W3C//DTD SVG 1.1//EN\" \"http://www.w3.org/Graphics/SVG/1.1/DTD/svg11.dtd\"><svg xmlns=\"http://www.w3.org/2000/svg\" width=\"300\" height=\"200\" viewBox=\"0 0 300 200\" style=\"font-family: &quot;Helvetica Neue&quot;,Helvetica,Arial,sans-serif;\"><g class=\"sankey\" transform=\"translate(30,10)\"><g class=\"groups\"/><g class=\"links\"><g class=\"link\" style=\"opacity: 0.8;\"><path d=\"M1,47.5 A36.90526315789473 36.90526315789473 0.32954890555438254 0 0 12.943142536041748,45.51406952641143 L77.18508601675677,23.541980462769526 A84.40526315789472 84.40526315789472 0.32954890555438254 0 1 104.5,19 L104.5,66.5 A36.90526315789473 36.90526315789473 0.32954890555438254 0 0 92.55685746395824,68.48593047358857 L28.31491398324323,90.45801953723047 A84.40526315789472 84.40526315789472 0.32954890555438254 0 1 1,95 Z\" style=\"fill: rgb(31, 119, 180);\"/><title>A → B\n1.00</title></g><g class=\"link\" style=\"opacity: 0.8;\"><path d=\"M105.5,19 A0 0 0 0 0 105.5,19 L209,19 A0 0 0 0 0 209,19 L209,66.5 A0 0 0 0 0 209,66.5 L105.5,66.5 A0 0 0 0 0 105.5,66.5 Z\" style=\"fill: rgb(31, 119, 180);\"/><title>B → C\n1.00</title></g><g class=\"link\" style=\"opacity: 0.8;\"><path d=\"M1,95 A84.40526315789472 84.40526315789472 0.32718715633242557 0 1 28.126220933482315,99.47769227887096 L93.13936140265774,121.54217882026293 A36.90526315789473 36.90526315789473 0.32718715633242557 0 0 105,123.5 L105,171 A84.40526315789472 84.40526315789472 0.32718715633242557 0 1 77.87377906651768,166.522307721129 L12.860638597342271,144.45782117973707 A36.90526315789473 36.90526315789473 0.32718715633242557 0 0 1,142.5 ZM105,123.5 A0 0 0 0 0 105,123.5 L209,123.5 A0 0 0 0 0 209,123.5 L209,171 A0 0 0 0 0 209,171 L105,171 A0 0 0 0 0 105,171 Z\" style=\"fill: rgb(31, 119, 180);\"/><title>A → D\n1.00</title></g></g><g class=\"nodes\"><g class=\"node\" transform=\"translate(0,47.5)\"><title>A</title><text dy=\".35em\" text-anchor=\"end\" transform=\"translate(-4,47.5)\" style=\"display: inline;\">A</text><line x1=\"0\" x2=\"0\" y1=\"0\" y2=\"95\" style=\"display: inline; stroke: rgb(0, 0, 0);\"/><rect x=\"-5\" y=\"-5\" width=\"10\" style=\"fill: none; visibility: hidden; pointer-events: all;\" height=\"100\"/></g><g class=\"node\" transform=\"translate(209,19)\"><title>C</title><text dy=\".35em\" text-anchor=\"start\" transform=\"translate(4,23.75)\" style=\"display: inline;\">C</text><line x1=\"0\" x2=\"0\" y1=\"0\" y2=\"47.5\" style=\"display: inline; stroke: rgb(0, 0, 0);\"/><rect x=\"-5\" y=\"-5\" width=\"10\" style=\"fill: none; visibility: hidden; pointer-events: all;\" height=\"52.5\"/></g><g class=\"node\" transform=\"translate(104.5,19)\"><title>B</title><text dy=\".35em\" text-anchor=\"start\" transform=\"translate(-4,-10)\" style=\"display: inline;\">B</text><line x1=\"0\" x2=\"0\" y1=\"-5\" y2=\"47.5\" style=\"display: inline; stroke: rgb(0, 0, 0);\"/><rect x=\"-5\" y=\"-5\" width=\"10\" style=\"fill: none; visibility: hidden; pointer-events: all;\" height=\"52.5\"/></g><g class=\"node\" transform=\"translate(209,123.5)\"><title>D</title><text dy=\".35em\" text-anchor=\"start\" transform=\"translate(4,23.75)\" style=\"display: inline;\">D</text><line x1=\"0\" x2=\"0\" y1=\"0\" y2=\"47.5\" style=\"display: inline; stroke: rgb(0, 0, 0);\"/><rect x=\"-5\" y=\"-5\" width=\"10\" style=\"fill: none; visibility: hidden; pointer-events: all;\" height=\"52.5\"/></g></g><g class=\"slice-titles\"/></g></svg>"
      }
     },
     "bc620e3a0a9c4e05bb5b62750526bd4b": {
      "model_module": "@jupyter-widgets/controls",
      "model_module_version": "1.0.0",
      "model_name": "ButtonModel",
      "state": {
       "description": "Swap",
       "layout": "IPY_MODEL_e501fe1cfd7f47549caa981c5d057459",
       "style": "IPY_MODEL_301854cc794347a1a4d4708dcfadf24f"
      }
     },
     "bff73e51bcc34580b3c8c8202d4fcfbb": {
      "model_module": "jupyter-sankey-widget",
      "model_module_version": "^0.2.3",
      "model_name": "SankeyModel",
      "state": {
       "_model_module_version": "^0.2.3",
       "_view_module_version": "^0.2.3",
       "layout": "IPY_MODEL_8beda87a3f0e499dbdcce88fd4464b6b",
       "links": [
        {
         "source": "A",
         "target": "B",
         "value": 1
        },
        {
         "source": "B",
         "target": "C",
         "value": 1
        },
        {
         "source": "A",
         "target": "D",
         "value": 1
        }
       ],
       "margins": {
        "bottom": 0,
        "left": 30,
        "right": 60,
        "top": 10
       },
       "nodes": [
        {
         "id": "A"
        },
        {
         "id": "C"
        },
        {
         "id": "B"
        },
        {
         "id": "D"
        }
       ],
       "order": [
        [
         "A"
        ],
        [
         "D",
         "B"
        ],
        [
         "C"
        ]
       ],
       "png": "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",
       "scale": 47.5,
       "svg": "<?xml version=\"1.0\" standalone=\"no\"?><!DOCTYPE svg PUBLIC \"-//W3C//DTD SVG 1.1//EN\" \"http://www.w3.org/Graphics/SVG/1.1/DTD/svg11.dtd\"><svg xmlns=\"http://www.w3.org/2000/svg\" width=\"300\" height=\"200\" viewBox=\"0 0 300 200\" style=\"font-family: &quot;Helvetica Neue&quot;,Helvetica,Arial,sans-serif;\"><g class=\"sankey\" transform=\"translate(30,10)\"><g class=\"groups\"/><g class=\"links\"><g class=\"link\" style=\"opacity: 0.8;\"><path d=\"M1,95 A84.40526315789472 84.40526315789472 0.32954890555438254 0 1 28.31491398324323,99.54198046276953 L92.55685746395824,121.51406952641142 A36.90526315789473 36.90526315789473 0.32954890555438254 0 0 104.5,123.5 L104.5,171 A84.40526315789472 84.40526315789472 0.32954890555438254 0 1 77.18508601675677,166.45801953723046 L12.943142536041748,144.48593047358858 A36.90526315789473 36.90526315789473 0.32954890555438254 0 0 1,142.5 Z\" style=\"fill: rgb(31, 119, 180);\"/><title>A → B\n1.00</title></g><g class=\"link\" style=\"opacity: 0.8;\"><path d=\"M105.5,123.5 A14.84037081339713 14.84037081339713 0.5746201801979326 0 0 113.56597912562236,121.11661865533705 L175.11701041792813,81.26193829212752 A62.34037081339713 62.34037081339713 0.5746201801979326 0 1 209,71.25 L209,118.75 A14.84037081339713 14.84037081339713 0.5746201801979326 0 0 200.93402087437764,121.13338134466298 L139.38298958207187,160.98806170787248 A62.34037081339713 62.34037081339713 0.5746201801979326 0 1 105.5,171 Z\" style=\"fill: rgb(31, 119, 180);\"/><title>B → C\n1.00</title></g><g class=\"link\" style=\"opacity: 0.8;\"><path d=\"M1,47.5 A36.90526315789473 36.90526315789473 0.32954890555438254 0 0 12.943142536041748,45.51406952641143 L77.18508601675677,23.541980462769526 A84.40526315789472 84.40526315789472 0.32954890555438254 0 1 104.5,19 L104.5,66.5 A36.90526315789473 36.90526315789473 0.32954890555438254 0 0 92.55685746395824,68.48593047358857 L28.31491398324323,90.45801953723047 A84.40526315789472 84.40526315789472 0.32954890555438254 0 1 1,95 Z\" style=\"fill: rgb(31, 119, 180);\"/><title>A → D\n1.00</title></g></g><g class=\"nodes\"><g class=\"node\" transform=\"translate(0,47.5)\"><title>A</title><text dy=\".35em\" text-anchor=\"end\" transform=\"translate(-4,47.5)\" style=\"display: inline;\">A</text><line x1=\"0\" x2=\"0\" y1=\"0\" y2=\"95\" style=\"display: inline; stroke: rgb(0, 0, 0);\"/><rect x=\"-5\" y=\"-5\" width=\"10\" style=\"fill: none; visibility: hidden; pointer-events: all;\" height=\"100\"/></g><g class=\"node\" transform=\"translate(209,71.25)\"><title>C</title><text dy=\".35em\" text-anchor=\"start\" transform=\"translate(4,23.75)\" style=\"display: inline;\">C</text><line x1=\"0\" x2=\"0\" y1=\"0\" y2=\"47.5\" style=\"display: inline; stroke: rgb(0, 0, 0);\"/><rect x=\"-5\" y=\"-5\" width=\"10\" style=\"fill: none; visibility: hidden; pointer-events: all;\" height=\"52.5\"/></g><g class=\"node\" transform=\"translate(104.5,123.5)\"><title>B</title><text dy=\".35em\" text-anchor=\"start\" transform=\"translate(-4,-10)\" style=\"display: inline;\">B</text><line x1=\"0\" x2=\"0\" y1=\"-5\" y2=\"47.5\" style=\"display: inline; stroke: rgb(0, 0, 0);\"/><rect x=\"-5\" y=\"-5\" width=\"10\" style=\"fill: none; visibility: hidden; pointer-events: all;\" height=\"52.5\"/></g><g class=\"node\" transform=\"translate(104.5,19)\"><title>D</title><text dy=\".35em\" text-anchor=\"start\" transform=\"translate(4,23.75)\" style=\"display: inline;\">D</text><line x1=\"0\" x2=\"0\" y1=\"0\" y2=\"47.5\" style=\"display: inline; stroke: rgb(0, 0, 0);\"/><rect x=\"-5\" y=\"-5\" width=\"10\" style=\"fill: none; visibility: hidden; pointer-events: all;\" height=\"52.5\"/></g></g><g class=\"slice-titles\"/></g></svg>"
      }
     },
     "cb9021b93b964503b489b2998a198938": {
      "model_module": "jupyter-sankey-widget",
      "model_module_version": "^0.2.3",
      "model_name": "SankeyModel",
      "state": {
       "_model_module_version": "^0.2.3",
       "_view_module_version": "^0.2.3",
       "layout": "IPY_MODEL_8beda87a3f0e499dbdcce88fd4464b6b",
       "links": [
        {
         "source": "A",
         "target": "B",
         "value": 1
        },
        {
         "source": "B",
         "target": "C",
         "value": 1
        },
        {
         "source": "C",
         "target": "D",
         "value": 1
        },
        {
         "source": "A",
         "target": "E",
         "value": 0.5
        }
       ],
       "margins": {
        "bottom": 0,
        "left": 30,
        "right": 60,
        "top": 10
       },
       "nodes": [
        {
         "direction": "r",
         "id": "C"
        },
        {
         "direction": "l",
         "id": "D"
        },
        {
         "id": "A"
        },
        {
         "id": "B"
        },
        {
         "id": "E"
        }
       ],
       "order": [],
       "png": "iVBORw0KGgoAAAANSUhEUgAAASwAAADICAYAAABS39xVAAAXYElEQVR4nO3da3Rc1XkG4E++AbaxZWJb0szZ+4QFKZA4KQGTEKBB3AIEAk4xhJsh3BwwMVjWnG9LQOOhOCUQCoQQ6twNoVwGgzyz94wtIMgF4xgjVtM06Z+mSRZpaKFr9RKSlKaA+mNkapsZxZrL+faceZ+13h94xFpnvrP3q9FczhABAAAAAAAAAAAAAAAAAAAAAAAAAAAAAAAAAAAAAAAAeOxGIhrbI28R0S+JaEDwuGB3RxHRQ0T0KyL6PRG9Ov7fSvKgAOI2RET/REQXj2cZEV1HRD+icnkdLXdoMO5mInqbiF4iojVE1EdE9xPRm1Q+d7PkDg0gXr8kou9U+PdPULmwzov3cGAPN1K5rFZVuG0Flc/RpbEeEYCQhVRe8FdXuC1D5d/gqViPCHa1iIj+l4hur3L7fCLaSkSfjeuAACSdQeXCOoGIOseTpvJv7P8iIpY7NCCi9UT0OhHNET4OAC+soXc/4b4zeSKaKndobW8KEf07ET0ifSAAvrBE9PdE1LtLziCir1G5tG4WOi4gOojK52Cl9IEA+OIVIlpX5bYfEtH2GI8FdncClQtr6QQ/s5rwogi0iRSVN8TyKrf/lMp/FoKMY6h8fq6rcvtp47efGdsRAQg6m8oL/sgKt11Af/i3OzTXLCJ6g8p/su+3x21/TET/SkSPx31QAFJuoXIprSCiK8ezkoi+R+X3/awXOzLYaeeLIv9IRF+k8qu2D1H5ne5P0ruLDCCxSvTuVwZ/R0SjRPQ5IuqQOzTYhSOi14jof6j8VpMtRHQJlV9FBGg7Y9IHABNaQ0RZ6YMA8AUKy28oLIBdoLD8hsIC2AUKy28oLEi2hdfnu1IDpQ+nTf4MbUpXabZrtCmu02ytNm501xDRmGa3fM9/R/zI/ouX/IqIstq4Uc3uGW2c02wf08ber427R2XsahXZz6S5dHTQZ9PSaw9gQinedEjA7k8120HNdv1kNwShsLzOboW1N2H7nIrsvYrtZUEm/yE6N4fPg4Kc+Tds7klzaak29rbx37h1bQhCYXmdSRdW5dyTMvZTlB3ZV3r9QhtYEOW6NbtLNdsHGr0hCIXldRpUWOVwYWvIbq2O8scSZfE+Lmig3pFpQZQ/TbP9ZjM3BKGwvE5DC2v3OG0K51E2N0N6qUMLm9OXOyBg+/lG/Lm3NyEUltdpYmGNxw5rYy/Bn4swKal+O18by6Fxz8e5IQiF5XWaX1jjYfeMiooXSO8D8NyCKNetuHCj1IYgFJbXia2wxhOyfTjoyx8svS/AM4rzKc12TWjcdskNQSgsrxN3YZVjd6iokKG+bbgaRLvr6S+GIRfWarYvSG8GbVBYvkemsHbGOhUNHSS9Z0BA0Jc/ePy9Uy9Kb4JdQygsryNbWG40ZLdN9btTpfcPxCTFmw5Rxt0pvfCrhVBYXke6sHZGRe4Gyo5Mk95P0CRdmeFFKrL3Si+0PxRCYXkdXwpLGzeq2a4/YGUJ35GYJIqLi7UprhNfXHsZQmF5Ha8Ky7hRFbmNC6Jct/Q+gzqljDtGGfdt6QU12RAKy+v4VljjeSqI7Puk9xzUIIgKxzfjM35xhVBYXsfTwhrVbJ8L2H5Eev/BXhnr0Bl3csj2YfGFU2cIheV1vC0s40ZD457vHtz4fundCFWNdQSmdHr5AmryC6YRIRSW1/G5sLRxo2FkR1LGaumdCbs6Nzc1xe4sxXZIeoE0OoTC8jq+F5Y2blRFhU2pfjtfeptC78i0NNullS4tnJQQCsvrtEJhaeNGNdvHcMUHKdncDGXc+YptSXwhNDmEwvI6LVNYxo2qyN4kvXXbS3ZkX82FZZrdk9InP64QCsvrtFJhaeNGVX/x49LbOPmW25khF67Qxj4tfcLjDqGwvE6rFZZm90znqqFO6S2dSAtW5GYrtleHbLeIn2ihEArL67RcYRk3qgfsV6T3dqJ0Zkc6A+NWarbPip9c4RAKy+u0ZGEZN6o5f4r0Pm95c/pyB6iMXa25sFX8hHoSQmF5nVYtLMV2M60s7SO951tSV2Z4oWZnQnbbpE+kbyEUltdp1cLSxo1qdquk935LUZxPhVHxpjCyopch9jmEwvI6rV1Y9oWe/mIo3QPeS3Mp0Mbd7MtliH0OobC8TksXlnGjmu3t0n3grTAzfKA29lZt7A7xE9UiIRSW12n5wjJ2h+J8SrobvJLiTYeoyN7h2/XSWyGEwvI6rV9YblQZl5HuCC/0sDtMG3u39Alp5RAKy+skobA0F7a29VeGpaLNR6jI3id+IhIQQmF5nUQUlnGjmgvLpHsjdkGm+FHN9pviw09QCIXldZJSWIrtkHR/xEabTcdptuulh57EEArL6ySlsLRxoynedIh0lzRVyO6EkN2D0oNOcgiF5XWSVFiBsddLd0oTjHWofneqNu5R6QG3QwiF5XWSVFja2GHpdmmg7JR0VDhTsXtcfrDtE0JheZ1kFZYbTUdDh0s3TV0WrMjN1sZeoo110sNsxxAKy+skrbA0u+XSnTMpqX47v4fdYWm2S7Vx94gPsM1DKCyvk7jCMvYb0h00kbOJaIlmO6jZ4slzD0MoLK+TtMIKjdtOy0enC/dSVWsoQcNOYgiF5XWSVljauFHVXzhKuJeqQmF5HkJheZ0kFlYYucuFe6kqFJbnIRSW10liYWnjbhbupapQWJ6HUFheJ5GFxXa9bC1Vh8LyPITC8jpJLKyQi1tka6k6FJbnIRSW10liYWnjRueZp+YKd1NFKCzPothu1mwfUFy4S3Hhxunz9dd7BtyRmt1yxL/M673iy0TUO/7fibkAgK8fhEZhSYfts3rAZrXZdJz0YoD6BZF9nzZ2g/i6qjOKi4ulZ1kJCktqQURuY5pLSyk7sq/0IoDG6h4sLdDGfl96jdWTYMD2Ss+xEhRW7LEbgsh+kmisQ/rkQ/Mo486XX2u1Jz1YPFN6hpWgsOJLTvW7U1FU7SG1eqPyYM3VHBUVL5CeYSUorCYnZPuwzriTpU80xE967dW1biN7pfT8KkFhNStsHwwyQ73SJxjkiK/BOuLrx3NQWI0Ou/V4xQ8oO7Kv+Fqsbx1fKj3CSlBYDYoy7ttpLh0tfULBD+ULX8qvy1oTZIoXSs+wEhRW3bHf8PlyHCBj7oCbJ78260nhPOkZVoLCqjEqsvelos1HSJ9A8FP5vVjy67TWBBn7aekZVoLCmmxRsftqD7vDpE8c+E1xPiW9VutJythPSc+wEhTWXiYw9m5fP18F/kkZq6XXbF3rPSqeJj3DSlBYE4XdiyqydwR9+YOlTxS0FhUNHSS+fuvJgJ/vHURhVSkqze5LYWb4QOkTBK0p1W8PFV/HdcTX9xCisHaL3REa98We/mIofWKgtXVl3CL59VxHovyx0jOsBIVl3Khm+4I27uY0lwLpEwLJkI6Kh4uv6zoSZIoflZ5hJW1dWKFx23VU+ILifEr6RECyKC4ull7f9cTXt+y0ZWGFbH+gInfDgijXLX0CIJnSGfsx6XVeT4JM/kPSM6ykrQorZLdNszNdmeGF0oOHZFOR+xPp9V5PfH2vYXsUFrutKipk5vTlDpAeOLSHcKB0ovi6ryNBZN8nPcNKkl1YXNiq2a3qzI50Sg8a2ovqd6eKr/868t6BTe+VnmElySwsts8GbD9/wMrSHOkBQ3tKm/wZ4vugjki9Yn4aEY0R0d9VuT1RhRVycYuK3DULVuRmxzdigHdT/XaJ9H6oJxIvSE0loh8T0e+J6LdEVOla4okorDCyI9qUriIUFXgizXap9L6oJ+lrn3hP3DO7hoj+g4i+TOVHWekKP9PihWWfDiN3OS23M+McLMAf0urfmhP3Nz/PIaLXiKifiM6jcmH1Vvi5Vi2sp7Sxl+A7/cBX2riLPdgnNSfuBwG3E9FPiWgGER1F5cK6qsLPtVZhsdscsL2IVpb2iXGWAJOm2F4mvl/qKaxsbkZcszqQiN4gonPG/3s+lQvr9go/2xKFpdiWVMadH+cQAeqhTekq6X1TV2HF6DEi2kFEnbvkN0Q0VOFnPS8s69Jsl1LvyLT4xgdQP8Vuhfz+qXnf7YhrTsdS+dFUpfy4ws/7WVhs84rtEjo3NzWuwQE0UmDs9eL7qMaExj0fx4w6iOgFIrJUfoJ91xSJ6L+JaMoe/49XhaXYDpWvJZ3d8zgBWorifL/0fqq5sLi4JY4ZXUxEbxJRpeuO30LlR1l6j3/3pLAKGwJTOp1orNJ7xQBajjZ2QH5f1Rr7dLPnsx8RvUxE365y+1VULqyT9vh32cJi+5iK7CeaOBcAESqyN8kXT21RbDc3ez43UfmVwT0fQe10KpUL65o9/l2msNg+GA6UTmziPABE6QHrwV8utcY66flVE2thKS7+pTabjpO+0wDNFrJbK188te5TW+kdBV6IobDs3UGUP436tu0nfWcB4qKNvU26eGoO28ek51dNwwsrZLdNGXdnENlP0rLhWdJ3EECCMu5O8eKpeQ8XHpKeXzUNKCy7Q7N9MGB7XZpLR1P2u/h8H7Q9bdw90sVTxyOsB6TnV82kCyuM7F9rtlll3PnpaOhw/KkH8G6a7V+JF0+NUcZVe7eBuF0Kyw5rYzeEbL+jjbsnNO6L2tgBFdlrVb9dkhq0h0ofLECr0Gy/KV08tae4Tnp+1awhomxo3POaXTHkwkMqsvdpY2/V7Iw2pasCUzq9h91h+FMPYO9ptuvli6fGR1iRvVd6ftVM6k9CFRU26cit08YOqH67ZO6Amyd9BwB8pNk+KF08tSYw9m7p+VVT95PuIduHA7bXKS4upiyuqgBARKS5+Ih08dTxCOsO6flV09C3NYTGPa+NvS3NpaOl7xiAJG3sBuniqT32Vun5VdO0N46qyG3UXFiGr9qCdqTZ5uWLp+ZHWLdIz6+aWD6aE3JhbbcpfED6zgLERbEtSRdPzYkKX5CeXzXxfpYwsvd1ZYYXSd9pgGbT7J4UL55aw3ZQen7VCF2twX1dcXGx9J0HaJbyd2V6UD41JOBiJD2/akSvh6XYfQtP0EMSabbPSRdPHQ8oVknPrxo/rjjKdr02FpedgcQII7tdfF/VmIDt56XnV40fhfX/+V4QFY6XHgpAvTzYSzVHsb1aen7V+FZYo9qUL2+BK5JCKyt/Nld+L9W0/yJ3ufT8qvGysHbJo+VrvuPLKaCFZL+7rwd7p+aoqHiB9Air8b2wxoNv1YHWEbI7QX7P1J7yV+35qUUKa7z52Q6lB4tn4nsLwVvZ3AwVuY3Se6WuZNzJ0mOspqUK653gm6HBQ+mVpaC1r4NVTjpjPyY9y2pas7DeiXVptkupF1eJADHHd/ZefoeK7C3y+6ExCTL5D0kPtZoWL6xyFNuSiuxnaPnodOmBQttZs//iJa9I74FGpnuwtEB6qNUkorDeCbvNAduLaGVpH+nBQttIVGGF7LZJD3QiySqs/y+uJ7Wxl1B2BJd1hmZLVGFptg9KD3QiySysd2KfVmwvo+V2pvSgIbESVVghu7XSA51IwgtrPOye0aZ0Fa3IzZYeOCROsgorsldKD3Qi7VFYO08G2y2K7dULUFzQOIkqrCBT/Kj0QCdyNhEt0WzXK3aPa+Oekh5YLOHCVs1uVeeqoU7pEwAtLzGFFRq3vSVfaZ9/w+aeYMD2KnYrFLuvai5slR5mk07Q8ypjV+PryqAOiSksn7/xedLSUfFwxfZqbez90oNtRgIuRql+O196ztByklNY7FZID7MpFOdTIReu0MblpIfcyITstmljGcUFk5CcwuovHCU9zKbr4fxibYrrpIfd2OKyP9BsB7sywwul5wveS0RhhZEdkR5krLoyw4tUZO+VHnyDT+L2kN2fLYhy3dLzBW8lorBUVMhID1JED7vD9ID9ivQJaGjYvqAHbDbNpUB6vuCdRBRWatAeKj1IUSnedIgy7k7pE9HY2B0hF9b29BdD6fmCNxJQWIUN0kP0RtCXP1izvV2ze1H+xDSuuDS7L4WZ4QOl5wviWr+wuLBMeojeCTPDB2pjb9XG7hA/QQ070e5FFbkvB335g6XnC2Jau7DYbaW+bftJD9FbPf3FMOTCWs32BfGT1cAo4+5M8aZDpOcLsWv1wvL2S1O9ojif0gM2GxrXsl84WSX39LA7THq+EJsJC2veSZ/7ORGN7ZYpU9+eOmfhG3OPueCXigtiazU0bjveczhJC6JcdxgVb2rlb8qtFMXua12Z4UXS84Wmm7CwZi066VWaOv2tzhOu+MXO7H/00n+eNi/1OyIa2/+oT/9KbJ0O2Kz08FrWgqjYrbhwo3TRNDyRWxew/Yj0fKFpJiys6QsP/M30hQf+5l2/0FY//tLUOQvf6Ji+35tq9RMvSazN1OqNSnp4LS/Vb+drYzk07nnxsmlscmkuLcVVUBOnamGpzMZRmjr9rVmLTnq10u2zjzzrFSIa67707h/HvR59/jr6lpS+9on3KM73e1A0jQ3bZ0N2a1PszsJVIhKhamF1XXzHT4hobN5Jn/t5pdvnHnfRy0Q01nXxHT+JeQ3mKYtvmmqKuQNuXmDcygQ+4tq5eB4Jo+JNaS4t7coML6Jsbob0zGFSqhZW54lX/oKIxrouvaviI6jZR5z5L0Q0lr72wb+Nc82los1HCM8s+TpXDXUqdiuSem2u3UvM/Y021oVsH54yq/NH0rOHCVUtrJmH9b7WMW3GW9VeCZyROvTX0+alfhfr2sIT7fFasCI3W7G9OmS7RbxYYgiVXwoHf1UtrGnz9W+ndx30eqXbUtfc/0OaMvXt2UeeFd97uNgV8SZRKStys8OB4pXlL5iQLxYUVtuqWFgqM/QSTZn29qwPnlLxCfdZHzzl1Y5p+7yVvvaBH8axjkLjtncPbny/9LBguZ2p2F6mjX1aulxQWG2pYmF1XXTbPxDR2LxTrvnZnrfNO2XFz6ijY2zucRe+HNc6CiN3ufSgYFcrS/toLiwrf4mqfNGgsNpGxcLq7L38F0Q0NvvIs17Z+YbRucdd9PI++oP/SURjsz5wwmuxraPIrROeEVSVzc0IMsULFdvN0mWDwmoLFQtr5qEf/zfa4yM5HTNmvjmj55Bfv+eTq38a4xp6FN/H2QqWj05Xkf2MYluSLp0mF9YZtOdn1d6dA5o46Xbn84efXWd2BF9l11J6R6YFUeEcbazzYAE1o7DWENHviWigSq5r5njB18KyTyvOp6SHA7U6NzdV9dslmm1efjE1tLAsEb0YwwShMu8KK+TilvTq4h9JDwYaIjslPVg8U0X2CemF1aDCeoWI7o1hcFCZX4XFrpgyVksPBRpurCMwpdO1KWwQX2S1F1Zq/Pbriai7QuY0e4rgU2HZDXP6cni+MtnGOjTnT9FcfER+wU26sM6miZ9szzZ5eOBLYbF9gJYNz5IeBsQoHCidGHLhIfHFt/eFdQsRvU5Ep1UJnnRtPvHCUsZlaPnodOlBgJAgKhyvjfuedFntRWFtIqLnYhoLVCZXWGyf1lH+WOkBgCd0lD9Ws13vcWG9RkRfiWkcUJlMYUVuHa6nBhWluXC0YvctzworHL/ts7ENAiqJt7DYPaPYLpG+09ACFBcXa3Zf96Swzhm/7W4iWlUlM2MYS7uLrbAUuz+fZ56aK32HocV0ZYYXKXZfEy6sv6CJXyF8nYg6YhhHu4uhsAobeji/WPqOQosL+vIHa7aDmu2zAoUFfmhaYYVsH9YD7mSiMfzigQZabmfqAXeuNu5RFFbbaUJh2fuDqHC89B2DNpAaKH1YR4UvNOpKqITC8l2jCuspZVwGVwUFIdkpPQPuSGVcRhtX85UiCIXlu9oLi90z2thbtdl0nPSdANhN9+DG949fg/5Lk/kYEKGwfLf3hcXuGcXuDhUVL8DVFKDlBH02nTLumCBTvFCzW6XZZhUX7lLsvlW+moT9PqGwfFcurPKjJaeNy2l26xUX7lJRsS+ICuf0cH7xwuvzXdIHCgAAAAAAAAAAAAAAAAAAAAAAAAAAAAAAAAAAAAAAAAAAAAAAAAAAAAAAAADQ4v4P4bnSEj4MZ4cAAAAASUVORK5CYII=",
       "scale": 47.5,
       "svg": "<?xml version=\"1.0\" standalone=\"no\"?><!DOCTYPE svg PUBLIC \"-//W3C//DTD SVG 1.1//EN\" \"http://www.w3.org/Graphics/SVG/1.1/DTD/svg11.dtd\"><svg xmlns=\"http://www.w3.org/2000/svg\" width=\"300\" height=\"200\" viewBox=\"0 0 300 200\" style=\"font-family: &quot;Helvetica Neue&quot;,Helvetica,Arial,sans-serif;\"><g class=\"sankey\" transform=\"translate(30,10)\"><g class=\"groups\"/><g class=\"links\"><g class=\"link\" style=\"opacity: 0.8;\"><path d=\"M1,106.875 A57.72908281733746 57.72908281733746 0.45660987225145666 0 1 26.453204587300995,112.78920677610769 L89.51835635644656,143.76892404942438 A33.97908281733746 33.97908281733746 0.45660987225145666 0 0 104.5,147.25 L104.5,171 A57.72908281733746 57.72908281733746 0.45660987225145666 0 1 79.046795412699,165.0857932238923 L15.981643643553447,134.10607595057562 A33.97908281733746 33.97908281733746 0.45660987225145666 0 0 1,130.625 Z\" style=\"fill: rgb(31, 119, 180);\"/><title>A → E\n500m</title></g><g class=\"link\" style=\"opacity: 0.8;\"><path d=\"M1,59.375 A22.104082817337463 22.104082817337463 0.45660987225145666 0 0 10.745863171679673,57.110489462190415 L73.81101494082523,26.13077218887373 A69.60408281733746 69.60408281733746 0.45660987225145666 0 1 104.5,19 L104.5,66.5 A22.104082817337463 22.104082817337463 0.45660987225145666 0 0 94.75413682832033,68.76451053780958 L31.68898505917477,99.74422781112627 A69.60408281733746 69.60408281733746 0.45660987225145666 0 1 1,106.875 Z\" style=\"fill: rgb(31, 119, 180);\"/><title>A → B\n1.00</title></g><g class=\"link\" style=\"opacity: 0.8;\"><path d=\"M105.5,19 A0 0 0 0 0 105.5,19 L209,19 A0 0 0 0 0 209,19 L209,66.5 A0 0 0 0 0 209,66.5 L105.5,66.5 A0 0 0 0 0 105.5,66.5 Z\" style=\"fill: rgb(31, 119, 180);\"/><title>B → C\n1.00</title></g><g class=\"link\" style=\"opacity: 0.8;\"><path d=\"M210,19 A52.5 52.5 1.5920697128189578 0 1 262.48812082799594,72.61676852825524 L261.48812082799594,118.39364109254713 A52.5 52.5 1.5920697128189578 0 1 209,171 L209,123.5 A5 5 1.5920697128189578 0 0 213.99886865028535,117.38323147174476 L214.99886865028535,71.60635890745287 A5 5 1.5920697128189578 0 0 210,66.5 Z\" style=\"fill: rgb(31, 119, 180);\"/><title>C → D\n1.00</title></g></g><g class=\"nodes\"><g class=\"node\" transform=\"translate(209,19)\"><title>C</title><text dy=\".35em\" text-anchor=\"start\" transform=\"translate(-4,-10)\" style=\"display: inline;\">C</text><line x1=\"0\" x2=\"0\" y1=\"-5\" y2=\"47.5\" style=\"display: inline; stroke: rgb(0, 0, 0);\"/><rect x=\"-5\" y=\"-5\" width=\"10\" style=\"fill: none; visibility: hidden; pointer-events: all;\" height=\"52.5\"/></g><g class=\"node\" transform=\"translate(209,123.5)\"><title>D</title><text dy=\".35em\" text-anchor=\"start\" transform=\"translate(4,23.75)\" style=\"display: inline;\">D</text><line x1=\"0\" x2=\"0\" y1=\"0\" y2=\"47.5\" style=\"display: inline; stroke: rgb(0, 0, 0);\"/><rect x=\"-5\" y=\"-5\" width=\"10\" style=\"fill: none; visibility: hidden; pointer-events: all;\" height=\"52.5\"/></g><g class=\"node\" transform=\"translate(0,59.375)\"><title>A</title><text dy=\".35em\" text-anchor=\"end\" transform=\"translate(-4,35.625)\" style=\"display: inline;\">A</text><line x1=\"0\" x2=\"0\" y1=\"0\" y2=\"71.25\" style=\"display: inline; stroke: rgb(0, 0, 0);\"/><rect x=\"-5\" y=\"-5\" width=\"10\" style=\"fill: none; visibility: hidden; pointer-events: all;\" height=\"76.25\"/></g><g class=\"node\" transform=\"translate(104.5,19)\"><title>B</title><text dy=\".35em\" text-anchor=\"start\" transform=\"translate(-4,-10)\" style=\"display: inline;\">B</text><line x1=\"0\" x2=\"0\" y1=\"-5\" y2=\"47.5\" style=\"display: inline; stroke: rgb(0, 0, 0);\"/><rect x=\"-5\" y=\"-5\" width=\"10\" style=\"fill: none; visibility: hidden; pointer-events: all;\" height=\"52.5\"/></g><g class=\"node\" transform=\"translate(104.5,147.25)\"><title>E</title><text dy=\".35em\" text-anchor=\"start\" transform=\"translate(4,11.875)\" style=\"display: inline;\">E</text><line x1=\"0\" x2=\"0\" y1=\"0\" y2=\"23.75\" style=\"display: inline; stroke: rgb(0, 0, 0);\"/><rect x=\"-5\" y=\"-5\" width=\"10\" style=\"fill: none; visibility: hidden; pointer-events: all;\" height=\"28.75\"/></g></g><g class=\"slice-titles\"/></g></svg>"
      }
     },
     "dc87459ca4ee43f3bb3f22097ff6e6cb": {
      "model_module": "jupyter-sankey-widget",
      "model_module_version": "^0.2.3",
      "model_name": "SankeyModel",
      "state": {
       "_model_module_version": "^0.2.3",
       "_view_module_version": "^0.2.3",
       "layout": "IPY_MODEL_8beda87a3f0e499dbdcce88fd4464b6b",
       "links": [
        {
         "source": "A",
         "target": "B",
         "value": 1
        },
        {
         "source": "B",
         "target": "C",
         "value": 1
        },
        {
         "source": "A",
         "target": "D",
         "value": 1
        }
       ],
       "margins": {
        "bottom": 0,
        "left": 30,
        "right": 60,
        "top": 10
       },
       "nodes": [
        {
         "id": "A"
        },
        {
         "id": "C"
        },
        {
         "id": "B"
        },
        {
         "id": "D"
        }
       ],
       "order": [
        [
         "A"
        ],
        [
         "D",
         "B"
        ],
        [
         "C"
        ]
       ],
       "png": "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",
       "scale": 47.5,
       "svg": "<?xml version=\"1.0\" standalone=\"no\"?><!DOCTYPE svg PUBLIC \"-//W3C//DTD SVG 1.1//EN\" \"http://www.w3.org/Graphics/SVG/1.1/DTD/svg11.dtd\"><svg xmlns=\"http://www.w3.org/2000/svg\" width=\"300\" height=\"200\" viewBox=\"0 0 300 200\" style=\"font-family: &quot;Helvetica Neue&quot;,Helvetica,Arial,sans-serif;\"><g class=\"sankey\" transform=\"translate(30,10)\"><g class=\"groups\"/><g class=\"links\"><g class=\"link\" style=\"opacity: 0.8;\"><path d=\"M1,95 A84.40526315789472 84.40526315789472 0.32954890555438254 0 1 28.31491398324323,99.54198046276953 L92.55685746395824,121.51406952641142 A36.90526315789473 36.90526315789473 0.32954890555438254 0 0 104.5,123.5 L104.5,171 A84.40526315789472 84.40526315789472 0.32954890555438254 0 1 77.18508601675677,166.45801953723046 L12.943142536041748,144.48593047358858 A36.90526315789473 36.90526315789473 0.32954890555438254 0 0 1,142.5 Z\" style=\"fill: rgb(31, 119, 180);\"/><title>A → B\n1.00</title></g><g class=\"link\" style=\"opacity: 0.8;\"><path d=\"M105.5,123.5 A14.84037081339713 14.84037081339713 0.5746201801979326 0 0 113.56597912562236,121.11661865533705 L175.11701041792813,81.26193829212752 A62.34037081339713 62.34037081339713 0.5746201801979326 0 1 209,71.25 L209,118.75 A14.84037081339713 14.84037081339713 0.5746201801979326 0 0 200.93402087437764,121.13338134466298 L139.38298958207187,160.98806170787248 A62.34037081339713 62.34037081339713 0.5746201801979326 0 1 105.5,171 Z\" style=\"fill: rgb(31, 119, 180);\"/><title>B → C\n1.00</title></g><g class=\"link\" style=\"opacity: 0.8;\"><path d=\"M1,47.5 A36.90526315789473 36.90526315789473 0.32954890555438254 0 0 12.943142536041748,45.51406952641143 L77.18508601675677,23.541980462769526 A84.40526315789472 84.40526315789472 0.32954890555438254 0 1 104.5,19 L104.5,66.5 A36.90526315789473 36.90526315789473 0.32954890555438254 0 0 92.55685746395824,68.48593047358857 L28.31491398324323,90.45801953723047 A84.40526315789472 84.40526315789472 0.32954890555438254 0 1 1,95 Z\" style=\"fill: rgb(31, 119, 180);\"/><title>A → D\n1.00</title></g></g><g class=\"nodes\"><g class=\"node\" transform=\"translate(0,47.5)\"><title>A</title><text dy=\".35em\" text-anchor=\"end\" transform=\"translate(-4,47.5)\" style=\"display: inline;\">A</text><line x1=\"0\" x2=\"0\" y1=\"0\" y2=\"95\" style=\"display: inline; stroke: rgb(0, 0, 0);\"/><rect x=\"-5\" y=\"-5\" width=\"10\" style=\"fill: none; visibility: hidden; pointer-events: all;\" height=\"100\"/></g><g class=\"node\" transform=\"translate(209,71.25)\"><title>C</title><text dy=\".35em\" text-anchor=\"start\" transform=\"translate(4,23.75)\" style=\"display: inline;\">C</text><line x1=\"0\" x2=\"0\" y1=\"0\" y2=\"47.5\" style=\"display: inline; stroke: rgb(0, 0, 0);\"/><rect x=\"-5\" y=\"-5\" width=\"10\" style=\"fill: none; visibility: hidden; pointer-events: all;\" height=\"52.5\"/></g><g class=\"node\" transform=\"translate(104.5,123.5)\"><title>B</title><text dy=\".35em\" text-anchor=\"start\" transform=\"translate(-4,-10)\" style=\"display: inline;\">B</text><line x1=\"0\" x2=\"0\" y1=\"-5\" y2=\"47.5\" style=\"display: inline; stroke: rgb(0, 0, 0);\"/><rect x=\"-5\" y=\"-5\" width=\"10\" style=\"fill: none; visibility: hidden; pointer-events: all;\" height=\"52.5\"/></g><g class=\"node\" transform=\"translate(104.5,19)\"><title>D</title><text dy=\".35em\" text-anchor=\"start\" transform=\"translate(4,23.75)\" style=\"display: inline;\">D</text><line x1=\"0\" x2=\"0\" y1=\"0\" y2=\"47.5\" style=\"display: inline; stroke: rgb(0, 0, 0);\"/><rect x=\"-5\" y=\"-5\" width=\"10\" style=\"fill: none; visibility: hidden; pointer-events: all;\" height=\"52.5\"/></g></g><g class=\"slice-titles\"/></g></svg>"
      }
     },
     "e501fe1cfd7f47549caa981c5d057459": {
      "model_module": "@jupyter-widgets/base",
      "model_module_version": "1.0.0",
      "model_name": "LayoutModel",
      "state": {}
     },
     "f4552aa2d8454673bcb8c76d9a296bec": {
      "model_module": "@jupyter-widgets/controls",
      "model_module_version": "1.0.0",
      "model_name": "VBoxModel",
      "state": {
       "children": [
        "IPY_MODEL_bc620e3a0a9c4e05bb5b62750526bd4b",
        "IPY_MODEL_dc87459ca4ee43f3bb3f22097ff6e6cb"
       ],
       "layout": "IPY_MODEL_3b8ddd74f1ad458b911e5166a253e0cc"
      }
     }
    },
    "version_major": 2,
    "version_minor": 0
   }
  }
 },
 "nbformat": 4,
 "nbformat_minor": 1
}
